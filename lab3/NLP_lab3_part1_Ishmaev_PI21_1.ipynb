{
 "cells": [
  {
   "cell_type": "code",
   "execution_count": 1,
   "id": "a6cfc7ef-d364-4985-b643-11d170c9167c",
   "metadata": {
    "colab": {
     "base_uri": "https://localhost:8080/"
    },
    "id": "a6cfc7ef-d364-4985-b643-11d170c9167c",
    "outputId": "1c142d73-4914-4563-d2f5-50bd04a97804"
   },
   "outputs": [
    {
     "name": "stderr",
     "output_type": "stream",
     "text": [
      "[nltk_data] Downloading package punkt to\n",
      "[nltk_data]     C:\\Users\\user\\AppData\\Roaming\\nltk_data...\n",
      "[nltk_data]   Package punkt is already up-to-date!\n",
      "[nltk_data] Downloading package averaged_perceptron_tagger to\n",
      "[nltk_data]     C:\\Users\\user\\AppData\\Roaming\\nltk_data...\n",
      "[nltk_data]   Package averaged_perceptron_tagger is already up-to-\n",
      "[nltk_data]       date!\n",
      "[nltk_data] Downloading package wordnet to\n",
      "[nltk_data]     C:\\Users\\user\\AppData\\Roaming\\nltk_data...\n",
      "[nltk_data]   Package wordnet is already up-to-date!\n",
      "[nltk_data] Downloading package stopwords to\n",
      "[nltk_data]     C:\\Users\\user\\AppData\\Roaming\\nltk_data...\n",
      "[nltk_data]   Package stopwords is already up-to-date!\n"
     ]
    }
   ],
   "source": [
    "import random\n",
    "import torch\n",
    "import torch.nn as nn\n",
    "import torch.nn.functional as F\n",
    "from torchvision import transforms\n",
    "import numpy as np\n",
    "\n",
    "import json\n",
    "import pandas as pd\n",
    "import nltk\n",
    "import re\n",
    "\n",
    "nltk.download('punkt')\n",
    "nltk.download('averaged_perceptron_tagger')\n",
    "nltk.download('wordnet')\n",
    "nltk.download('stopwords')\n",
    "\n",
    "from nltk.corpus import stopwords\n",
    "from nltk.stem import WordNetLemmatizer\n",
    "from nltk.tokenize import word_tokenize\n",
    "from nltk.stem.snowball import SnowballStemmer\n",
    "\n",
    "from sklearn import preprocessing\n",
    "\n",
    "from tqdm.auto import tqdm\n",
    "\n",
    "import matplotlib.pyplot as plt\n",
    "\n",
    "from imblearn.over_sampling import RandomOverSampler"
   ]
  },
  {
   "cell_type": "markdown",
   "id": "1e4d372c-6f91-483a-b5b9-e6beb3cfd26b",
   "metadata": {
    "id": "1e4d372c-6f91-483a-b5b9-e6beb3cfd26b",
    "jp-MarkdownHeadingCollapsed": true
   },
   "source": [
    "# Задание 1"
   ]
  },
  {
   "cell_type": "markdown",
   "id": "2e380327-a8cd-4f07-ae0d-af65a311f853",
   "metadata": {
    "id": "2e380327-a8cd-4f07-ae0d-af65a311f853"
   },
   "source": [
    "Решите задачу расшифровки сообщения с помощью RNN. Представьте, что вам даны сообщения, зашифрованные с помощью шифра Цезаря, являющимся одним из самый простых шифров, в криптографии.\n",
    "Шифр цезаря работает следующим образом: каждая буква исходного алфавита сдвигается на K символов вправо:\n",
    "Пусть нам дано сообщение: message=\"RNN IS NOT AI\", тогда наше шифрование выполняющиеся по правилу f, с K=2, даст нам результат: f(message, K) = TPPAKUAPQVACK\n"
   ]
  },
  {
   "cell_type": "code",
   "execution_count": 2,
   "id": "f3c23ca1-2021-4bed-8a86-5f64637ac440",
   "metadata": {
    "id": "f3c23ca1-2021-4bed-8a86-5f64637ac440"
   },
   "outputs": [],
   "source": [
    "# Определим ключ и словарь\n",
    "key = 2\n",
    "vocab = [char for char in ' -ABCDEFGHIJKLMNOPQRSTUVWXYZ']"
   ]
  },
  {
   "cell_type": "code",
   "execution_count": 3,
   "id": "e87e4803-fdc8-4c22-98cd-8daaea0036fa",
   "metadata": {
    "id": "e87e4803-fdc8-4c22-98cd-8daaea0036fa"
   },
   "outputs": [],
   "source": [
    "def encrypt(text, key):\n",
    "    \"\"\"Returns the encrypted form of 'text'.\"\"\"\n",
    "    indexes = [vocab.index(char) for char in text]\n",
    "    encrypted_indexes = [(idx + key) % len(vocab) for idx in indexes]\n",
    "    encrypted_chars = [vocab[idx] for idx in encrypted_indexes]\n",
    "    encrypted = ''.join(encrypted_chars)\n",
    "    return encrypted"
   ]
  },
  {
   "cell_type": "code",
   "execution_count": 4,
   "id": "d7b169b7-1611-44f5-80d9-4dae4a9b6fee",
   "metadata": {
    "id": "d7b169b7-1611-44f5-80d9-4dae4a9b6fee"
   },
   "outputs": [],
   "source": [
    "def encrypted_dataset(dataset_len, k):\n",
    "    \"\"\"\n",
    "    Return: List(Tuple(Tensor encrypted, Tensor source))\n",
    "    \"\"\"\n",
    "    dataset = []\n",
    "    for x in range(dataset_len):\n",
    "        random_message  = ''.join([random.choice(vocab) for x in range(seq_len)])\n",
    "        encrypt_random_message = encrypt(''.join(random_message), k)\n",
    "        src = [vocab.index(x) for x in random_message]\n",
    "        tgt = [vocab.index(x) for x in encrypt_random_message]\n",
    "        dataset.append([torch.tensor(tgt), torch.tensor(src)])\n",
    "    return dataset"
   ]
  },
  {
   "cell_type": "code",
   "execution_count": 5,
   "id": "7e2c9d1d-ddf2-47f9-8fc5-8c70772ddd3f",
   "metadata": {
    "id": "7e2c9d1d-ddf2-47f9-8fc5-8c70772ddd3f"
   },
   "outputs": [],
   "source": [
    "class Decipher(nn.Module):\n",
    "    def __init__(self, vocab_size, embedding_dim, hidden_dim,\n",
    "                 rnn_type='simple'):\n",
    "        \"\"\"\n",
    "        :params: int vocab_size\n",
    "        :params: int embedding_dim\n",
    "        :params\n",
    "        \"\"\"\n",
    "        super(Decipher, self).__init__()\n",
    "        self.embed = nn.Embedding(vocab_size, embedding_dim)\n",
    "        if rnn_type == 'simple':\n",
    "            self.rnn = nn.RNN(embedding_dim, hidden_dim, num_layers = 2)\n",
    "\n",
    "        self.fc = nn.Linear(hidden_dim, vocab_size)\n",
    "        self.initial_hidden = torch.zeros(2, 1, hidden_dim)\n",
    "\n",
    "\n",
    "    def forward(self, cipher):\n",
    "        # CHECK INPUT SIZE\n",
    "        # Unsqueeze 1 dimension for batches\n",
    "        embd_x = self.embed(cipher).unsqueeze(1)\n",
    "        out_rnn, hidden = self.rnn(embd_x, self.initial_hidden)\n",
    "        # Apply the affine transform and transpose output in appropriate way\n",
    "        # because you want to get the softmax on vocabulary dimension\n",
    "        # in order to get probability of every letter\n",
    "        return self.fc(out_rnn).transpose(1, 2)"
   ]
  },
  {
   "cell_type": "code",
   "execution_count": 6,
   "id": "a428fade-8964-4e32-8f29-176eabd313dc",
   "metadata": {
    "id": "a428fade-8964-4e32-8f29-176eabd313dc"
   },
   "outputs": [],
   "source": [
    "num_examples = 256 # размер датасета\n",
    "seq_len = 18 # максимальная длина строки\n",
    "\n",
    "# определим параметры нашей модели\n",
    "embedding_dim = 5\n",
    "hidden_dim = 10\n",
    "vocab_size = len(vocab)\n",
    "lr = 1e-3\n",
    "\n",
    "criterion = torch.nn.CrossEntropyLoss()\n",
    "\n",
    "# Инициализируйте модель\n",
    "model = Decipher(vocab_size, embedding_dim, hidden_dim)\n",
    "\n",
    "# Инициализируйте оптимизатор: рекомендуется Adam\n",
    "optimizer = torch.optim.Adam(model.parameters(), lr=lr, weight_decay=1e-4)\n",
    "\n",
    "num_epochs = 10"
   ]
  },
  {
   "cell_type": "code",
   "execution_count": 7,
   "id": "0b3a90ff-e468-4120-b3dd-199853c3d7bb",
   "metadata": {
    "colab": {
     "base_uri": "https://localhost:8080/"
    },
    "id": "0b3a90ff-e468-4120-b3dd-199853c3d7bb",
    "outputId": "a164bda2-50cd-40ce-8a96-9fd875e6f836"
   },
   "outputs": [
    {
     "name": "stdout",
     "output_type": "stream",
     "text": [
      "Epoch: 0\n",
      "Loss: 2.7818\n",
      "Accuracy: 28.84%\n",
      "Epoch: 1\n",
      "Loss: 1.7837\n",
      "Accuracy: 66.71%\n",
      "Epoch: 2\n",
      "Loss: 1.2635\n",
      "Accuracy: 86.20%\n",
      "Epoch: 3\n",
      "Loss: 0.8769\n",
      "Accuracy: 93.14%\n",
      "Epoch: 4\n",
      "Loss: 0.5369\n",
      "Accuracy: 96.61%\n",
      "Epoch: 5\n",
      "Loss: 0.5034\n",
      "Accuracy: 96.57%\n",
      "Epoch: 6\n",
      "Loss: 0.3278\n",
      "Accuracy: 96.05%\n",
      "Epoch: 7\n",
      "Loss: 0.2534\n",
      "Accuracy: 96.59%\n",
      "Epoch: 8\n",
      "Loss: 0.2072\n",
      "Accuracy: 100.00%\n",
      "Epoch: 9\n",
      "Loss: 0.1445\n",
      "Accuracy: 100.00%\n"
     ]
    }
   ],
   "source": [
    "k = 10\n",
    "for x in range(num_epochs):\n",
    "    print('Epoch: {}'.format(x))\n",
    "    for encrypted, original in encrypted_dataset(num_examples, k):\n",
    "\n",
    "        scores = model(encrypted)\n",
    "        original = original.unsqueeze(1)\n",
    "        # Calculate loss\n",
    "        loss = criterion(scores, original)\n",
    "        # Zero grads\n",
    "        optimizer.zero_grad()\n",
    "        # Backpropagate\n",
    "        loss.backward()\n",
    "        # Update weights\n",
    "        optimizer.step()\n",
    "    print('Loss: {:6.4f}'.format(loss.item()))\n",
    "\n",
    "    with torch.no_grad():\n",
    "        matches, total = 0, 0\n",
    "        for encrypted, original in encrypted_dataset(num_examples, k):\n",
    "            # Compute a softmax over the outputs\n",
    "            predictions = F.softmax(model(encrypted), 1)\n",
    "            # Choose the character with the maximum probability (greedy decoding)\n",
    "            _, batch_out = predictions.max(dim=1)\n",
    "            # Remove batch\n",
    "            batch_out = batch_out.squeeze(1)\n",
    "            # Calculate accuracy\n",
    "            matches += torch.eq(batch_out, original).sum().item()\n",
    "            total += torch.numel(batch_out)\n",
    "        accuracy = matches / total\n",
    "        print('Accuracy: {:4.2f}%'.format(accuracy * 100))"
   ]
  },
  {
   "cell_type": "markdown",
   "id": "PKt_r5sh4b5q",
   "metadata": {
    "id": "PKt_r5sh4b5q"
   },
   "source": [
    "# Задание 2"
   ]
  },
  {
   "cell_type": "markdown",
   "id": "06c8260e-9814-4a81-8ada-bc6da7a963ed",
   "metadata": {
    "id": "06c8260e-9814-4a81-8ada-bc6da7a963ed"
   },
   "source": [
    "Примените RNN к классификации текстов из лабораторной работы №1 (на несбалансированных и балансированных классах). Сравните результаты с классическими методами машинного обучения. Сделайте выводы!"
   ]
  },
  {
   "cell_type": "code",
   "execution_count": 16,
   "id": "owKzRCd4gvkx",
   "metadata": {
    "id": "owKzRCd4gvkx"
   },
   "outputs": [],
   "source": [
    "lr = 0.001\n",
    "batch_size = 200\n",
    "num_epochs = 50\n",
    "device = \"cuda\" if torch.cuda.is_available() else \"cpu\"\n",
    "torch.cuda.empty_cache() if device == 'cuda' else None"
   ]
  },
  {
   "cell_type": "markdown",
   "id": "C2BRS8ejV3fO",
   "metadata": {
    "id": "C2BRS8ejV3fO"
   },
   "source": [
    "## Вспомогательные ф-ции"
   ]
  },
  {
   "cell_type": "code",
   "execution_count": 2,
   "id": "5cb79ffb-63c7-4d43-b35c-a373f77db7b4",
   "metadata": {},
   "outputs": [],
   "source": [
    "def pad_features(int_vector, max_len):\n",
    "    if (len(int_vector) <= max_len):\n",
    "      zeros = list(np.zeros(max_len - len(int_vector)).astype(int))\n",
    "      new = zeros + int_vector\n",
    "    else:\n",
    "      new = int_vector[: max_len]\n",
    "    return new"
   ]
  },
  {
   "cell_type": "code",
   "execution_count": 3,
   "id": "360c719e-3bb3-42c9-b19f-c6f46498a2ee",
   "metadata": {},
   "outputs": [],
   "source": [
    "def text2num(text, num_dict):\n",
    "    text = [num_dict[i] for i in text.split()]\n",
    "    return text"
   ]
  },
  {
   "cell_type": "code",
   "execution_count": 4,
   "id": "f03aff54-4974-4d0f-aee1-3cc69d170453",
   "metadata": {},
   "outputs": [],
   "source": [
    "def clean_text(text):\n",
    "    stemmer = SnowballStemmer('russian')\n",
    "    stop_words = set(stopwords.words('russian'))\n",
    "    lemmatizer = WordNetLemmatizer()    \n",
    "    text = re.sub(r'[^\\w\\s]', ' ', text)\n",
    "    text = re.sub(r'\\d+', ' ', text)\n",
    "    text = text.lower()\n",
    "    text = word_tokenize(text)\n",
    "    text = [lemmatizer.lemmatize(word) for word in text if word not in stop_words]\n",
    "    text = [word for word in text if len(word) > 2 and len(word) < 20]\n",
    "    text = [stemmer.stem(word) for word in text]\n",
    "    text = ' '.join(text)\n",
    "    return text"
   ]
  },
  {
   "cell_type": "code",
   "execution_count": 33,
   "id": "0e5acaa5-b42e-4f2b-b42d-e1d5ab96a098",
   "metadata": {},
   "outputs": [],
   "source": [
    "def prepare_data(header, review, head_dict, rev_dict):\n",
    "    header = clean_text(header)\n",
    "    review = clean_text(review)\n",
    "    header = text2num(header, head_dict)\n",
    "    review = text2num(review, rev_dict)\n",
    "    header = pad_features(header, 15)\n",
    "    review = pad_features(review, 400)\n",
    "    return torch.unsqueeze(torch.tensor(header), dim=0), torch.unsqueeze(torch.tensor(review), dim=0)"
   ]
  },
  {
   "cell_type": "code",
   "execution_count": 6,
   "id": "zfOoKcCnfS7i",
   "metadata": {
    "id": "zfOoKcCnfS7i"
   },
   "outputs": [],
   "source": [
    "class ToTensor:\n",
    "  def __init__(self):\n",
    "    pass\n",
    "    # Convert series to cuda-Tensors\n",
    "  def __call__(self, sample):\n",
    "      inputs, inputs2, targets = sample\n",
    "      return torch.tensor(inputs), torch.tensor(inputs2), torch.tensor([float(i) for i in targets])"
   ]
  },
  {
   "cell_type": "code",
   "execution_count": 7,
   "id": "PTWCVZcofMdq",
   "metadata": {
    "id": "PTWCVZcofMdq"
   },
   "outputs": [],
   "source": [
    "class GetFeaturesFromRNN(torch.nn.Module):\n",
    "  def forward(self, x):\n",
    "    x, _ = x\n",
    "    if len(x.shape) == 3:\n",
    "        return x[:, -1, :]\n",
    "    elif len(x.shape) == 2:\n",
    "        return x[:, -1]"
   ]
  },
  {
   "cell_type": "code",
   "execution_count": 8,
   "id": "tBCyIic-V7SL",
   "metadata": {
    "id": "tBCyIic-V7SL"
   },
   "outputs": [],
   "source": [
    "class EarlyStopping():\n",
    "  def __init__(self, min_delta=0.001, tolerance=15):\n",
    "    self.tolerance = tolerance\n",
    "    self.min_delta = min_delta\n",
    "    self.counter = 0\n",
    "    self.flag = False\n",
    "    self.min_loss = float('inf')\n",
    "\n",
    "  def __call__(self, val_loss):\n",
    "    if (val_loss - self.min_loss) > self.min_delta:\n",
    "      self.counter += 1\n",
    "      if self.counter >= self.tolerance:\n",
    "        self.flag = True\n",
    "    self.min_loss = val_loss if val_loss < self.min_loss else self.min_loss"
   ]
  },
  {
   "cell_type": "code",
   "execution_count": 9,
   "id": "9dzXORK1fJNi",
   "metadata": {
    "id": "9dzXORK1fJNi"
   },
   "outputs": [],
   "source": [
    "def train_one_epoch(model, train_dataloader, loss_func, optimizer, device):\n",
    "  model.train()\n",
    "  epoch_loss = []\n",
    "  for (local_head_batch, local_rev_batch, local_label) in train_dataloader:\n",
    "    (local_head_batch, local_rev_batch, local_label) = (local_head_batch.to(device), local_rev_batch.to(device), local_label.to(device))\n",
    "    optimizer.zero_grad()\n",
    "    y_pred = model.forward(local_head_batch, local_rev_batch)\n",
    "    #print(y_pred,\"\\n\\n\\n\", local_label)\n",
    "    curr_loss = criterion.forward(y_pred, local_label)\n",
    "    curr_loss.backward()\n",
    "    optimizer.step()\n",
    "    epoch_loss.append(curr_loss.item())\n",
    "  return np.mean(epoch_loss)\n",
    "\n",
    "#use with torch.no_grad()\n",
    "def val_one_epoch(model, val_dataloader, loss_func, device):\n",
    "  model.eval()\n",
    "  epoch_loss = []\n",
    "  for (local_head_batch, local_rev_batch, local_label) in val_dataloader:\n",
    "    (local_head_batch, local_rev_batch, local_label) = (local_head_batch.to(device), local_rev_batch.to(device), local_label.to(device))\n",
    "    y_pred = model.forward(local_head_batch, local_rev_batch)\n",
    "    curr_loss = criterion.forward(y_pred, local_label)\n",
    "    epoch_loss.append(curr_loss.item())\n",
    "  return np.mean(epoch_loss)\n",
    "\n",
    "def test_model(model, test_dataloader, device, classes):\n",
    "  model.eval()\n",
    "  test_hits = 0\n",
    "  total = 0\n",
    "  confusion_matrix = torch.zeros(len(classes), len(classes))\n",
    "  for (local_head_batch, local_rev_batch, local_label) in test_dataloader:\n",
    "    (local_head_batch, local_rev_batch, local_label) = (local_head_batch.to(device), local_rev_batch.to(device), local_label.to(device))\n",
    "    y_pred = model.forward(local_head_batch, local_rev_batch)\n",
    "    _, preds = torch.max(y_pred, 1)\n",
    "    #print(preds.view(-1))\n",
    "    #print(preds.view(-1).shape, local_label.view(-1).shape)\n",
    "    test_hits += torch.sum(preds.view(-1) == torch.max(local_label, 1)[1].view(-1))\n",
    "    total += torch.numel(preds.view(-1))\n",
    "    for t, p in zip(torch.max(local_label, 1)[1].view(-1), preds.view(-1)):\n",
    "        confusion_matrix[t.long(), p.long()] += 1\n",
    "  return confusion_matrix, test_hits, total"
   ]
  },
  {
   "cell_type": "markdown",
   "id": "QDvAWfCWPQF-",
   "metadata": {
    "id": "QDvAWfCWPQF-"
   },
   "source": [
    "## Модель"
   ]
  },
  {
   "cell_type": "code",
   "execution_count": 10,
   "id": "ob-nLWxZnOw8",
   "metadata": {
    "id": "ob-nLWxZnOw8"
   },
   "outputs": [],
   "source": [
    "class Classificator(torch.nn.Module):\n",
    "  def __init__(self, output_dim,\n",
    "               vocab_head_size, embedding_head_dim,\n",
    "               vocab_rev_size, embedding_rev_dim):\n",
    "    super(Classificator, self).__init__()\n",
    "    self.head_features = nn.Sequential(\n",
    "        nn.Embedding(vocab_head_size+1, embedding_dim=embedding_head_dim),\n",
    "        nn.LSTM(embedding_head_dim, 256, num_layers=2, batch_first=True, dropout=0.5),\n",
    "        GetFeaturesFromRNN()\n",
    "    )\n",
    "    self.review_features = nn.Sequential(\n",
    "        nn.Embedding(vocab_rev_size+1, embedding_dim=embedding_rev_dim),\n",
    "        nn.LSTM(embedding_rev_dim, 1024, num_layers=3, batch_first=True, dropout=0.5),\n",
    "        GetFeaturesFromRNN()\n",
    "    )\n",
    "    self.fc = nn.Sequential(\n",
    "        nn.Linear(1024+256, (1024+256)*2),\n",
    "        nn.ReLU(),\n",
    "        nn.Dropout(p=0.5),\n",
    "        nn.Linear((1024+256)*2, output_dim),\n",
    "        nn.LogSoftmax(dim=1)\n",
    "    )\n",
    "\n",
    "\n",
    "  def forward(self, x0, x1):\n",
    "    x0 = self.head_features.forward(x0)\n",
    "    x1 = self.review_features.forward(x1)\n",
    "    x = torch.cat((x0, x1), 1)\n",
    "    x = self.classificator(x)\n",
    "    return x"
   ]
  },
  {
   "cell_type": "markdown",
   "id": "bc8c2J0APLZT",
   "metadata": {
    "id": "bc8c2J0APLZT"
   },
   "source": [
    "## Датасет"
   ]
  },
  {
   "cell_type": "code",
   "execution_count": 11,
   "id": "v_-78JAg7bxo",
   "metadata": {
    "id": "v_-78JAg7bxo"
   },
   "outputs": [],
   "source": [
    "# создание датасета\n",
    "\n",
    "class Dataset(torch.utils.data.Dataset):\n",
    "  def __init__(self, transform=None, verbose=False, convert=False, oversample=False):\n",
    "\n",
    "    f = open(r\"C:\\Users\\user\\Desktop\\dz\\nlp\\data\\filename.json\", \"r\")\n",
    "    json_data = json.load(f)\n",
    "    f.close()\n",
    "\n",
    "    xy = pd.DataFrame()\n",
    "\n",
    "    xy['revVal'] = pd.Series([json['reviewRating']['ratingValue'] for json in json_data]).astype('int32')\n",
    "    xy['header'] = [json['name'] for json in json_data]\n",
    "    xy['review'] = [json['author']['reviewBody'] for json in json_data]\n",
    "      \n",
    "    if oversample:\n",
    "        max_size = xy['revVal'].value_counts().max()\n",
    "        lst = [xy]\n",
    "        for class_index, group in xy.groupby('revVal'):\n",
    "            lst.append(group.sample(max_size-len(group), replace=True))\n",
    "        xy = pd.concat(lst)\n",
    "\n",
    "    if convert:\n",
    "      stemmer = SnowballStemmer('russian')\n",
    "      stop_words = set(stopwords.words('russian'))\n",
    "      lemmatizer = WordNetLemmatizer()\n",
    "\n",
    "      xy['review'] = xy['review'].apply(clean_text)\n",
    "      xy['header'] = xy['header'].apply(clean_text)\n",
    "\n",
    "      self.rev_dict = {val: key + 1 for key, val in enumerate(set(\" \".join(xy['review'].to_list()).split()))}\n",
    "      self.head_dict = {val: key + 1 for key, val in enumerate(set(\" \".join(xy['header'].to_list()).split()))}\n",
    "\n",
    "      xy['review'] = xy['review'].apply(text2num, num_dict=self.rev_dict)\n",
    "      xy['header'] = xy['header'].apply(text2num, num_dict=self.head_dict)\n",
    "\n",
    "      xy['length_rev'] = xy.review.map(len)\n",
    "      max_len_rev = xy['length_rev'].max()\n",
    "\n",
    "      xy['length_head'] = xy.header.map(len)\n",
    "      max_len_head = xy['length_head'].max()\n",
    "\n",
    "      xy['review'] = xy['review'].apply(pad_features, max_len=max_len_rev)\n",
    "      xy['header'] = xy['header'].apply(pad_features, max_len=max_len_head)\n",
    "\n",
    "      def target_to_list(target):\n",
    "        dummy = [0, 0, 0, 0, 0]\n",
    "        dummy[target-1] = 1\n",
    "        return dummy\n",
    "\n",
    "      xy['revVal'] = xy['revVal'].apply(target_to_list)\n",
    "    \n",
    "        \n",
    "    self.data = xy\n",
    "    self.n_samples = xy.shape[0]\n",
    "    self.y_data = xy['revVal']\n",
    "    self.x_rev_data = xy['review']\n",
    "    self.x_head_data = xy['header']\n",
    "\n",
    "    if verbose:\n",
    "      print(f'y shape: {self.y_data.shape}')\n",
    "      print(f'x shape: {self.x_data.shape}')\n",
    "\n",
    "    self.transform = transform\n",
    "\n",
    "  def __len__(self):\n",
    "    return self.n_samples\n",
    "\n",
    "  def __getitem__(self, idx):\n",
    "    sample = self.x_head_data.iloc[idx],self.x_rev_data.iloc[idx],  self.y_data.iloc[idx]\n",
    "\n",
    "    if self.transform:\n",
    "      sample = self.transform(sample)\n",
    "\n",
    "    return sample"
   ]
  },
  {
   "cell_type": "markdown",
   "id": "-iXqKbTegLcv",
   "metadata": {
    "id": "-iXqKbTegLcv"
   },
   "source": [
    "## Загрузка и подготовка данных"
   ]
  },
  {
   "cell_type": "code",
   "execution_count": 12,
   "id": "301tXqj8gXWQ",
   "metadata": {
    "id": "301tXqj8gXWQ"
   },
   "outputs": [],
   "source": [
    "to_tensor = ToTensor()\n",
    "dataset = Dataset(transform=transforms.Compose([to_tensor]), convert=True, oversample=True)"
   ]
  },
  {
   "cell_type": "code",
   "execution_count": 17,
   "id": "iqqt9Eo8PwzZ",
   "metadata": {
    "id": "iqqt9Eo8PwzZ"
   },
   "outputs": [],
   "source": [
    "train_size = int(0.8*len(dataset))\n",
    "val_size = int(0.1*len(dataset))\n",
    "test_size = len(dataset) - train_size - val_size\n",
    "train_dataset, val_dataset, test_dataset = torch.utils.data.random_split(dataset, [train_size, val_size, test_size])"
   ]
  },
  {
   "cell_type": "code",
   "execution_count": 18,
   "id": "YU9Vuw9MTqVx",
   "metadata": {
    "id": "YU9Vuw9MTqVx"
   },
   "outputs": [],
   "source": [
    "train_loader = torch.utils.data.DataLoader(dataset=train_dataset,\n",
    "                                           batch_size=batch_size,\n",
    "                                           shuffle=True,\n",
    "                                           num_workers=0)\n",
    "val_loader = torch.utils.data.DataLoader(dataset=val_dataset,\n",
    "                                           batch_size=batch_size,\n",
    "                                           shuffle=False,\n",
    "                                           num_workers=0)\n",
    "test_loader = torch.utils.data.DataLoader(dataset=test_dataset,\n",
    "                                           batch_size=batch_size,\n",
    "                                           shuffle=False,\n",
    "                                           num_workers=0)"
   ]
  },
  {
   "cell_type": "markdown",
   "id": "cLKORwHggSWf",
   "metadata": {
    "id": "cLKORwHggSWf"
   },
   "source": [
    "## Загрузка и подготовка модели"
   ]
  },
  {
   "cell_type": "code",
   "execution_count": 19,
   "id": "5z_89dUFggoQ",
   "metadata": {
    "id": "5z_89dUFggoQ"
   },
   "outputs": [],
   "source": [
    "vocab_rev_size = len(dataset.rev_dict)\n",
    "vocab_head_size = len(dataset.head_dict)\n",
    "\n",
    "embedding_head_dim = 50\n",
    "embedding_rev_dim = 300\n",
    "\n",
    "output_dim = 5"
   ]
  },
  {
   "cell_type": "code",
   "execution_count": 20,
   "id": "IXy5XkbBghvo",
   "metadata": {
    "id": "IXy5XkbBghvo"
   },
   "outputs": [],
   "source": [
    "model = Classificator(output_dim,\n",
    "                      vocab_head_size, embedding_head_dim,\n",
    "                      vocab_rev_size, embedding_rev_dim).to(device)"
   ]
  },
  {
   "cell_type": "code",
   "execution_count": 21,
   "id": "B38Yx-L9gj4m",
   "metadata": {
    "colab": {
     "base_uri": "https://localhost:8080/"
    },
    "id": "B38Yx-L9gj4m",
    "outputId": "7b0f806e-a0fe-4c88-de3d-099a819bcc3d"
   },
   "outputs": [
    {
     "name": "stdout",
     "output_type": "stream",
     "text": [
      "кол-во параметров в модели = 30580989\n"
     ]
    }
   ],
   "source": [
    "print(f'кол-во параметров в модели = {sum(p.numel() for p in model.parameters() if p.requires_grad)}')"
   ]
  },
  {
   "cell_type": "code",
   "execution_count": 22,
   "id": "mLO-O689gnqC",
   "metadata": {
    "colab": {
     "base_uri": "https://localhost:8080/"
    },
    "id": "mLO-O689gnqC",
    "outputId": "ba451dc2-2943-4b4a-b928-ab2d1c478ea3"
   },
   "outputs": [
    {
     "data": {
      "text/plain": [
       "True"
      ]
     },
     "execution_count": 22,
     "metadata": {},
     "output_type": "execute_result"
    }
   ],
   "source": [
    "next(model.parameters()).is_cuda"
   ]
  },
  {
   "cell_type": "markdown",
   "id": "1-llQS1LPnQ3",
   "metadata": {
    "id": "1-llQS1LPnQ3"
   },
   "source": [
    "## Обучение модели"
   ]
  },
  {
   "cell_type": "code",
   "execution_count": 23,
   "id": "rj7P3KZatHKh",
   "metadata": {
    "id": "rj7P3KZatHKh"
   },
   "outputs": [],
   "source": [
    "criterion = torch.nn.CrossEntropyLoss()\n",
    "optimizer = torch.optim.Adam(\n",
    "    model.parameters(),\n",
    "    lr=lr,\n",
    ")\n",
    "early_stopping = EarlyStopping(min_delta=0.01, tolerance=15)"
   ]
  },
  {
   "cell_type": "code",
   "execution_count": 24,
   "id": "B3iWDR0ZbZzB",
   "metadata": {
    "colab": {
     "base_uri": "https://localhost:8080/",
     "height": 1000,
     "referenced_widgets": [
      "44b4135971ca49a4abc5497f86eeb909",
      "9c3280c39e6245b08cf4b9b8e0d34873",
      "87647dcca43b439aabf2b78cba09a44b",
      "f7082c22c97249fb8fcbf1719e1e9079",
      "b9d6801dd42346999d0a63325a6db78b",
      "da0d884867d143f2ae20bd8ca8461d00",
      "62810f2a5099440eafd91feb915bd59b",
      "b82d5b54075b4bb186e1730a56cfe33b",
      "e6723b450d8b462b8030fa7e6b0d97ba"
     ]
    },
    "id": "B3iWDR0ZbZzB",
    "outputId": "32afe8b4-004e-49d1-bc63-b114010b80c3"
   },
   "outputs": [
    {
     "data": {
      "application/vnd.jupyter.widget-view+json": {
       "model_id": "dde0c7bea0cf4a9390cb7f22f47b8b8b",
       "version_major": 2,
       "version_minor": 0
      },
      "text/plain": [
       "HBox(children=(IntProgress(value=0, max=50), HTML(value='')))"
      ]
     },
     "metadata": {},
     "output_type": "display_data"
    },
    {
     "name": "stdout",
     "output_type": "stream",
     "text": [
      "\n",
      "early stop at epoch №23\n"
     ]
    }
   ],
   "source": [
    "train_loss = []\n",
    "val_loss = []\n",
    "for epoch in tqdm(range(num_epochs)):\n",
    "  epoch_train_loss = train_one_epoch(model, train_loader, criterion, optimizer, device)\n",
    "  train_loss.append(epoch_train_loss)\n",
    "  with torch.no_grad():\n",
    "    epoch_val_loss = val_one_epoch(model, val_loader, criterion, device)\n",
    "    val_loss.append(epoch_val_loss)\n",
    "\n",
    "  early_stopping(epoch_val_loss)\n",
    "  if early_stopping.flag:\n",
    "    print(f'\\nearly stop at epoch №{epoch}')\n",
    "    break\n",
    "torch.cuda.empty_cache() if device == 'cuda' else None"
   ]
  },
  {
   "cell_type": "code",
   "execution_count": 41,
   "id": "6fe5ac98-b45d-4c57-9cbe-4c9b2dfc0a34",
   "metadata": {},
   "outputs": [
    {
     "data": {
      "text/plain": [
       "<Axes: >"
      ]
     },
     "execution_count": 41,
     "metadata": {},
     "output_type": "execute_result"
    },
    {
     "data": {
      "image/png": "[encoded data removed]",
      "text/plain": [
       "<Figure size 640x480 with 1 Axes>"
      ]
     },
     "metadata": {},
     "output_type": "display_data"
    }
   ],
   "source": [
    "df = pd.DataFrame({'val_loss': [np.mean(x) for x in val_loss], 'train_loss': [np.mean(x) for x in train_loss]})\n",
    "df.plot(kind='line')"
   ]
  },
  {
   "cell_type": "markdown",
   "id": "85c86db8-17c7-46e8-af46-fcc7fb00564b",
   "metadata": {
    "id": "85c86db8-17c7-46e8-af46-fcc7fb00564b"
   },
   "source": [
    "## тест модели"
   ]
  },
  {
   "cell_type": "code",
   "execution_count": 27,
   "id": "2672cd5e-1171-4a9a-956b-063312e2cd65",
   "metadata": {
    "colab": {
     "referenced_widgets": [
      "e83dcfa3aac24181bb6360243a2cebaf"
     ]
    },
    "id": "2672cd5e-1171-4a9a-956b-063312e2cd65",
    "outputId": "aa0a7806-5f92-4ed1-8d73-b6d7e234d941"
   },
   "outputs": [],
   "source": [
    "with torch.no_grad():\n",
    "    test_data = test_model(model, test_loader, device, [1, 2, 3, 4, 5])\n",
    "torch.cuda.empty_cache() if device == 'cuda' else None"
   ]
  },
  {
   "cell_type": "code",
   "execution_count": 28,
   "id": "4cd9ee21-f95d-4d44-9e3e-8e640b1fea6a",
   "metadata": {
    "id": "4cd9ee21-f95d-4d44-9e3e-8e640b1fea6a",
    "outputId": "2f90acab-1215-4df1-b510-315072c23706"
   },
   "outputs": [
    {
     "name": "stdout",
     "output_type": "stream",
     "text": [
      "overall acc = 97.79%\n"
     ]
    }
   ],
   "source": [
    "overall_accuracy = test_data[1].item()/test_data[2]\n",
    "print(f'overall acc = {round(overall_accuracy*100,2)}%')"
   ]
  },
  {
   "cell_type": "code",
   "execution_count": 29,
   "id": "3c32cbdc-ed77-4bf1-b507-7dc3521eb117",
   "metadata": {},
   "outputs": [
    {
     "data": {
      "text/plain": [
       "<Axes: >"
      ]
     },
     "execution_count": 29,
     "metadata": {},
     "output_type": "execute_result"
    },
    {
     "data": {
      "image/png": "[encoded data removed]",
      "text/plain": [
       "<Figure size 640x480 with 2 Axes>"
      ]
     },
     "metadata": {},
     "output_type": "display_data"
    }
   ],
   "source": [
    "from seaborn import heatmap\n",
    "heatmap(test_data[0])"
   ]
  },
  {
   "cell_type": "code",
   "execution_count": 30,
   "id": "eb19b665-d7c0-40b6-8614-05baac7639e8",
   "metadata": {},
   "outputs": [],
   "source": [
    "# так как модель нас устраивает, то сохраняем ее"
   ]
  },
  {
   "cell_type": "code",
   "execution_count": 31,
   "id": "3d05d0e5-f5ad-4cd4-b0f2-172510c96356",
   "metadata": {},
   "outputs": [],
   "source": [
    "torch.save(model.state_dict(), r'C:\\Users\\user\\Desktop\\dz\\nlp\\lab3\\files\\model_lab3.pth')\n",
    "torch.save(optimizer.state_dict(), r'C:\\Users\\user\\Desktop\\dz\\nlp\\lab3\\files\\optimizer_lab3.pth')"
   ]
  },
  {
   "cell_type": "code",
   "execution_count": 32,
   "id": "c08c67b7-17dc-46d5-8f72-0c505a091f7e",
   "metadata": {},
   "outputs": [],
   "source": [
    "with open(r'C:\\Users\\user\\Desktop\\dz\\nlp\\lab3\\files\\head_dict.json', 'w') as f:\n",
    "    json.dump(dataset.head_dict, f)\n",
    "with open(r'C:\\Users\\user\\Desktop\\dz\\nlp\\lab3\\files\\rev_dict.json', 'w') as f:\n",
    "    json.dump(dataset.rev_dict, f)"
   ]
  },
  {
   "cell_type": "markdown",
   "id": "bccf06fc-40fb-45bd-8240-a4b996215974",
   "metadata": {},
   "source": [
    "## Загрузка и использование модели"
   ]
  },
  {
   "cell_type": "code",
   "execution_count": 34,
   "id": "83e918ac-db7f-4831-b4f0-4cc1a5582e4f",
   "metadata": {},
   "outputs": [],
   "source": [
    "device = \"cuda\" if torch.cuda.is_available() else \"cpu\""
   ]
  },
  {
   "cell_type": "code",
   "execution_count": 35,
   "id": "6fba35df-3a2d-4e91-b0b9-e41392562e85",
   "metadata": {},
   "outputs": [],
   "source": [
    "f = open(r'C:\\Users\\user\\Desktop\\dz\\nlp\\lab3\\files\\head_dict.json', \"r\")\n",
    "head_dict = json.load(f)\n",
    "f.close()"
   ]
  },
  {
   "cell_type": "code",
   "execution_count": 36,
   "id": "70c2c2a0-f689-45d8-bfa0-73c73aa32bf7",
   "metadata": {},
   "outputs": [],
   "source": [
    "f = open(r'C:\\Users\\user\\Desktop\\dz\\nlp\\lab3\\files\\rev_dict.json', \"r\")\n",
    "rev_dict = json.load(f)\n",
    "f.close()"
   ]
  },
  {
   "cell_type": "code",
   "execution_count": 37,
   "id": "a7a600b0-bd73-4d3a-859f-7b7b7bfe88f6",
   "metadata": {},
   "outputs": [],
   "source": [
    "vocab_rev_size = len(rev_dict)\n",
    "vocab_head_size = len(head_dict)\n",
    "\n",
    "embedding_head_dim = 50\n",
    "embedding_rev_dim = 300\n",
    "\n",
    "output_dim = 5"
   ]
  },
  {
   "cell_type": "code",
   "execution_count": 38,
   "id": "de282c1e-2efe-4393-9bee-bb83d662a08b",
   "metadata": {},
   "outputs": [
    {
     "data": {
      "text/plain": [
       "Classificator(\n",
       "  (head_features): Sequential(\n",
       "    (0): Embedding(2040, 50)\n",
       "    (1): LSTM(50, 256, num_layers=2, batch_first=True, dropout=0.5)\n",
       "    (2): GetFeaturesFromRNN()\n",
       "  )\n",
       "  (review_features): Sequential(\n",
       "    (0): Embedding(13734, 300)\n",
       "    (1): LSTM(300, 1024, num_layers=3, batch_first=True, dropout=0.5)\n",
       "    (2): GetFeaturesFromRNN()\n",
       "  )\n",
       "  (classificator): Sequential(\n",
       "    (0): Linear(in_features=1280, out_features=2560, bias=True)\n",
       "    (1): ReLU()\n",
       "    (2): Dropout(p=0.5, inplace=False)\n",
       "    (3): Linear(in_features=2560, out_features=5, bias=True)\n",
       "    (4): LogSoftmax(dim=1)\n",
       "  )\n",
       ")"
      ]
     },
     "execution_count": 38,
     "metadata": {},
     "output_type": "execute_result"
    }
   ],
   "source": [
    "model = Classificator(output_dim,\n",
    "                      vocab_head_size, embedding_head_dim,\n",
    "                      vocab_rev_size, embedding_rev_dim).to(device)\n",
    "model.load_state_dict(torch.load(r'C:\\Users\\user\\Desktop\\dz\\nlp\\lab3\\files\\model_lab3.pth'))\n",
    "model.eval()"
   ]
  },
  {
   "cell_type": "code",
   "execution_count": 45,
   "id": "75d95881-c6f8-4ff6-8442-4e9b31d54a65",
   "metadata": {},
   "outputs": [
    {
     "name": "stdout",
     "output_type": "stream",
     "text": [
      "predicted score = 2\n"
     ]
    }
   ],
   "source": [
    "header = \"Просрочка в один день, дезинформация в чате банка\"\n",
    "review = \"Здравствуйте? 06.02.23 по графику был очередной платеж по потребительскому кредиту 17 236р., по ошибке на счете не оказалось нужной суммы и банк списал 17 100р., 136р. вышли на просрочку. Просрочку я обнаружил утром 07.02.23 и сразу внес недостающую сумму, о чем сообщил в чате приложения банка. Оператор информацию принял, и заверил что данная просрочка не попадет в кредитную историю (Скрины могу предоставить). Сегодня проверил КИ и обнаружил данную просрочку, на фоне всех остальных своевременных платежей по графику. Связался в чате приложения с оператором, оператор в свою очередь дал мне стандартный ответ, что все просрочки попадают в КИ и направил меня по всем вопросам связанным с корректировкой КИ в НБКИ. Прошу рассмотреть корректировку данной просрочки в индивидуальном порядке, т.к. считаю что сумма и срок незначительные, а кредитный рейтинг при этом снижается на 40 пунктов, что очень важно в данный момент для меня. Обязательства перед банком выполняю в полном объеме и своевременно. \"\n",
    "#revVal = 3\n",
    "header, review = prepare_data(header, review, head_dict, rev_dict)\n",
    "with torch.no_grad():\n",
    "    y_pred = model.forward(header.to(device), review.to(device))\n",
    "    _, preds = torch.max(y_pred, 1)\n",
    "    print(f'predicted score = {preds.item()}')"
   ]
  },
  {
   "cell_type": "markdown",
   "id": "0d15fd03-6598-48fc-8395-bca69f2740e1",
   "metadata": {
    "id": "0d15fd03-6598-48fc-8395-bca69f2740e1"
   },
   "source": [
    "## Выводы по заданию"
   ]
  },
  {
   "cell_type": "markdown",
   "id": "401cfd1e-e424-4c22-8587-bd78be62bbe4",
   "metadata": {
    "id": "401cfd1e-e424-4c22-8587-bd78be62bbe4"
   },
   "source": [
    "Точность сильно поднялась, по сравнению с прошлым решением задачи, так как был использован более подходящий для этой задачи стек технологий. Эмбединги и рекурентность позволили нам принимать во внимание не только частоту слов, но и создавать смысловые веса, которые определяются по соседям, улучшить модель можно, меняя различные параметры и/или добавляя новые слои"
   ]
  },
  {
   "cell_type": "markdown",
   "id": "29e1f061-2845-4821-b307-c9087c0a4c4d",
   "metadata": {
    "id": "29e1f061-2845-4821-b307-c9087c0a4c4d"
   },
   "source": [
    "# Задание 3"
   ]
  },
  {
   "cell_type": "markdown",
   "id": "8fc5a2d1-d73e-4fd1-91be-da96c3812722",
   "metadata": {
    "id": "8fc5a2d1-d73e-4fd1-91be-da96c3812722"
   },
   "source": [
    "Для настоящего корпуса собраний сочинений Федора Михайловича Достоевского сделайте следующие задания:\n",
    "Сколько слов и предложений в датасете?\n",
    "Каковы частоты для слов «бесы», «семья», «брат». Введите значение, округленное до 5 знаков?\n",
    "Сгенерируйте текст, который состоит из слов с вероятностями появления от 0. 85 до 0.95 и итоговое предложение состоит из 10 слов.\n"
   ]
  },
  {
   "cell_type": "markdown",
   "id": "9b361158-f998-4963-8f95-d9c45bed6fa7",
   "metadata": {
    "id": "9b361158-f998-4963-8f95-d9c45bed6fa7"
   },
   "source": [
    "## Подготовка к заданию"
   ]
  },
  {
   "cell_type": "code",
   "execution_count": null,
   "id": "92cce47c-3331-492d-a89e-0aae9e8cbb9e",
   "metadata": {
    "id": "92cce47c-3331-492d-a89e-0aae9e8cbb9e"
   },
   "outputs": [],
   "source": [
    "f = open('dostoevsky.txt', 'r', encoding='utf-8')\n",
    "text = f.read()"
   ]
  },
  {
   "cell_type": "markdown",
   "id": "98c90074-90ab-41fb-bfb4-fcd810690ca3",
   "metadata": {
    "id": "98c90074-90ab-41fb-bfb4-fcd810690ca3"
   },
   "source": [
    "## Сколько слов и предложений в датасете?"
   ]
  },
  {
   "cell_type": "code",
   "execution_count": null,
   "id": "80rIGc3rEFIv",
   "metadata": {
    "colab": {
     "base_uri": "https://localhost:8080/"
    },
    "id": "80rIGc3rEFIv",
    "outputId": "07c647e0-8ca2-4688-f0a3-b97b7923faea"
   },
   "outputs": [],
   "source": [
    "import nltk\n",
    "import re\n",
    "\n",
    "nltk.download('punkt')\n",
    "nltk.download('averaged_perceptron_tagger')\n",
    "nltk.download('wordnet')\n",
    "nltk.download('stopwords')\n",
    "\n",
    "from nltk.corpus import stopwords\n",
    "from nltk.stem import WordNetLemmatizer\n",
    "from nltk.tokenize import word_tokenize\n",
    "from nltk.stem.snowball import SnowballStemmer\n",
    "\n",
    "stemmer = SnowballStemmer('russian')\n",
    "stop_words = set(stopwords.words('russian'))\n",
    "lemmatizer = WordNetLemmatizer()\n",
    "\n",
    "def clean_text(text):\n",
    "  text = re.sub(r'[^\\w\\s]', ' ', text)\n",
    "  text = re.sub(r'\\d+', ' ', text)\n",
    "  text = text.lower()\n",
    "  text = word_tokenize(text)\n",
    "  text = [lemmatizer.lemmatize(word) for word in text if word not in stop_words]\n",
    "  text = [stemmer.stem(word) for word in text]\n",
    "  text = ' '.join(text)\n",
    "  return text"
   ]
  },
  {
   "cell_type": "code",
   "execution_count": null,
   "id": "4da25ebe-e02b-4e0a-9fe0-058e7f5c1f57",
   "metadata": {
    "colab": {
     "base_uri": "https://localhost:8080/"
    },
    "id": "4da25ebe-e02b-4e0a-9fe0-058e7f5c1f57",
    "outputId": "4d2cd08f-66a1-4658-a208-404e19adf12c"
   },
   "outputs": [],
   "source": [
    "from nltk import word_tokenize\n",
    "text_tokens = word_tokenize(clean_text(text))\n",
    "print('words counter: ', len(text_tokens))"
   ]
  },
  {
   "cell_type": "code",
   "execution_count": null,
   "id": "af12563c-a779-47a5-a933-1fb0790ce995",
   "metadata": {
    "colab": {
     "base_uri": "https://localhost:8080/"
    },
    "id": "af12563c-a779-47a5-a933-1fb0790ce995",
    "outputId": "ffcf13b2-c312-4bf6-9bae-996b865b71a2"
   },
   "outputs": [],
   "source": [
    "from nltk.tokenize import sent_tokenize\n",
    "print('sentences counter: ', len(sent_tokenize(text)))"
   ]
  },
  {
   "cell_type": "markdown",
   "id": "e4b02ff5-c74e-464b-a805-8da1688db2b2",
   "metadata": {
    "id": "e4b02ff5-c74e-464b-a805-8da1688db2b2"
   },
   "source": [
    "## Каковы частоты для слов «бесы», «семья», «брат». Введите значение, округленное до 5 знаков?"
   ]
  },
  {
   "cell_type": "code",
   "execution_count": null,
   "id": "3c4384b9-f64f-45b0-8807-7a9d8f449c49",
   "metadata": {
    "id": "3c4384b9-f64f-45b0-8807-7a9d8f449c49"
   },
   "outputs": [],
   "source": [
    "text = nltk.Text(text_tokens)"
   ]
  },
  {
   "cell_type": "code",
   "execution_count": null,
   "id": "604236b6-0e22-4a34-a4b3-e829fcc17a8f",
   "metadata": {
    "id": "604236b6-0e22-4a34-a4b3-e829fcc17a8f"
   },
   "outputs": [],
   "source": [
    "from nltk.probability import FreqDist\n",
    "fdist = FreqDist(text)"
   ]
  },
  {
   "cell_type": "code",
   "execution_count": null,
   "id": "5f7d3b71-d6e5-45a6-9a8b-1f0a9b3ecd3b",
   "metadata": {
    "colab": {
     "base_uri": "https://localhost:8080/"
    },
    "id": "5f7d3b71-d6e5-45a6-9a8b-1f0a9b3ecd3b",
    "outputId": "379dfff0-8167-4a51-ae98-1f64b8b585d7"
   },
   "outputs": [],
   "source": [
    "print(f\"бесы - {round(fdist[clean_text('бесы')]/len(text_tokens), 5)}, семья - {round(fdist[clean_text('семья')]/len(text_tokens), 5)}, брат - {round(fdist[clean_text('брат')]/len(text_tokens), 5)}\")"
   ]
  },
  {
   "cell_type": "markdown",
   "id": "745e69fd-869c-4cc9-a3aa-e7e013983933",
   "metadata": {
    "id": "745e69fd-869c-4cc9-a3aa-e7e013983933"
   },
   "source": [
    "## Сгенерируйте текст, который состоит из слов с вероятностями появления от 0. 85 до 0.95 и итоговое предложение состоит из 10 слов."
   ]
  },
  {
   "cell_type": "markdown",
   "id": "19b8af03-d61f-40d3-ae50-65e396fce744",
   "metadata": {
    "id": "19b8af03-d61f-40d3-ae50-65e396fce744"
   },
   "source": [
    "считаю, что задание составленно некорректно (или не достаточно прояснено), так как основываясь на том, что у нас имеется, слово \"и\" является самым частым в данном корпусе с частотой  = 0.0448 => вероятность появления \"и\" на одной из 10 позиций с повторением (т.е. в рассчет берется тот факт, что слово \"и\" может повторяться в предложении) рассчитвается по ф-ле $P = 1 - (1 - p_i)^l; l - $кол-во позиций в предложении"
   ]
  },
  {
   "cell_type": "code",
   "execution_count": null,
   "id": "8ce8321e-2a63-44b1-9005-bc56813718fe",
   "metadata": {
    "id": "8ce8321e-2a63-44b1-9005-bc56813718fe",
    "outputId": "c4c22e48-b411-4bf2-8485-b12d5f5a1679"
   },
   "outputs": [],
   "source": [
    "fdist.most_common(1)[0][1]/len(text_tokens)"
   ]
  }
 ],
 "metadata": {
  "colab": {
   "provenance": []
  },
  "kernelspec": {
   "display_name": "Python 3 (ipykernel)",
   "language": "python",
   "name": "python3"
  },
  "language_info": {
   "codemirror_mode": {
    "name": "ipython",
    "version": 3
   },
   "file_extension": ".py",
   "mimetype": "text/x-python",
   "name": "python",
   "nbconvert_exporter": "python",
   "pygments_lexer": "ipython3",
   "version": "3.11.6"
  },
  "widgets": {
   "application/vnd.jupyter.widget-state+json": {
    "44b4135971ca49a4abc5497f86eeb909": {
     "model_module": "@jupyter-widgets/controls",
     "model_module_version": "2.0.0",
     "model_name": "HBoxModel",
     "state": {
      "_dom_classes": [],
      "_model_module": "@jupyter-widgets/controls",
      "_model_module_version": "2.0.0",
      "_model_name": "HBoxModel",
      "_view_count": null,
      "_view_module": "@jupyter-widgets/controls",
      "_view_module_version": "2.0.0",
      "_view_name": "HBoxView",
      "box_style": "",
      "children": [
       "IPY_MODEL_9c3280c39e6245b08cf4b9b8e0d34873",
       "IPY_MODEL_87647dcca43b439aabf2b78cba09a44b"
      ],
      "layout": "IPY_MODEL_f7082c22c97249fb8fcbf1719e1e9079",
      "tabbable": null,
      "tooltip": null
     }
    },
    "62810f2a5099440eafd91feb915bd59b": {
     "model_module": "@jupyter-widgets/base",
     "model_module_version": "2.0.0",
     "model_name": "LayoutModel",
     "state": {
      "_model_module": "@jupyter-widgets/base",
      "_model_module_version": "2.0.0",
      "_model_name": "LayoutModel",
      "_view_count": null,
      "_view_module": "@jupyter-widgets/base",
      "_view_module_version": "2.0.0",
      "_view_name": "LayoutView",
      "align_content": null,
      "align_items": null,
      "align_self": null,
      "border_bottom": null,
      "border_left": null,
      "border_right": null,
      "border_top": null,
      "bottom": null,
      "display": null,
      "flex": null,
      "flex_flow": null,
      "grid_area": null,
      "grid_auto_columns": null,
      "grid_auto_flow": null,
      "grid_auto_rows": null,
      "grid_column": null,
      "grid_gap": null,
      "grid_row": null,
      "grid_template_areas": null,
      "grid_template_columns": null,
      "grid_template_rows": null,
      "height": null,
      "justify_content": null,
      "justify_items": null,
      "left": null,
      "margin": null,
      "max_height": null,
      "max_width": null,
      "min_height": null,
      "min_width": null,
      "object_fit": null,
      "object_position": null,
      "order": null,
      "overflow": null,
      "padding": null,
      "right": null,
      "top": null,
      "visibility": null,
      "width": null
     }
    },
    "87647dcca43b439aabf2b78cba09a44b": {
     "model_module": "@jupyter-widgets/controls",
     "model_module_version": "2.0.0",
     "model_name": "HTMLModel",
     "state": {
      "_dom_classes": [],
      "_model_module": "@jupyter-widgets/controls",
      "_model_module_version": "2.0.0",
      "_model_name": "HTMLModel",
      "_view_count": null,
      "_view_module": "@jupyter-widgets/controls",
      "_view_module_version": "2.0.0",
      "_view_name": "HTMLView",
      "description": "",
      "description_allow_html": false,
      "layout": "IPY_MODEL_62810f2a5099440eafd91feb915bd59b",
      "placeholder": "​",
      "style": "IPY_MODEL_b82d5b54075b4bb186e1730a56cfe33b",
      "tabbable": null,
      "tooltip": null,
      "value": "  3% 3/100 [00:01&lt;01:05,  1.49it/s]"
     }
    },
    "9c3280c39e6245b08cf4b9b8e0d34873": {
     "model_module": "@jupyter-widgets/controls",
     "model_module_version": "2.0.0",
     "model_name": "IntProgressModel",
     "state": {
      "_dom_classes": [],
      "_model_module": "@jupyter-widgets/controls",
      "_model_module_version": "2.0.0",
      "_model_name": "IntProgressModel",
      "_view_count": null,
      "_view_module": "@jupyter-widgets/controls",
      "_view_module_version": "2.0.0",
      "_view_name": "ProgressView",
      "bar_style": "danger",
      "description": "",
      "description_allow_html": false,
      "layout": "IPY_MODEL_b9d6801dd42346999d0a63325a6db78b",
      "max": 100,
      "min": 0,
      "orientation": "horizontal",
      "style": "IPY_MODEL_da0d884867d143f2ae20bd8ca8461d00",
      "tabbable": null,
      "tooltip": null,
      "value": 3
     }
    },
    "b82d5b54075b4bb186e1730a56cfe33b": {
     "model_module": "@jupyter-widgets/controls",
     "model_module_version": "2.0.0",
     "model_name": "HTMLStyleModel",
     "state": {
      "_model_module": "@jupyter-widgets/controls",
      "_model_module_version": "2.0.0",
      "_model_name": "HTMLStyleModel",
      "_view_count": null,
      "_view_module": "@jupyter-widgets/base",
      "_view_module_version": "2.0.0",
      "_view_name": "StyleView",
      "background": null,
      "description_width": "",
      "font_size": null,
      "text_color": null
     }
    },
    "b9d6801dd42346999d0a63325a6db78b": {
     "model_module": "@jupyter-widgets/base",
     "model_module_version": "2.0.0",
     "model_name": "LayoutModel",
     "state": {
      "_model_module": "@jupyter-widgets/base",
      "_model_module_version": "2.0.0",
      "_model_name": "LayoutModel",
      "_view_count": null,
      "_view_module": "@jupyter-widgets/base",
      "_view_module_version": "2.0.0",
      "_view_name": "LayoutView",
      "align_content": null,
      "align_items": null,
      "align_self": null,
      "border_bottom": null,
      "border_left": null,
      "border_right": null,
      "border_top": null,
      "bottom": null,
      "display": null,
      "flex": null,
      "flex_flow": null,
      "grid_area": null,
      "grid_auto_columns": null,
      "grid_auto_flow": null,
      "grid_auto_rows": null,
      "grid_column": null,
      "grid_gap": null,
      "grid_row": null,
      "grid_template_areas": null,
      "grid_template_columns": null,
      "grid_template_rows": null,
      "height": null,
      "justify_content": null,
      "justify_items": null,
      "left": null,
      "margin": null,
      "max_height": null,
      "max_width": null,
      "min_height": null,
      "min_width": null,
      "object_fit": null,
      "object_position": null,
      "order": null,
      "overflow": null,
      "padding": null,
      "right": null,
      "top": null,
      "visibility": null,
      "width": null
     }
    },
    "da0d884867d143f2ae20bd8ca8461d00": {
     "model_module": "@jupyter-widgets/controls",
     "model_module_version": "2.0.0",
     "model_name": "ProgressStyleModel",
     "state": {
      "_model_module": "@jupyter-widgets/controls",
      "_model_module_version": "2.0.0",
      "_model_name": "ProgressStyleModel",
      "_view_count": null,
      "_view_module": "@jupyter-widgets/base",
      "_view_module_version": "2.0.0",
      "_view_name": "StyleView",
      "bar_color": null,
      "description_width": ""
     }
    },
    "f7082c22c97249fb8fcbf1719e1e9079": {
     "model_module": "@jupyter-widgets/base",
     "model_module_version": "2.0.0",
     "model_name": "LayoutModel",
     "state": {
      "_model_module": "@jupyter-widgets/base",
      "_model_module_version": "2.0.0",
      "_model_name": "LayoutModel",
      "_view_count": null,
      "_view_module": "@jupyter-widgets/base",
      "_view_module_version": "2.0.0",
      "_view_name": "LayoutView",
      "align_content": null,
      "align_items": null,
      "align_self": null,
      "border_bottom": null,
      "border_left": null,
      "border_right": null,
      "border_top": null,
      "bottom": null,
      "display": null,
      "flex": null,
      "flex_flow": null,
      "grid_area": null,
      "grid_auto_columns": null,
      "grid_auto_flow": null,
      "grid_auto_rows": null,
      "grid_column": null,
      "grid_gap": null,
      "grid_row": null,
      "grid_template_areas": null,
      "grid_template_columns": null,
      "grid_template_rows": null,
      "height": null,
      "justify_content": null,
      "justify_items": null,
      "left": null,
      "margin": null,
      "max_height": null,
      "max_width": null,
      "min_height": null,
      "min_width": null,
      "object_fit": null,
      "object_position": null,
      "order": null,
      "overflow": null,
      "padding": null,
      "right": null,
      "top": null,
      "visibility": null,
      "width": null
     }
    }
   }
  }
 },
 "nbformat": 4,
 "nbformat_minor": 5
}

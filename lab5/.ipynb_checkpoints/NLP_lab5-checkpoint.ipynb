{
 "cells": [
  {
   "cell_type": "code",
   "execution_count": 38,
   "metadata": {
    "id": "JX1PAJTa3a49"
   },
   "outputs": [],
   "source": [
    "import torch\n",
    "import torch.nn as nn\n",
    "import pandas as pd\n",
    "import json\n",
    "import numpy as np\n",
    "\n",
    "from transformers import BertTokenizer, BertModel, BertForMaskedLM\n",
    "\n",
    "import urllib\n",
    "import nltk\n",
    "import random\n",
    "import copy"
   ]
  },
  {
   "cell_type": "markdown",
   "metadata": {
    "id": "lXPZCgxL3huT"
   },
   "source": [
    "# Задание 2"
   ]
  },
  {
   "cell_type": "code",
   "execution_count": null,
   "metadata": {
    "id": "ij-f030h3jG2"
   },
   "outputs": [],
   "source": [
    "labels = {1:0,\n",
    "          2:1,\n",
    "          3:2,\n",
    "          4:3,\n",
    "          5:4}\n",
    "class Dataset(torch.utils.data.Dataset):\n",
    "    def __init__(self, oversample_bool=True):\n",
    "        f = open(r\"/content/filename.json\", \"r\")\n",
    "        json_data = json.load(f)\n",
    "        f.close()\n",
    "\n",
    "        df = pd.DataFrame()\n",
    "\n",
    "        df['class'] = pd.Series([json['reviewRating']['ratingValue'] for json in json_data]).astype('int32')\n",
    "        df['text'] = [json['author']['reviewBody'] for json in json_data]\n",
    "\n",
    "        def oversample(df):\n",
    "            max_size = df['class'].value_counts().max()\n",
    "            lst = [df]\n",
    "            for cls_idx, group in df.groupby('class'):\n",
    "                lst.append(group.sample(max_size-len(group), replace=True))\n",
    "            new_df = pd.concat(lst)\n",
    "            return new_df\n",
    "        df = oversample(df) if oversample_bool else df\n",
    "\n",
    "        tokenizer = BertTokenizer.from_pretrained('cointegrated/rubert-tiny')\n",
    "\n",
    "        self.labels = [labels[label] for label in df['class']]\n",
    "        self.texts = [tokenizer(text,\n",
    "                                padding='max_length', max_length=512, truncation=True, return_tensors='pt') for text in df['text']]\n",
    "\n",
    "    def __len__(self):\n",
    "        return len(self.labels)\n",
    "\n",
    "    def __getitem__(self, idx):\n",
    "        return self.texts[idx], self.labels[idx]"
   ]
  },
  {
   "cell_type": "code",
   "execution_count": null,
   "metadata": {
    "id": "hN_qkOa6AUxX"
   },
   "outputs": [],
   "source": [
    "class EarlyStopping():\n",
    "    def __init__(self, min_delta=0.001, tolerance=20):\n",
    "        self.tolerance = tolerance\n",
    "        self.min_delta = min_delta\n",
    "        self.counter = 0\n",
    "        self.flag = False\n",
    "        self.min_loss = 1000\n",
    "\n",
    "    def __call__(self, val_loss):\n",
    "        if (val_loss - self.min_loss) > self.min_delta:\n",
    "            self.counter += 1\n",
    "        if self.counter >= self.tolerance:\n",
    "            self.flag = True\n",
    "        self.min_loss = val_loss if val_loss < self.min_loss else self.min_loss"
   ]
  },
  {
   "cell_type": "code",
   "execution_count": null,
   "metadata": {
    "id": "rh2y77NW9p7L"
   },
   "outputs": [],
   "source": [
    "class Model(nn.Module):\n",
    "    def __init__(self, dropout=0.5):\n",
    "        super(Model, self).__init__()\n",
    "        self.bert = BertModel.from_pretrained('cointegrated/rubert-tiny')\n",
    "        self.dropout = nn.Dropout(dropout)\n",
    "        self.linear = nn.Linear(312, 5)\n",
    "        self.act = nn.LogSoftmax()\n",
    "\n",
    "    def forward(self, input_id, mask):\n",
    "        _, x = self.bert(input_ids=input_id, attention_mask=mask, return_dict=False)\n",
    "        x = self.dropout(x)\n",
    "        x = self.linear(x)\n",
    "        x = self.act(x)\n",
    "        return x"
   ]
  },
  {
   "cell_type": "code",
   "execution_count": null,
   "metadata": {
    "id": "mZ1541td-ux-"
   },
   "outputs": [],
   "source": [
    "def train_one_epoch(model, dataloader, criteriation, optimizer, device):\n",
    "    total_loss = 0\n",
    "    model.train()\n",
    "    for input, label in dataloader:\n",
    "        label = label.to(device)\n",
    "        mask = input['attention_mask'].to(device)\n",
    "        input_id = input['input_ids'].squeeze(1).to(device)\n",
    "\n",
    "        output = model(input_id, mask)\n",
    "\n",
    "        batch_loss = criteriation(output, label)\n",
    "        total_loss += batch_loss.item()\n",
    "\n",
    "        model.zero_grad()\n",
    "        batch_loss.backward()\n",
    "        optimizer.step()\n",
    "    return total_loss"
   ]
  },
  {
   "cell_type": "code",
   "execution_count": null,
   "metadata": {
    "id": "mCzV5g6AAgwG"
   },
   "outputs": [],
   "source": [
    "def val_one_epoch(model, dataloader, criteriation, device):\n",
    "    total_loss = 0\n",
    "    model.eval()\n",
    "    for input, label in dataloader:\n",
    "        label = label.to(device)\n",
    "        mask = input['attention_mask'].to(device)\n",
    "        input_id = input['input_ids'].squeeze(1).to(device)\n",
    "\n",
    "        output = model(input_id, mask)\n",
    "\n",
    "        batch_loss = criteriation(output, label)\n",
    "        total_loss += batch_loss.item()\n",
    "\n",
    "    return total_loss"
   ]
  },
  {
   "cell_type": "code",
   "execution_count": null,
   "metadata": {
    "id": "CL1TH54-GQew"
   },
   "outputs": [],
   "source": [
    "def test_model(model, test_dataloader, device, classes):\n",
    "    model.eval()\n",
    "    test_hits = 0\n",
    "    total = 0\n",
    "    confusion_matrix = torch.zeros(len(classes), len(classes))\n",
    "    for input, label in test_dataloader:\n",
    "        label = label.to(device)\n",
    "        mask = input['attention_mask'].to(device)\n",
    "        input_id = input['input_ids'].squeeze(1).to(device)\n",
    "\n",
    "        y_pred = model(input_id, mask)\n",
    "        _, preds = torch.max(y_pred, 1)\n",
    "        test_hits += torch.sum(preds.view(-1) == label.view(-1))\n",
    "        total += torch.numel(preds.view(-1))\n",
    "        for t, p in zip(label.view(-1), preds.view(-1)):\n",
    "            confusion_matrix[t.long(), p.long()] += 1\n",
    "    return confusion_matrix, test_hits, total"
   ]
  },
  {
   "cell_type": "code",
   "execution_count": null,
   "metadata": {
    "id": "xhdVh94e_7Gk"
   },
   "outputs": [],
   "source": [
    "BATCH_SIZE = 100\n",
    "INIT_LR = 1e-3\n",
    "EPOCH = 2\n",
    "device = \"cuda\" if torch.cuda.is_available() else \"cpu\"\n",
    "torch.cuda.empty_cache() if device == 'cuda' else None"
   ]
  },
  {
   "cell_type": "code",
   "execution_count": null,
   "metadata": {
    "id": "SQKasrE2AABU"
   },
   "outputs": [],
   "source": [
    "dataset = Dataset()"
   ]
  },
  {
   "cell_type": "code",
   "execution_count": null,
   "metadata": {
    "id": "D9lGLKdrAE0O"
   },
   "outputs": [],
   "source": [
    "trainSize = int(0.8*len(dataset))\n",
    "valSize = int(0.1*len(dataset))\n",
    "testSize = len(dataset) - trainSize - valSize\n",
    "train_dataset, val_dataset, test_dataset = torch.utils.data.random_split(dataset, [trainSize, valSize, testSize])"
   ]
  },
  {
   "cell_type": "code",
   "execution_count": null,
   "metadata": {
    "id": "v-tHB5P_AHQ8"
   },
   "outputs": [],
   "source": [
    "trainLoader = torch.utils.data.DataLoader(train_dataset, batch_size=BATCH_SIZE, shuffle=True, pin_memory=True, num_workers = 0)\n",
    "valLoader = torch.utils.data.DataLoader(val_dataset, batch_size=BATCH_SIZE, shuffle=True, pin_memory=True, num_workers = 0)\n",
    "testLoader = torch.utils.data.DataLoader(test_dataset, batch_size=BATCH_SIZE, shuffle=False, pin_memory=True, num_workers = 0)"
   ]
  },
  {
   "cell_type": "code",
   "execution_count": null,
   "metadata": {
    "colab": {
     "base_uri": "https://localhost:8080/"
    },
    "id": "EnyAqc7oAIOu",
    "outputId": "119faf6a-c368-4ea3-f043-d88f2447a71c"
   },
   "outputs": [
    {
     "name": "stdout",
     "output_type": "stream",
     "text": [
      "кол-во параметров в модели = 11785733\n"
     ]
    }
   ],
   "source": [
    "model = Model().to(device)\n",
    "print(f'кол-во параметров в модели = {sum(p.numel() for p in model.parameters() if p.requires_grad)}')"
   ]
  },
  {
   "cell_type": "code",
   "execution_count": null,
   "metadata": {
    "colab": {
     "base_uri": "https://localhost:8080/"
    },
    "id": "HVx6V_xoAN7M",
    "outputId": "d625f89a-6c15-4415-9ffe-aab23c6cca58"
   },
   "outputs": [
    {
     "data": {
      "text/plain": [
       "True"
      ]
     },
     "execution_count": 12,
     "metadata": {},
     "output_type": "execute_result"
    }
   ],
   "source": [
    "next(model.parameters()).is_cuda"
   ]
  },
  {
   "cell_type": "code",
   "execution_count": null,
   "metadata": {
    "id": "fSvUXQuyAPkv"
   },
   "outputs": [],
   "source": [
    "criterion = torch.nn.CrossEntropyLoss().to(device)\n",
    "optimizer = torch.optim.Adam(\n",
    "    model.parameters(),\n",
    "    lr=INIT_LR,\n",
    ")\n",
    "early_stopping = EarlyStopping(min_delta=0.01, tolerance=10)"
   ]
  },
  {
   "cell_type": "code",
   "execution_count": null,
   "metadata": {
    "colab": {
     "base_uri": "https://localhost:8080/"
    },
    "id": "FgV7pj_OARtF",
    "outputId": "9cb24b74-608e-48a9-9a89-b05efbaaa957"
   },
   "outputs": [
    {
     "name": "stderr",
     "output_type": "stream",
     "text": [
      "/usr/local/lib/python3.10/dist-packages/torch/nn/modules/module.py:1518: UserWarning: Implicit dimension choice for log_softmax has been deprecated. Change the call to include dim=X as an argument.\n",
      "  return self._call_impl(*args, **kwargs)\n"
     ]
    }
   ],
   "source": [
    "train_loss = []\n",
    "val_loss = []\n",
    "for epoch in range(EPOCH):\n",
    "  epoch_train_loss = train_one_epoch(model, trainLoader, criterion, optimizer, device)\n",
    "  train_loss.append(epoch_train_loss)\n",
    "\n",
    "  with torch.no_grad():\n",
    "    epoch_val_loss = val_one_epoch(model, valLoader, criterion, device)\n",
    "    val_loss.append(epoch_val_loss)\n",
    "\n",
    "  early_stopping(epoch_val_loss)\n",
    "  if early_stopping.flag:\n",
    "    print(f'early stop at epoch №{epoch}')\n",
    "    break\n",
    "torch.cuda.empty_cache() if device == 'cuda' else None"
   ]
  },
  {
   "cell_type": "code",
   "execution_count": null,
   "metadata": {
    "colab": {
     "base_uri": "https://localhost:8080/",
     "height": 447
    },
    "id": "Ve3mjUmlBA9W",
    "outputId": "e004edbe-e7ec-498e-fbbb-29a5dae624c5"
   },
   "outputs": [
    {
     "data": {
      "text/plain": [
       "<Axes: >"
      ]
     },
     "execution_count": 15,
     "metadata": {},
     "output_type": "execute_result"
    },
    {
     "data": {
      "image/png": "[encoded data removed]",
      "text/plain": [
       "<Figure size 640x480 with 1 Axes>"
      ]
     },
     "metadata": {},
     "output_type": "display_data"
    }
   ],
   "source": [
    "df = pd.DataFrame({'val_loss': [np.mean(x) for x in val_loss], 'train_loss': [np.mean(x) for x in train_loss]})\n",
    "df.plot(kind='line')"
   ]
  },
  {
   "cell_type": "code",
   "execution_count": null,
   "metadata": {
    "colab": {
     "base_uri": "https://localhost:8080/"
    },
    "id": "XbXIRKs5ErQB",
    "outputId": "0875ec80-f083-4e10-c07b-cccb5e7392f6"
   },
   "outputs": [
    {
     "name": "stderr",
     "output_type": "stream",
     "text": [
      "/usr/local/lib/python3.10/dist-packages/torch/nn/modules/module.py:1518: UserWarning: Implicit dimension choice for log_softmax has been deprecated. Change the call to include dim=X as an argument.\n",
      "  return self._call_impl(*args, **kwargs)\n"
     ]
    }
   ],
   "source": [
    "with torch.no_grad():\n",
    "    test_data = test_model(model, testLoader, device, [1, 2, 3, 4, 5])\n",
    "torch.cuda.empty_cache() if device == 'cuda' else None"
   ]
  },
  {
   "cell_type": "code",
   "execution_count": null,
   "metadata": {
    "colab": {
     "base_uri": "https://localhost:8080/"
    },
    "id": "Ux9Cajc6Gxiu",
    "outputId": "1b7a69bf-b25e-45a5-a6ac-39482093ffd9"
   },
   "outputs": [
    {
     "name": "stdout",
     "output_type": "stream",
     "text": [
      "overall acc = 94.54%\n"
     ]
    }
   ],
   "source": [
    "overall_accuracy = test_data[1].item()/test_data[2]\n",
    "print(f'overall acc = {round(overall_accuracy*100,2)}%')"
   ]
  },
  {
   "cell_type": "code",
   "execution_count": null,
   "metadata": {
    "colab": {
     "base_uri": "https://localhost:8080/",
     "height": 447
    },
    "id": "xlh4oqNsGzTj",
    "outputId": "4443942e-9534-45f3-ce2b-546dd8a2e7f7"
   },
   "outputs": [
    {
     "data": {
      "text/plain": [
       "<Axes: >"
      ]
     },
     "execution_count": 23,
     "metadata": {},
     "output_type": "execute_result"
    },
    {
     "data": {
      "image/png": "[encoded data removed]",
      "text/plain": [
       "<Figure size 640x480 with 2 Axes>"
      ]
     },
     "metadata": {},
     "output_type": "display_data"
    }
   ],
   "source": [
    "from seaborn import heatmap\n",
    "heatmap(test_data[0])"
   ]
  },
  {
   "cell_type": "markdown",
   "metadata": {
    "id": "mKAmrAztHUbW"
   },
   "source": [
    "# Задание 3"
   ]
  },
  {
   "cell_type": "code",
   "execution_count": 87,
   "metadata": {
    "id": "Co5VCDDgHVlk"
   },
   "outputs": [],
   "source": [
    "class Dataset():\n",
    "    def __init__(self, seq_len: int, random_skip=5):\n",
    "        words = self.load_words(seq_len)\n",
    "        masked_words = copy.deepcopy(words)\n",
    "        self.masked_indexes = []\n",
    "        for i in range(len(masked_words)):\n",
    "            ind_to_skip = [random.randint(0, seq_len-1) for _ in range(random_skip)]\n",
    "            self.masked_indexes.append(ind_to_skip)\n",
    "            masked_words[i] = masked_words[i].split(\" \")\n",
    "            for ind in ind_to_skip:\n",
    "                masked_words[i][ind] = '[MASK]'\n",
    "            masked_words[i] = \" \".join(masked_words[i])\n",
    "\n",
    "        self.tokenizer = BertTokenizer.from_pretrained('bert-base-cased')\n",
    "        self.vectors = [self.tokenizer(text,\n",
    "                                padding='max_length', max_length=seq_len*2, truncation=True, return_tensors='pt') for text in words]\n",
    "        self.masked_vectors = [self.tokenizer(text, padding='max_length', max_length=seq_len*2, truncation=True, return_tensors='pt') for text in masked_words]\n",
    "        \n",
    "\n",
    "    def load_words(self, seq_len):\n",
    "        data = urllib.request.urlopen('https://s3.amazonaws.com/text-datasets/nietzsche.txt')\n",
    "        raw_text = \"\"\n",
    "        for i in data:\n",
    "            raw_text += i.decode('utf-8').lower()\n",
    "        raw_text = list(nltk.word_tokenize(raw_text))\n",
    "        raw_text = [\" \".join(raw_text[i:i+seq_len]) for i in range(0, (len(raw_text)//seq_len)*seq_len, seq_len)]\n",
    "        return raw_text\n",
    "\n",
    "    def __len__(self):\n",
    "        return len(self.vectors)\n",
    "\n",
    "    def __getitem__(self, idx):\n",
    "        return self.masked_vectors[idx], self.vectors[idx]['input_ids'][0]\n"
   ]
  },
  {
   "cell_type": "code",
   "execution_count": 88,
   "metadata": {},
   "outputs": [],
   "source": [
    "dataset = Dataset(20, random_skip=1)"
   ]
  },
  {
   "cell_type": "code",
   "execution_count": 89,
   "metadata": {},
   "outputs": [
    {
     "name": "stderr",
     "output_type": "stream",
     "text": [
      "Some weights of the model checkpoint at bert-base-cased were not used when initializing BertForMaskedLM: ['bert.pooler.dense.weight', 'bert.pooler.dense.bias', 'cls.seq_relationship.weight', 'cls.seq_relationship.bias']\n",
      "- This IS expected if you are initializing BertForMaskedLM from the checkpoint of a model trained on another task or with another architecture (e.g. initializing a BertForSequenceClassification model from a BertForPreTraining model).\n",
      "- This IS NOT expected if you are initializing BertForMaskedLM from the checkpoint of a model that you expect to be exactly identical (initializing a BertForSequenceClassification model from a BertForSequenceClassification model).\n"
     ]
    }
   ],
   "source": [
    "model = BertForMaskedLM.from_pretrained('bert-base-cased').to(device)"
   ]
  },
  {
   "cell_type": "code",
   "execution_count": 121,
   "metadata": {},
   "outputs": [
    {
     "name": "stdout",
     "output_type": "stream",
     "text": [
      "original sentence = preface su ##pp ##os ##ing that truth is a woman - - what then ? is there not ground for suspect ##ing that all philosophers,\n",
      "masked sentence = [CLS] preface su ##pp ##os ##ing that truth is a [MASK] - - what then ? is there not ground for suspect ##ing that all philosophers [SEP] [PAD] [PAD] [PAD] [PAD] [PAD] [PAD] [PAD] [PAD] [PAD] [PAD] [PAD] [PAD] [PAD]\n",
      "predicted tokens for [MASK] = ['that', 'the', 'of', 'this', 'a']\n",
      "\n",
      "\n",
      "original sentence = , in so far as they have been dog ##mat ##ists , have failed to understand women - - that the terrible serious ##ness,\n",
      "masked sentence = [CLS] , in so far as they have been dog ##mat ##ists , have failed to understand women - - that [MASK] terrible serious ##ness [SEP] [PAD] [PAD] [PAD] [PAD] [PAD] [PAD] [PAD] [PAD] [PAD] [PAD] [PAD] [PAD] [PAD] [PAD]\n",
      "predicted tokens for [MASK] = ['women', 'her', 'woman', 'them', 'men']\n",
      "\n",
      "\n",
      "original sentence = and clumsy import ##unity with which they have usually paid their addresses to truth , have been un ##ski ##lled and un ##see ##m ##ly methods,\n",
      "masked sentence = [CLS] and clumsy import ##unity with which [MASK] have usually paid their addresses to truth , have been un ##ski ##lled and un ##see ##m ##ly methods [SEP] [PAD] [PAD] [PAD] [PAD] [PAD] [PAD] [PAD] [PAD] [PAD] [PAD] [PAD] [PAD]\n",
      "predicted tokens for [MASK] = ['with', 'With', 'without', 'in', 'to']\n",
      "\n",
      "\n",
      "original sentence = for winning a woman ? certainly she has never allowed herself to be won ; and at present every kind,\n",
      "masked sentence = [CLS] for winning a [MASK] ? certainly she has never allowed herself to be won ; and at present every kind [SEP] [PAD] [PAD] [PAD] [PAD] [PAD] [PAD] [PAD] [PAD] [PAD] [PAD] [PAD] [PAD] [PAD] [PAD] [PAD] [PAD] [PAD] [PAD]\n",
      "predicted tokens for [MASK] = ['a', 'any', 'the', 'another', 'an']\n",
      "\n",
      "\n",
      "original sentence = of dog ##ma stands with sad and discouraged mi ##en - - if , indeed , it stands at all ! for there,\n",
      "masked sentence = [CLS] of dog ##ma stands with sad and discouraged mi ##en - - if , indeed , it stands at all ! for [MASK] [SEP] [PAD] [PAD] [PAD] [PAD] [PAD] [PAD] [PAD] [PAD] [PAD] [PAD] [PAD] [PAD] [PAD] [PAD] [PAD]\n",
      "predicted tokens for [MASK] = ['at', 'for', 'to', ',', 'there']\n",
      "\n",
      "\n",
      "original sentence = are s ##co ##ffer ##s who maintain that it has fallen , that all dog ##ma lies on the ground - - na ##y more ,,\n",
      "masked sentence = [CLS] are s ##co ##ffer ##s who maintain that it has fallen , that all [MASK] lies on the ground - - na ##y more , [SEP] [PAD] [PAD] [PAD] [PAD] [PAD] [PAD] [PAD] [PAD] [PAD] [PAD] [PAD] [PAD] [PAD]\n",
      "predicted tokens for [MASK] = ['fallen', 'fell', 'falling', 'fall', 'dropped']\n",
      "\n",
      "\n",
      "original sentence = that it is at its last gasp . but to speak seriously , there are good grounds for hoping that,\n",
      "masked sentence = [CLS] that it is at its last gasp . but to speak seriously , there are good grounds [MASK] hoping that [SEP] [PAD] [PAD] [PAD] [PAD] [PAD] [PAD] [PAD] [PAD] [PAD] [PAD] [PAD] [PAD] [PAD] [PAD] [PAD] [PAD] [PAD] [PAD]\n",
      "predicted tokens for [MASK] = ['grounds', 'ground', 'reasons', 'times', 'circumstances']\n",
      "\n",
      "\n",
      "original sentence = all dog ##mat ##izing in philosophy , whatever solemn , whatever con ##clusive and decided airs it has assumed , may have been,\n",
      "masked sentence = [CLS] all dog ##mat ##izing in philosophy , whatever solemn , whatever con ##clusive and decided airs [MASK] has assumed , may have been [SEP] [PAD] [PAD] [PAD] [PAD] [PAD] [PAD] [PAD] [PAD] [PAD] [PAD] [PAD] [PAD] [PAD] [PAD] [PAD]\n",
      "predicted tokens for [MASK] = ['##clusive', '##cious', '##stant', '##ical', '##cise']\n",
      "\n",
      "\n",
      "original sentence = only a noble pu ##eri ##lis ##m and t ##yr ##oni ##sm ; and probably the time is at hand when it will be once and,\n",
      "masked sentence = [CLS] only a noble pu ##eri ##lis ##m [MASK] t ##yr ##oni ##sm ; and probably the time is at hand when it will be once and [SEP] [PAD] [PAD] [PAD] [PAD] [PAD] [PAD] [PAD] [PAD] [PAD] [PAD] [PAD] [PAD]\n",
      "predicted tokens for [MASK] = ['pu', 'imp', '##pu', 'p', 'V']\n",
      "\n",
      "\n",
      "original sentence = again understood what has actually su ##ff ##ice ##d for the basis of such imposing and absolute philosophical ed ##ifice ##s as the dog ##mat ##ists have,\n",
      "masked sentence = [CLS] again understood what has actually su ##ff ##ice ##d for the basis of such imposing and [MASK] philosophical ed ##ifice ##s as the dog ##mat ##ists have [SEP] [PAD] [PAD] [PAD] [PAD] [PAD] [PAD] [PAD] [PAD] [PAD] [PAD] [PAD]\n",
      "predicted tokens for [MASK] = ['of', 'such', 'for', 'a', 'the']\n",
      "\n",
      "\n"
     ]
    }
   ],
   "source": [
    "for ind in range(10):\n",
    "    print(f'''original sentence = {\" \".join(dataset.tokenizer.convert_ids_to_tokens(dataset[ind][1], skip_special_tokens=True))},\n",
    "masked sentence = {\" \".join(dataset.tokenizer.convert_ids_to_tokens(dataset[ind][0]['input_ids'][0]))}''')\n",
    "    with torch.no_grad():\n",
    "        out = model(dataset[ind][0]['input_ids'].to(device), dataset[ind][0]['attention_mask'].to(device))\n",
    "        preds = out[0][0, dataset.masked_indexes[ind][0]].topk(5)\n",
    "    pred_token_ids = preds.indices.tolist()\n",
    "    pred_token = dataset.tokenizer.convert_ids_to_tokens(pred_token_ids)\n",
    "    print(f'predicted tokens for [MASK] = {pred_token}\\n\\n')"
   ]
  },
  {
   "cell_type": "markdown",
   "metadata": {},
   "source": [
    "# Задание 4"
   ]
  },
  {
   "cell_type": "code",
   "execution_count": null,
   "metadata": {},
   "outputs": [],
   "source": []
  }
 ],
 "metadata": {
  "accelerator": "GPU",
  "colab": {
   "provenance": []
  },
  "kernelspec": {
   "display_name": "Python 3 (ipykernel)",
   "language": "python",
   "name": "python3"
  },
  "language_info": {
   "codemirror_mode": {
    "name": "ipython",
    "version": 3
   },
   "file_extension": ".py",
   "mimetype": "text/x-python",
   "name": "python",
   "nbconvert_exporter": "python",
   "pygments_lexer": "ipython3",
   "version": "3.11.6"
  }
 },
 "nbformat": 4,
 "nbformat_minor": 4
}

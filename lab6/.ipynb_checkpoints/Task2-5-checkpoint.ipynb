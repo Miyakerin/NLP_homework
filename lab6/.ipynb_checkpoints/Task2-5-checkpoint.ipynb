{
 "cells": [
  {
   "cell_type": "code",
   "execution_count": 1,
   "id": "89630c80-3f2e-45a8-bfce-749c27f765cd",
   "metadata": {
    "id": "89630c80-3f2e-45a8-bfce-749c27f765cd"
   },
   "outputs": [],
   "source": [
    "import numpy as np\n",
    "import pandas as pd\n",
    "\n",
    "import seaborn as sns\n",
    "\n",
    "import pickle as pkl\n",
    "from itertools import chain\n",
    "import copy\n",
    "import tqdm"
   ]
  },
  {
   "cell_type": "code",
   "execution_count": 2,
   "id": "5a421638-1e7e-4594-b22d-deabceee5327",
   "metadata": {
    "id": "5a421638-1e7e-4594-b22d-deabceee5327"
   },
   "outputs": [],
   "source": [
    "import torch\n",
    "\n",
    "from torchvision import datasets, transforms\n",
    "import torchvision\n",
    "import torch\n",
    "import torch.nn as nn\n",
    "import torch.optim as optim\n",
    "from torch.utils.data import DataLoader, random_split\n",
    "import torch.nn.functional as F\n",
    "\n",
    "from transformers import HubertForSequenceClassification, Wav2Vec2FeatureExtractor, Wav2Vec2Processor, BertModel\n",
    "import torchaudio"
   ]
  },
  {
   "cell_type": "code",
   "execution_count": 3,
   "id": "3a650d37-b9a9-4515-8c72-09d353cb7813",
   "metadata": {
    "colab": {
     "base_uri": "https://localhost:8080/"
    },
    "id": "3a650d37-b9a9-4515-8c72-09d353cb7813",
    "outputId": "b23d7e91-887f-4a9a-a1bd-a8689a5350f0"
   },
   "outputs": [
    {
     "name": "stderr",
     "output_type": "stream",
     "text": [
      "[nltk_data] Downloading package punkt to\n",
      "[nltk_data]     C:\\Users\\user\\AppData\\Roaming\\nltk_data...\n",
      "[nltk_data]   Package punkt is already up-to-date!\n",
      "[nltk_data] Downloading package averaged_perceptron_tagger to\n",
      "[nltk_data]     C:\\Users\\user\\AppData\\Roaming\\nltk_data...\n",
      "[nltk_data]   Package averaged_perceptron_tagger is already up-to-\n",
      "[nltk_data]       date!\n",
      "[nltk_data] Downloading package wordnet to\n",
      "[nltk_data]     C:\\Users\\user\\AppData\\Roaming\\nltk_data...\n",
      "[nltk_data]   Package wordnet is already up-to-date!\n",
      "[nltk_data] Downloading package stopwords to\n",
      "[nltk_data]     C:\\Users\\user\\AppData\\Roaming\\nltk_data...\n",
      "[nltk_data]   Package stopwords is already up-to-date!\n"
     ]
    }
   ],
   "source": [
    "import nltk\n",
    "import re\n",
    "nltk.download('punkt')\n",
    "nltk.download('averaged_perceptron_tagger')\n",
    "nltk.download('wordnet')\n",
    "nltk.download('stopwords')\n",
    "\n",
    "from nltk.corpus import stopwords\n",
    "from nltk.stem import WordNetLemmatizer\n",
    "from nltk.tokenize import word_tokenize\n",
    "from nltk.stem.snowball import SnowballStemmer"
   ]
  },
  {
   "cell_type": "markdown",
   "id": "kTc8Z6miCtJW",
   "metadata": {
    "id": "kTc8Z6miCtJW"
   },
   "source": [
    "# some funcs"
   ]
  },
  {
   "cell_type": "code",
   "execution_count": 4,
   "id": "efefdbdd-9f29-4123-995f-42fa369ecb93",
   "metadata": {},
   "outputs": [],
   "source": [
    "class EarlyStopping():\n",
    "    def __init__(self, min_delta=0.005, tolerance=10):\n",
    "        self.tolerance = tolerance\n",
    "        self.min_delta = min_delta\n",
    "        self.counter = 0\n",
    "        self.flag = False\n",
    "        self.min_loss = 1000\n",
    "\n",
    "    def __call__(self, val_loss):\n",
    "        if (val_loss - self.min_loss) > self.min_delta:\n",
    "            self.counter += 1\n",
    "            print(f' counter = {self.counter}')\n",
    "            if self.counter >= self.tolerance:\n",
    "                self.flag = True\n",
    "        self.min_loss = val_loss if val_loss < self.min_loss else self.min_loss"
   ]
  },
  {
   "cell_type": "code",
   "execution_count": 5,
   "id": "99c9fac2-feaf-4fb8-aff5-a389cdb6aedd",
   "metadata": {},
   "outputs": [],
   "source": [
    "def train_one_epoch(model, train_dataloader, loss_func, optimizer, device):\n",
    "  model.train()\n",
    "  epoch_loss = []\n",
    "  for (local_head_batch, local_rev_batch, local_label) in train_dataloader:\n",
    "    (local_head_batch, local_rev_batch, local_label) = (local_head_batch.to(device), local_rev_batch.to(device), local_label.to(device))\n",
    "    optimizer.zero_grad()\n",
    "    try:\n",
    "        y_pred = model.forward(local_head_batch, local_rev_batch)\n",
    "    except Exception as e:\n",
    "        print(local_head_batch, e)\n",
    "    curr_loss = criterion.forward(y_pred, local_label)\n",
    "    curr_loss.backward()\n",
    "    optimizer.step()\n",
    "    epoch_loss.append(curr_loss.item())\n",
    "  return np.mean(epoch_loss)\n",
    "\n",
    "#use with torch.no_grad()\n",
    "def val_one_epoch(model, val_dataloader, loss_func, device):\n",
    "  model.eval()\n",
    "  epoch_loss = []\n",
    "  for (local_head_batch, local_rev_batch, local_label) in val_dataloader:\n",
    "    (local_head_batch, local_rev_batch, local_label) = (local_head_batch.to(device), local_rev_batch.to(device), local_label.to(device))\n",
    "    y_pred = model.forward(local_head_batch, local_rev_batch)\n",
    "    curr_loss = criterion.forward(y_pred, local_label)\n",
    "    epoch_loss.append(curr_loss.item())\n",
    "  return np.mean(epoch_loss)\n",
    "\n",
    "def test_model(model, test_dataloader, device, classes):\n",
    "  model.eval()\n",
    "  test_hits = 0\n",
    "  total = 0\n",
    "  confusion_matrix = torch.zeros(len(classes), len(classes))\n",
    "  for (local_head_batch, local_rev_batch, local_label) in test_dataloader:\n",
    "    (local_head_batch, local_rev_batch, local_label) = (local_head_batch.to(device), local_rev_batch.to(device), local_label.to(device))\n",
    "    y_pred = model.forward(local_head_batch, local_rev_batch)\n",
    "    _, preds = torch.max(y_pred, 1)\n",
    "    test_hits += torch.sum(preds.view(-1) == local_label.view(-1))\n",
    "    total += torch.numel(preds.view(-1))\n",
    "    for t, p in zip(local_label.view(-1), preds.view(-1)):\n",
    "        confusion_matrix[t.long(), p.long()] += 1\n",
    "  return confusion_matrix, test_hits, total"
   ]
  },
  {
   "cell_type": "code",
   "execution_count": 6,
   "id": "4a3078d0-7fd0-4e1a-9b3f-59b351d9f0d0",
   "metadata": {},
   "outputs": [],
   "source": [
    "class Transpose(torch.nn.Module):\n",
    "    def __init__(self, dim0, dim1):\n",
    "        super(Transpose, self).__init__()\n",
    "        self.dim0 = dim0\n",
    "        self.dim1 = dim1\n",
    "\n",
    "    def forward(self, x):\n",
    "        x = torch.transpose(x, self.dim0, self.dim1)\n",
    "        return x"
   ]
  },
  {
   "cell_type": "code",
   "execution_count": 7,
   "id": "fd496cba-fe8f-4811-aa7a-52dea58e10aa",
   "metadata": {},
   "outputs": [],
   "source": [
    "class GetFeaturesFromRNN(torch.nn.Module):\n",
    "    def forward(self, x):\n",
    "        x, _ = x\n",
    "        if len(x.shape) == 3:\n",
    "            return x[:, -1, :]\n",
    "        elif len(x.shape) == 2:\n",
    "            return x[:, -1]"
   ]
  },
  {
   "cell_type": "code",
   "execution_count": 8,
   "id": "5e151f1b-5a69-432b-9d72-6b846f0b9a59",
   "metadata": {},
   "outputs": [],
   "source": [
    "class Model(torch.nn.Module):\n",
    "  def __init__(self, output_dim,\n",
    "               vocab_size, embedding_dim,\n",
    "               in_channels):\n",
    "    super(Model, self).__init__()\n",
    "    self.text_features = nn.Sequential(\n",
    "        nn.Embedding(vocab_size, embedding_dim=embedding_dim, padding_idx=0),\n",
    "        nn.Dropout(0.25),\n",
    "        Transpose(dim0=1, dim1=2),\n",
    "        nn.Conv1d(in_channels=embedding_dim, out_channels=128, kernel_size=3, stride=1, padding=0, dilation=1),\n",
    "        nn.ReLU(),\n",
    "        nn.Dropout(0.25),\n",
    "        nn.MaxPool1d(2),\n",
    "        Transpose(dim0=1, dim1=2),\n",
    "        nn.LSTM(128, 128, num_layers=2, batch_first=True, dropout=0.5),\n",
    "        GetFeaturesFromRNN(),\n",
    "        nn.Flatten()\n",
    "    )\n",
    "    self.mfcc_features = nn.Sequential(\n",
    "        nn.Conv1d(in_channels=in_channels, out_channels=128, kernel_size=3, stride=1, padding=0, dilation=1),\n",
    "        nn.ReLU(),\n",
    "        nn.Conv1d(in_channels=128, out_channels=128, kernel_size=3, stride=1, padding=0, dilation=1),\n",
    "        nn.ReLU(),\n",
    "        nn.Dropout(0.1),\n",
    "        nn.MaxPool1d(8),\n",
    "        nn.Conv1d(in_channels=128, out_channels=128, kernel_size=3, stride=1, padding=0, dilation=1),\n",
    "        nn.ReLU(),\n",
    "        nn.Conv1d(in_channels=128, out_channels=128, kernel_size=3, stride=1, padding=0, dilation=1),\n",
    "        nn.ReLU(),\n",
    "        nn.Conv1d(in_channels=128, out_channels=128, kernel_size=3, stride=1, padding=0, dilation=1),\n",
    "        nn.ReLU(),\n",
    "        nn.Dropout(0.1),\n",
    "        nn.Conv1d(in_channels=128, out_channels=128, kernel_size=3, stride=1, padding=0, dilation=1),\n",
    "        nn.ReLU(),\n",
    "        nn.Flatten()\n",
    "    )\n",
    "    self.classificator = nn.Sequential(\n",
    "        nn.Linear(128+1152, (128+1152)*2),\n",
    "        nn.ReLU(),\n",
    "        nn.Dropout(p=0.5),\n",
    "        nn.Linear((128+1152)*2, (128+1152)//4),\n",
    "        nn.Dropout(p=0.5),\n",
    "        nn.Linear((128+1152)//4, (128+1152)//8),\n",
    "        nn.Dropout(p=0.5),\n",
    "        nn.Linear((128+1152)//8, output_dim)\n",
    "    )\n",
    "\n",
    "\n",
    "  def forward(self, x0, x1):\n",
    "    x0 = self.text_features.forward(x0)\n",
    "    x1 = self.mfcc_features.forward(x1)\n",
    "    x = torch.cat((x0, x1), 1)\n",
    "    x = self.classificator.forward(x)\n",
    "    return x"
   ]
  },
  {
   "cell_type": "code",
   "execution_count": 9,
   "id": "423c5a65-8c42-4aff-aed7-928eed32359b",
   "metadata": {},
   "outputs": [],
   "source": [
    "class Model2(torch.nn.Module):\n",
    "  def __init__(self, output_dim, in_channels):\n",
    "    super(Model2, self).__init__()\n",
    "    self.mfcc_features = nn.Sequential(\n",
    "        nn.Conv1d(in_channels=in_channels, out_channels=128, kernel_size=3, stride=1, padding=0, dilation=1),\n",
    "        nn.ReLU(),\n",
    "        nn.Conv1d(in_channels=128, out_channels=128, kernel_size=3, stride=1, padding=0, dilation=1),\n",
    "        nn.ReLU(),\n",
    "        nn.Dropout(0.1),\n",
    "        nn.MaxPool1d(8),\n",
    "        nn.Conv1d(in_channels=128, out_channels=128, kernel_size=3, stride=1, padding=0, dilation=1),\n",
    "        nn.ReLU(),\n",
    "        nn.Conv1d(in_channels=128, out_channels=128, kernel_size=3, stride=1, padding=0, dilation=1),\n",
    "        nn.ReLU(),\n",
    "        nn.Conv1d(in_channels=128, out_channels=128, kernel_size=3, stride=1, padding=0, dilation=1),\n",
    "        nn.ReLU(),\n",
    "        nn.Dropout(0.1),\n",
    "        nn.Conv1d(in_channels=128, out_channels=128, kernel_size=3, stride=1, padding=0, dilation=1),\n",
    "        nn.ReLU(),\n",
    "        nn.Flatten()\n",
    "    )\n",
    "\n",
    "    self.classificator = nn.Sequential(\n",
    "        nn.Linear(1152, (1152)*2),\n",
    "        nn.ReLU(),\n",
    "        nn.Dropout(p=0.5),\n",
    "        nn.Linear((1152)*2, (1152)//4),\n",
    "        nn.Dropout(p=0.5),\n",
    "        nn.Linear((1152)//4, (1152)//8),\n",
    "        nn.Dropout(p=0.5),\n",
    "        nn.Linear((1152)//8, output_dim)\n",
    "    )\n",
    "\n",
    "  def forward(self, x0, x1):\n",
    "    x1 = self.mfcc_features.forward(x1)\n",
    "    x = self.classificator.forward(x1)\n",
    "    return x"
   ]
  },
  {
   "cell_type": "code",
   "execution_count": 10,
   "id": "f6c0f18c-d7f0-424d-8a3e-d5521b4b2f71",
   "metadata": {},
   "outputs": [],
   "source": [
    "class DatasetHuBERT(torch.utils.data.Dataset):\n",
    "    def __init__(self, df):\n",
    "        self.class_dic = {\n",
    "            'angry': 0,\n",
    "            'neutral': 1,\n",
    "            'positive': 2,\n",
    "            'sad': 3\n",
    "        }\n",
    "        \n",
    "        self.df = copy.deepcopy(df)\n",
    "        self.df['label'] = self.df['annotator_emo'].apply(self.label_emo)\n",
    "        \n",
    "    def create_inputs(self, path):\n",
    "        waveform, sr = torchaudio.load(path)\n",
    "        transform = torchaudio.transforms.Resample(sr, 16000)\n",
    "        inputs = self.processor(waveform, return_tensors=\"pt\", padding=\"longest\").input_values\n",
    "        waveform = transform(waveform)\n",
    "        inputs = self.feature_extractor(\n",
    "            waveform, \n",
    "            sampling_rate=self.feature_extractor.sampling_rate, \n",
    "            return_tensors=\"pt\",\n",
    "            padding=True,\n",
    "            max_length=5 * 16000,\n",
    "            truncation=True\n",
    "        )\n",
    "        return inputs['input_values']\n",
    "\n",
    "    def label_emo(self, text):\n",
    "        return self.class_dic[text]\n",
    "\n",
    "    def __len__(self):\n",
    "        return len(self.df)\n",
    "\n",
    "    def __getitem__(self, idx):\n",
    "        return self.df.iloc[idx]['audio_path'], torch.tensor(self.df.iloc[idx]['label'])"
   ]
  },
  {
   "cell_type": "code",
   "execution_count": 11,
   "id": "82755695-d385-4287-8f32-7c705ca29de5",
   "metadata": {},
   "outputs": [],
   "source": [
    "class Vocab:\n",
    "    def __init__(self, data:list, spec_symb=True): # data - list of tokens\n",
    "        self.spec_list = ['<PAD>', '<UNK>']\n",
    "        self.create_tokens_set(data)\n",
    "\n",
    "\n",
    "        if spec_symb:\n",
    "            self.idx_to_token = {i+2: v for i,v in enumerate(self.tokens)}\n",
    "            self.token_to_idx = {v: i+2 for i,v in enumerate(self.tokens)}\n",
    "            self.idx_to_token[0] = '<PAD>'\n",
    "            self.token_to_idx['<PAD>'] = 0\n",
    "            self.idx_to_token[1] = '<UNK>'\n",
    "            self.token_to_idx['<UNK>'] = 1\n",
    "        else:\n",
    "            self.idx_to_token = {i: v for i,v in enumerate(self.tokens)}\n",
    "            self.token_to_idx = {v: i for i,v in enumerate(self.tokens)}\n",
    "\n",
    "\n",
    "    def create_tokens_set(self, data):\n",
    "        self.tokens = list(set([item for item in data if item not in self.spec_list]))\n",
    "\n",
    "    def __len__(self):\n",
    "        return len(self.token_to_idx)"
   ]
  },
  {
   "cell_type": "code",
   "execution_count": 12,
   "id": "f6467490-e955-4ce5-8dac-994614aa6fad",
   "metadata": {},
   "outputs": [],
   "source": [
    "class Dataset(torch.utils.data.Dataset):\n",
    "    def __init__(self, df):\n",
    "        self.class_dic = {\n",
    "            'angry': 0,\n",
    "            'neutral': 1,\n",
    "            'positive': 2,\n",
    "            'sad': 3\n",
    "        }\n",
    "        self.df = copy.deepcopy(df)\n",
    "        self.df['new_text'] = self.df['speaker_text'].apply(self.clean_text)\n",
    "\n",
    "        self.max_len = len(max(self.df['new_text'], key=len))\n",
    "        self.df['new_text'] = self.df['new_text'].apply(self.pad_text, max_len=self.max_len)\n",
    "\n",
    "        self.df['label'] = self.df['annotator_emo'].apply(self.label_emo)\n",
    "\n",
    "        self.vocab = Vocab(list(chain.from_iterable(self.df['new_text'])), spec_symb=True)\n",
    "\n",
    "        self.df['idx_text'] = self.df['new_text'].apply(self.text2num)\n",
    "\n",
    "\n",
    "\n",
    "    def clean_text(self, text):\n",
    "        stemmer = SnowballStemmer('russian')\n",
    "        lemmatizer = WordNetLemmatizer()\n",
    "        text = re.sub(r'[^\\w\\s]', '', text)\n",
    "        text = re.sub(r'\\d+', '', text)\n",
    "        text = text.lower()\n",
    "        text = word_tokenize(text)\n",
    "        text = [lemmatizer.lemmatize(word) for word in text]\n",
    "        text = ' '.join(text)\n",
    "        text = word_tokenize(text)\n",
    "        text = [stemmer.stem(word) for word in text]\n",
    "        return text\n",
    "\n",
    "    def pad_text(self, target, max_len):\n",
    "        diff = max_len - len(target)\n",
    "        for i in range(diff):\n",
    "            target.append('<PAD>')\n",
    "        return target\n",
    "\n",
    "    def label_emo(self, text):\n",
    "        return self.class_dic[text]\n",
    "\n",
    "    def text2num(self, text):#text is list of tokens\n",
    "        return [self.vocab.token_to_idx.get(token, 1) for token in text]\n",
    "\n",
    "    def num2text(self, array):\n",
    "        return [self.vocab.idx_to_token.get(token, self.vocab.spec_list[1]) for token in text]\n",
    "\n",
    "    def __len__(self):\n",
    "        return len(self.df)\n",
    "\n",
    "    def __getitem__(self, idx):\n",
    "        return (torch.tensor(self.df['idx_text'].iloc[idx]), torch.tensor(self.df['mfcc'].iloc[idx]), torch.tensor(self.df['label'].iloc[idx]))"
   ]
  },
  {
   "cell_type": "code",
   "execution_count": 13,
   "id": "ee71e202-0c38-42fd-b867-1aeba7a32a99",
   "metadata": {},
   "outputs": [],
   "source": [
    "def oversample(df):\n",
    "    max_size = df['annotator_emo'].value_counts().max()\n",
    "    lst = [df]\n",
    "    for cls_idx, group in df.groupby('annotator_emo'):\n",
    "        lst.append(group.sample(max_size-len(group), replace=True))\n",
    "    new_df = pd.concat(lst)\n",
    "    return new_df"
   ]
  },
  {
   "cell_type": "markdown",
   "id": "d8e8c305-3c83-4c95-8e8e-c46f04f9c979",
   "metadata": {
    "id": "d8e8c305-3c83-4c95-8e8e-c46f04f9c979",
    "jp-MarkdownHeadingCollapsed": true
   },
   "source": [
    "# data prep"
   ]
  },
  {
   "cell_type": "code",
   "execution_count": 13,
   "id": "4d306443-bd63-4ae0-b159-693a658dfadb",
   "metadata": {
    "id": "4d306443-bd63-4ae0-b159-693a658dfadb"
   },
   "outputs": [],
   "source": [
    "crowd_train = open(r'D:\\data\\serialized\\crowd_train.ser', 'rb')\n",
    "crowd_train = pkl.load(crowd_train)\n",
    "\n",
    "crowd_test = open(r'D:\\data\\serialized\\crowd_test.ser', 'rb')\n",
    "crowd_test = pkl.load(crowd_test)\n",
    "\n",
    "podcast_train = open(r'D:\\data\\serialized\\podcast_train.ser', 'rb')\n",
    "podcast_train = pkl.load(podcast_train)\n",
    "\n",
    "podcats_test = open(r'D:\\data\\serialized\\podcast_test.ser', 'rb')\n",
    "podcats_test = pkl.load(podcats_test)"
   ]
  },
  {
   "cell_type": "markdown",
   "id": "ba9c139d-3121-4243-97e3-336c47dc4ca6",
   "metadata": {
    "id": "ba9c139d-3121-4243-97e3-336c47dc4ca6",
    "jp-MarkdownHeadingCollapsed": true
   },
   "source": [
    "### crowd_train"
   ]
  },
  {
   "cell_type": "code",
   "execution_count": 14,
   "id": "8c6c2dc5-cbc1-46e5-bc20-e6433eb7c861",
   "metadata": {
    "colab": {
     "base_uri": "https://localhost:8080/",
     "height": 0
    },
    "id": "8c6c2dc5-cbc1-46e5-bc20-e6433eb7c861",
    "outputId": "5fc66e49-7280-4908-9f0c-906d67565706"
   },
   "outputs": [
    {
     "data": {
      "text/html": [
       "<div>\n",
       "<style scoped>\n",
       "    .dataframe tbody tr th:only-of-type {\n",
       "        vertical-align: middle;\n",
       "    }\n",
       "\n",
       "    .dataframe tbody tr th {\n",
       "        vertical-align: top;\n",
       "    }\n",
       "\n",
       "    .dataframe thead th {\n",
       "        text-align: right;\n",
       "    }\n",
       "</style>\n",
       "<table border=\"1\" class=\"dataframe\">\n",
       "  <thead>\n",
       "    <tr style=\"text-align: right;\">\n",
       "      <th></th>\n",
       "      <th>audio_path</th>\n",
       "      <th>duration</th>\n",
       "      <th>annotator_emo</th>\n",
       "      <th>speaker_text</th>\n",
       "      <th>mfcc</th>\n",
       "    </tr>\n",
       "  </thead>\n",
       "  <tbody>\n",
       "    <tr>\n",
       "      <th>0</th>\n",
       "      <td>D:\\data\\dusha\\crowd\\crowd_train\\wavs\\475e76f77...</td>\n",
       "      <td>2.453</td>\n",
       "      <td>angry</td>\n",
       "      <td>не надо не надо не надо не надо</td>\n",
       "      <td>[[-249.52695, -185.88918, -257.38525, -660.106...</td>\n",
       "    </tr>\n",
       "  </tbody>\n",
       "</table>\n",
       "</div>"
      ],
      "text/plain": [
       "                                          audio_path  duration annotator_emo  \\\n",
       "0  D:\\data\\dusha\\crowd\\crowd_train\\wavs\\475e76f77...     2.453         angry   \n",
       "\n",
       "                      speaker_text  \\\n",
       "0  не надо не надо не надо не надо   \n",
       "\n",
       "                                                mfcc  \n",
       "0  [[-249.52695, -185.88918, -257.38525, -660.106...  "
      ]
     },
     "execution_count": 14,
     "metadata": {},
     "output_type": "execute_result"
    }
   ],
   "source": [
    "crowd_train.head(1)"
   ]
  },
  {
   "cell_type": "code",
   "execution_count": 15,
   "id": "309abe93-1003-4530-ab20-a97773fea505",
   "metadata": {
    "colab": {
     "base_uri": "https://localhost:8080/",
     "height": 0
    },
    "id": "309abe93-1003-4530-ab20-a97773fea505",
    "outputId": "585762a2-080f-4e32-b3d8-8dbf1ba08928"
   },
   "outputs": [
    {
     "data": {
      "text/plain": [
       "<Axes: >"
      ]
     },
     "execution_count": 15,
     "metadata": {},
     "output_type": "execute_result"
    },
    {
     "data": {
      "image/png": "[encoded data removed]",
      "text/plain": [
       "<Figure size 640x480 with 1 Axes>"
      ]
     },
     "metadata": {},
     "output_type": "display_data"
    }
   ],
   "source": [
    "sns.heatmap(crowd_train.isnull(), yticklabels=False, cbar=False, cmap='viridis')"
   ]
  },
  {
   "cell_type": "code",
   "execution_count": 16,
   "id": "86c09416-4cf0-46de-a792-6b983f0092ab",
   "metadata": {
    "id": "86c09416-4cf0-46de-a792-6b983f0092ab"
   },
   "outputs": [],
   "source": [
    "crowd_train = crowd_train[crowd_train['mfcc'].notna()]"
   ]
  },
  {
   "cell_type": "code",
   "execution_count": 17,
   "id": "2956e569-1a9f-4c6a-b99d-9ecd80b60dba",
   "metadata": {
    "colab": {
     "base_uri": "https://localhost:8080/",
     "height": 0
    },
    "id": "2956e569-1a9f-4c6a-b99d-9ecd80b60dba",
    "outputId": "4ffe175c-32a6-425f-955c-e91981aeeeff"
   },
   "outputs": [
    {
     "data": {
      "text/plain": [
       "<Axes: >"
      ]
     },
     "execution_count": 17,
     "metadata": {},
     "output_type": "execute_result"
    },
    {
     "data": {
      "image/png": "[encoded data removed]",
      "text/plain": [
       "<Figure size 640x480 with 1 Axes>"
      ]
     },
     "metadata": {},
     "output_type": "display_data"
    }
   ],
   "source": [
    "sns.heatmap(crowd_train.isnull(), yticklabels=False, cbar=False, cmap='viridis')"
   ]
  },
  {
   "cell_type": "code",
   "execution_count": 18,
   "id": "3bb0f872-b6ba-4bd5-8835-09513d459d06",
   "metadata": {
    "colab": {
     "base_uri": "https://localhost:8080/"
    },
    "id": "3bb0f872-b6ba-4bd5-8835-09513d459d06",
    "outputId": "a141e961-9ae5-4b73-ce54-71cb11f18851"
   },
   "outputs": [
    {
     "name": "stdout",
     "output_type": "stream",
     "text": [
      "len of crowd_train becomes 605943\n"
     ]
    }
   ],
   "source": [
    "print(f'len of crowd_train becomes {len(crowd_train)}')"
   ]
  },
  {
   "cell_type": "markdown",
   "id": "c55f597e-c009-4054-8695-5155cf5ffd96",
   "metadata": {
    "id": "c55f597e-c009-4054-8695-5155cf5ffd96",
    "jp-MarkdownHeadingCollapsed": true
   },
   "source": [
    "### crowd_test"
   ]
  },
  {
   "cell_type": "code",
   "execution_count": 19,
   "id": "74da5713-fd6d-471b-9653-c106eefd6535",
   "metadata": {
    "colab": {
     "base_uri": "https://localhost:8080/",
     "height": 0
    },
    "id": "74da5713-fd6d-471b-9653-c106eefd6535",
    "outputId": "9129f62f-80e5-40e8-fd06-0a8c0fa9b6fe"
   },
   "outputs": [
    {
     "data": {
      "text/html": [
       "<div>\n",
       "<style scoped>\n",
       "    .dataframe tbody tr th:only-of-type {\n",
       "        vertical-align: middle;\n",
       "    }\n",
       "\n",
       "    .dataframe tbody tr th {\n",
       "        vertical-align: top;\n",
       "    }\n",
       "\n",
       "    .dataframe thead th {\n",
       "        text-align: right;\n",
       "    }\n",
       "</style>\n",
       "<table border=\"1\" class=\"dataframe\">\n",
       "  <thead>\n",
       "    <tr style=\"text-align: right;\">\n",
       "      <th></th>\n",
       "      <th>audio_path</th>\n",
       "      <th>duration</th>\n",
       "      <th>annotator_emo</th>\n",
       "      <th>speaker_text</th>\n",
       "      <th>mfcc</th>\n",
       "    </tr>\n",
       "  </thead>\n",
       "  <tbody>\n",
       "    <tr>\n",
       "      <th>1</th>\n",
       "      <td>D:\\data\\dusha\\crowd\\crowd_test\\wavs\\0166f65a30...</td>\n",
       "      <td>3.7</td>\n",
       "      <td>sad</td>\n",
       "      <td>каким стал сбер</td>\n",
       "      <td>[[-949.42395, -695.3361, -579.75934, -530.3081...</td>\n",
       "    </tr>\n",
       "  </tbody>\n",
       "</table>\n",
       "</div>"
      ],
      "text/plain": [
       "                                          audio_path  duration annotator_emo  \\\n",
       "1  D:\\data\\dusha\\crowd\\crowd_test\\wavs\\0166f65a30...       3.7           sad   \n",
       "\n",
       "      speaker_text                                               mfcc  \n",
       "1  каким стал сбер  [[-949.42395, -695.3361, -579.75934, -530.3081...  "
      ]
     },
     "execution_count": 19,
     "metadata": {},
     "output_type": "execute_result"
    }
   ],
   "source": [
    "crowd_test.head(1)"
   ]
  },
  {
   "cell_type": "code",
   "execution_count": 20,
   "id": "b852e67f-9280-4c0a-b11c-edaae66085e1",
   "metadata": {
    "colab": {
     "base_uri": "https://localhost:8080/",
     "height": 0
    },
    "id": "b852e67f-9280-4c0a-b11c-edaae66085e1",
    "outputId": "cf6d0b5a-dba4-4147-80fb-ec98930cff58"
   },
   "outputs": [
    {
     "data": {
      "text/plain": [
       "<Axes: >"
      ]
     },
     "execution_count": 20,
     "metadata": {},
     "output_type": "execute_result"
    },
    {
     "data": {
      "image/png": "[encoded data removed]",
      "text/plain": [
       "<Figure size 640x480 with 1 Axes>"
      ]
     },
     "metadata": {},
     "output_type": "display_data"
    }
   ],
   "source": [
    "sns.heatmap(crowd_test.isnull(), yticklabels=False, cbar=False, cmap='viridis')"
   ]
  },
  {
   "cell_type": "code",
   "execution_count": 21,
   "id": "2db918ea-8aff-45f0-8ace-8ed025bbda7c",
   "metadata": {
    "id": "2db918ea-8aff-45f0-8ace-8ed025bbda7c"
   },
   "outputs": [],
   "source": [
    "crowd_test = crowd_test[crowd_test['mfcc'].notna()]"
   ]
  },
  {
   "cell_type": "code",
   "execution_count": 22,
   "id": "182f2be9-2490-4c8e-a800-2778d68f4b11",
   "metadata": {
    "colab": {
     "base_uri": "https://localhost:8080/",
     "height": 0
    },
    "id": "182f2be9-2490-4c8e-a800-2778d68f4b11",
    "outputId": "f96a3ac8-cb32-4603-df6c-34f81e8ada51"
   },
   "outputs": [
    {
     "data": {
      "text/plain": [
       "<Axes: >"
      ]
     },
     "execution_count": 22,
     "metadata": {},
     "output_type": "execute_result"
    },
    {
     "data": {
      "image/png": "[encoded data removed]",
      "text/plain": [
       "<Figure size 640x480 with 1 Axes>"
      ]
     },
     "metadata": {},
     "output_type": "display_data"
    }
   ],
   "source": [
    "sns.heatmap(crowd_test.isnull(), yticklabels=False, cbar=False, cmap='viridis')"
   ]
  },
  {
   "cell_type": "code",
   "execution_count": 23,
   "id": "43d80bd5-6f96-441b-a440-16e537320665",
   "metadata": {
    "colab": {
     "base_uri": "https://localhost:8080/"
    },
    "id": "43d80bd5-6f96-441b-a440-16e537320665",
    "outputId": "dede68a6-1880-469b-fec6-eef21b7a5b66"
   },
   "outputs": [
    {
     "name": "stdout",
     "output_type": "stream",
     "text": [
      "len of crowd_test becomes 49133\n"
     ]
    }
   ],
   "source": [
    "print(f'len of crowd_test becomes {len(crowd_test)}')"
   ]
  },
  {
   "cell_type": "markdown",
   "id": "71ac2db2-f5c4-4be6-9bbe-952796d4432c",
   "metadata": {
    "id": "71ac2db2-f5c4-4be6-9bbe-952796d4432c",
    "jp-MarkdownHeadingCollapsed": true
   },
   "source": [
    "### podcast_train"
   ]
  },
  {
   "cell_type": "code",
   "execution_count": 24,
   "id": "a24bb15e-1be3-4a41-aa47-cf5fd98cb2e9",
   "metadata": {
    "colab": {
     "base_uri": "https://localhost:8080/",
     "height": 81
    },
    "id": "a24bb15e-1be3-4a41-aa47-cf5fd98cb2e9",
    "outputId": "8a1eb216-dbaa-4eba-bdf7-a4a1df1637b1"
   },
   "outputs": [
    {
     "data": {
      "text/html": [
       "<div>\n",
       "<style scoped>\n",
       "    .dataframe tbody tr th:only-of-type {\n",
       "        vertical-align: middle;\n",
       "    }\n",
       "\n",
       "    .dataframe tbody tr th {\n",
       "        vertical-align: top;\n",
       "    }\n",
       "\n",
       "    .dataframe thead th {\n",
       "        text-align: right;\n",
       "    }\n",
       "</style>\n",
       "<table border=\"1\" class=\"dataframe\">\n",
       "  <thead>\n",
       "    <tr style=\"text-align: right;\">\n",
       "      <th></th>\n",
       "      <th>audio_path</th>\n",
       "      <th>duration</th>\n",
       "      <th>annotator_emo</th>\n",
       "      <th>speaker_text</th>\n",
       "      <th>mfcc</th>\n",
       "    </tr>\n",
       "  </thead>\n",
       "  <tbody>\n",
       "    <tr>\n",
       "      <th>0</th>\n",
       "      <td>D:\\data\\dusha\\podcast\\podcast_train\\wavs\\857b7...</td>\n",
       "      <td>4.4</td>\n",
       "      <td>neutral</td>\n",
       "      <td>NaN</td>\n",
       "      <td>None</td>\n",
       "    </tr>\n",
       "  </tbody>\n",
       "</table>\n",
       "</div>"
      ],
      "text/plain": [
       "                                          audio_path  duration annotator_emo  \\\n",
       "0  D:\\data\\dusha\\podcast\\podcast_train\\wavs\\857b7...       4.4       neutral   \n",
       "\n",
       "   speaker_text  mfcc  \n",
       "0           NaN  None  "
      ]
     },
     "execution_count": 24,
     "metadata": {},
     "output_type": "execute_result"
    }
   ],
   "source": [
    "podcast_train.head(1)"
   ]
  },
  {
   "cell_type": "code",
   "execution_count": 25,
   "id": "7e98dcfc-ee0e-4d58-8dfe-206cf5a1af4f",
   "metadata": {
    "colab": {
     "base_uri": "https://localhost:8080/",
     "height": 448
    },
    "id": "7e98dcfc-ee0e-4d58-8dfe-206cf5a1af4f",
    "outputId": "0dcf7f8d-f282-4c8f-8616-f6712f6a1c58"
   },
   "outputs": [
    {
     "data": {
      "text/plain": [
       "<Axes: >"
      ]
     },
     "execution_count": 25,
     "metadata": {},
     "output_type": "execute_result"
    },
    {
     "data": {
      "image/png": "[encoded data removed]",
      "text/plain": [
       "<Figure size 640x480 with 1 Axes>"
      ]
     },
     "metadata": {},
     "output_type": "display_data"
    }
   ],
   "source": [
    "sns.heatmap(podcast_train.isnull(), yticklabels=False, cbar=False, cmap='viridis')"
   ]
  },
  {
   "cell_type": "code",
   "execution_count": 26,
   "id": "d1f60f89-12ce-4e2d-980a-5cd350bc14c5",
   "metadata": {
    "id": "d1f60f89-12ce-4e2d-980a-5cd350bc14c5"
   },
   "outputs": [],
   "source": [
    "podcast_train = podcast_train[podcast_train['mfcc'].notna()]"
   ]
  },
  {
   "cell_type": "code",
   "execution_count": 27,
   "id": "76f7f318-81ab-43bc-b80f-f16bd6af2a66",
   "metadata": {
    "colab": {
     "base_uri": "https://localhost:8080/",
     "height": 448
    },
    "id": "76f7f318-81ab-43bc-b80f-f16bd6af2a66",
    "outputId": "30587ece-af94-4efb-f1ec-c45ff108789c"
   },
   "outputs": [
    {
     "data": {
      "text/plain": [
       "<Axes: >"
      ]
     },
     "execution_count": 27,
     "metadata": {},
     "output_type": "execute_result"
    },
    {
     "data": {
      "image/png": "[encoded data removed]",
      "text/plain": [
       "<Figure size 640x480 with 1 Axes>"
      ]
     },
     "metadata": {},
     "output_type": "display_data"
    }
   ],
   "source": [
    "sns.heatmap(podcast_train.isnull(), yticklabels=False, cbar=False, cmap='viridis')"
   ]
  },
  {
   "cell_type": "code",
   "execution_count": 28,
   "id": "b4341bba-ede4-42db-adac-859bb60e3228",
   "metadata": {
    "colab": {
     "base_uri": "https://localhost:8080/"
    },
    "id": "b4341bba-ede4-42db-adac-859bb60e3228",
    "outputId": "4cf7162e-633b-43dd-a999-7443bc9e9293"
   },
   "outputs": [
    {
     "name": "stdout",
     "output_type": "stream",
     "text": [
      "len of podcast_train becomes 12262\n"
     ]
    }
   ],
   "source": [
    "print(f'len of podcast_train becomes {len(podcast_train)}')"
   ]
  },
  {
   "cell_type": "markdown",
   "id": "2b249c46-d87d-4550-a0b6-13508cf07236",
   "metadata": {
    "id": "2b249c46-d87d-4550-a0b6-13508cf07236",
    "jp-MarkdownHeadingCollapsed": true
   },
   "source": [
    "### podcats_test"
   ]
  },
  {
   "cell_type": "code",
   "execution_count": 29,
   "id": "bf0ecefb-a3d2-4f33-9045-2156d5bd49ed",
   "metadata": {
    "colab": {
     "base_uri": "https://localhost:8080/",
     "height": 0
    },
    "id": "bf0ecefb-a3d2-4f33-9045-2156d5bd49ed",
    "outputId": "e56ba273-dc37-4476-9495-fd4129cd73fb"
   },
   "outputs": [
    {
     "data": {
      "text/html": [
       "<div>\n",
       "<style scoped>\n",
       "    .dataframe tbody tr th:only-of-type {\n",
       "        vertical-align: middle;\n",
       "    }\n",
       "\n",
       "    .dataframe tbody tr th {\n",
       "        vertical-align: top;\n",
       "    }\n",
       "\n",
       "    .dataframe thead th {\n",
       "        text-align: right;\n",
       "    }\n",
       "</style>\n",
       "<table border=\"1\" class=\"dataframe\">\n",
       "  <thead>\n",
       "    <tr style=\"text-align: right;\">\n",
       "      <th></th>\n",
       "      <th>audio_path</th>\n",
       "      <th>duration</th>\n",
       "      <th>annotator_emo</th>\n",
       "      <th>speaker_text</th>\n",
       "      <th>mfcc</th>\n",
       "    </tr>\n",
       "  </thead>\n",
       "  <tbody>\n",
       "    <tr>\n",
       "      <th>0</th>\n",
       "      <td>D:\\data\\dusha\\podcast\\podcast_test\\wavs\\9749f1...</td>\n",
       "      <td>3.0</td>\n",
       "      <td>neutral</td>\n",
       "      <td>NaN</td>\n",
       "      <td>None</td>\n",
       "    </tr>\n",
       "  </tbody>\n",
       "</table>\n",
       "</div>"
      ],
      "text/plain": [
       "                                          audio_path  duration annotator_emo  \\\n",
       "0  D:\\data\\dusha\\podcast\\podcast_test\\wavs\\9749f1...       3.0       neutral   \n",
       "\n",
       "   speaker_text  mfcc  \n",
       "0           NaN  None  "
      ]
     },
     "execution_count": 29,
     "metadata": {},
     "output_type": "execute_result"
    }
   ],
   "source": [
    "podcats_test.head(1)"
   ]
  },
  {
   "cell_type": "code",
   "execution_count": 30,
   "id": "d5e9857a-11d0-4977-9789-9f52c4db1dda",
   "metadata": {
    "colab": {
     "base_uri": "https://localhost:8080/",
     "height": 0
    },
    "id": "d5e9857a-11d0-4977-9789-9f52c4db1dda",
    "outputId": "d65cc8c6-7824-4be1-cf19-670443fa703a"
   },
   "outputs": [
    {
     "data": {
      "text/plain": [
       "<Axes: >"
      ]
     },
     "execution_count": 30,
     "metadata": {},
     "output_type": "execute_result"
    },
    {
     "data": {
      "image/png": "[encoded data removed]",
      "text/plain": [
       "<Figure size 640x480 with 1 Axes>"
      ]
     },
     "metadata": {},
     "output_type": "display_data"
    }
   ],
   "source": [
    "sns.heatmap(podcats_test.isnull(), yticklabels=False, cbar=False, cmap='viridis')"
   ]
  },
  {
   "cell_type": "code",
   "execution_count": 31,
   "id": "2a49d166-9e43-4186-9942-0a7c9139cb66",
   "metadata": {
    "id": "2a49d166-9e43-4186-9942-0a7c9139cb66"
   },
   "outputs": [],
   "source": [
    "podcats_test = podcats_test[podcats_test['mfcc'].notna()]"
   ]
  },
  {
   "cell_type": "code",
   "execution_count": 32,
   "id": "1c81d41e-8cfe-4c08-8ec4-23b15f248e14",
   "metadata": {
    "colab": {
     "base_uri": "https://localhost:8080/"
    },
    "id": "1c81d41e-8cfe-4c08-8ec4-23b15f248e14",
    "outputId": "b111e8ac-0461-4062-b1ab-c242ca5b67f0"
   },
   "outputs": [
    {
     "name": "stdout",
     "output_type": "stream",
     "text": [
      "len of podcast_test becomes 0\n"
     ]
    }
   ],
   "source": [
    "print(f'len of podcast_test becomes {len(podcats_test)}')"
   ]
  },
  {
   "cell_type": "markdown",
   "id": "756cd877-a22d-47ed-a7e9-5b3e2fd30568",
   "metadata": {
    "id": "756cd877-a22d-47ed-a7e9-5b3e2fd30568"
   },
   "source": [
    "### datasets concat and text prep"
   ]
  },
  {
   "cell_type": "code",
   "execution_count": 33,
   "id": "ea098f29-9ad7-4693-8530-7652ce3b22d6",
   "metadata": {
    "id": "ea098f29-9ad7-4693-8530-7652ce3b22d6"
   },
   "outputs": [],
   "source": [
    "#учитывая, что подкасты не имеют теста, то мы откажемся от их использования, также откажемся от записей, которые не содержат текста в используемых датасетах"
   ]
  },
  {
   "cell_type": "code",
   "execution_count": 34,
   "id": "28a22dc6-2dab-4397-b4c3-8c8539e0de93",
   "metadata": {
    "id": "28a22dc6-2dab-4397-b4c3-8c8539e0de93"
   },
   "outputs": [],
   "source": [
    "crowd_train = crowd_train[crowd_train['speaker_text'].notna()]\n",
    "crowd_test = crowd_test[crowd_test['speaker_text'].notna()]"
   ]
  },
  {
   "cell_type": "code",
   "execution_count": 35,
   "id": "251ad6fa-5a5d-4915-ae3a-98975ed4d28c",
   "metadata": {
    "colab": {
     "base_uri": "https://localhost:8080/"
    },
    "id": "251ad6fa-5a5d-4915-ae3a-98975ed4d28c",
    "outputId": "ede59d4b-cfa7-4f10-fdfd-1122175ab8dd"
   },
   "outputs": [
    {
     "name": "stdout",
     "output_type": "stream",
     "text": [
      "565077 48502\n"
     ]
    }
   ],
   "source": [
    "print(len(crowd_train), len(crowd_test))"
   ]
  },
  {
   "cell_type": "code",
   "execution_count": 191,
   "id": "12d5c149-f778-413d-9e4a-103eaee63fbf",
   "metadata": {
    "colab": {
     "base_uri": "https://localhost:8080/"
    },
    "id": "12d5c149-f778-413d-9e4a-103eaee63fbf",
    "outputId": "9521b96b-114c-49cc-c1c2-dad145f0feba"
   },
   "outputs": [
    {
     "name": "stdout",
     "output_type": "stream",
     "text": [
      "613579\n"
     ]
    }
   ],
   "source": [
    "df = pd.concat([crowd_train, crowd_test], axis=0)\n",
    "print(len(df))"
   ]
  },
  {
   "cell_type": "code",
   "execution_count": 192,
   "id": "7dc1fd05-688d-4a36-92ed-8d825868401a",
   "metadata": {
    "colab": {
     "base_uri": "https://localhost:8080/",
     "height": 981
    },
    "id": "7dc1fd05-688d-4a36-92ed-8d825868401a",
    "outputId": "28728ae0-e215-4ed0-9403-9946dbe3f99b"
   },
   "outputs": [],
   "source": [
    "df = df.sample(frac=1).reset_index(drop=True)"
   ]
  },
  {
   "cell_type": "code",
   "execution_count": 187,
   "id": "96ef5bb8-70c1-4b6e-8897-beb8ad0fc275",
   "metadata": {},
   "outputs": [
    {
     "data": {
      "text/html": [
       "<div>\n",
       "<style scoped>\n",
       "    .dataframe tbody tr th:only-of-type {\n",
       "        vertical-align: middle;\n",
       "    }\n",
       "\n",
       "    .dataframe tbody tr th {\n",
       "        vertical-align: top;\n",
       "    }\n",
       "\n",
       "    .dataframe thead th {\n",
       "        text-align: right;\n",
       "    }\n",
       "</style>\n",
       "<table border=\"1\" class=\"dataframe\">\n",
       "  <thead>\n",
       "    <tr style=\"text-align: right;\">\n",
       "      <th></th>\n",
       "      <th>audio_path</th>\n",
       "      <th>duration</th>\n",
       "      <th>annotator_emo</th>\n",
       "      <th>speaker_text</th>\n",
       "      <th>mfcc</th>\n",
       "    </tr>\n",
       "  </thead>\n",
       "  <tbody>\n",
       "    <tr>\n",
       "      <th>0</th>\n",
       "      <td>D:\\data\\dusha\\crowd\\crowd_train\\wavs\\ee8c4b383...</td>\n",
       "      <td>4.060000</td>\n",
       "      <td>positive</td>\n",
       "      <td>другой мир третья часть</td>\n",
       "      <td>[[-617.4648, -614.5307, -621.55347, -629.93024...</td>\n",
       "    </tr>\n",
       "    <tr>\n",
       "      <th>1</th>\n",
       "      <td>D:\\data\\dusha\\crowd\\crowd_train\\wavs\\246c2d459...</td>\n",
       "      <td>2.925312</td>\n",
       "      <td>sad</td>\n",
       "      <td>расскажи шутки</td>\n",
       "      <td>[[-716.5156, -630.4661, -630.7716, -687.54395,...</td>\n",
       "    </tr>\n",
       "  </tbody>\n",
       "</table>\n",
       "</div>"
      ],
      "text/plain": [
       "                                          audio_path  duration annotator_emo  \\\n",
       "0  D:\\data\\dusha\\crowd\\crowd_train\\wavs\\ee8c4b383...  4.060000      positive   \n",
       "1  D:\\data\\dusha\\crowd\\crowd_train\\wavs\\246c2d459...  2.925312           sad   \n",
       "\n",
       "              speaker_text                                               mfcc  \n",
       "0  другой мир третья часть  [[-617.4648, -614.5307, -621.55347, -629.93024...  \n",
       "1           расскажи шутки  [[-716.5156, -630.4661, -630.7716, -687.54395,...  "
      ]
     },
     "execution_count": 187,
     "metadata": {},
     "output_type": "execute_result"
    }
   ],
   "source": [
    "df.head(2)"
   ]
  },
  {
   "cell_type": "markdown",
   "id": "8173ab76-bcd2-43b8-9ffd-8982f66c6328",
   "metadata": {
    "id": "8173ab76-bcd2-43b8-9ffd-8982f66c6328"
   },
   "source": [
    "# classification"
   ]
  },
  {
   "cell_type": "markdown",
   "id": "0660a5f5-bc73-41c8-9421-2c8848fe1fc6",
   "metadata": {
    "jp-MarkdownHeadingCollapsed": true
   },
   "source": [
    "## task 2"
   ]
  },
  {
   "cell_type": "code",
   "execution_count": 56,
   "id": "fa438ba2-2eea-403f-b102-7d32b1c02987",
   "metadata": {},
   "outputs": [],
   "source": [
    "from sklearn.model_selection import train_test_split\n",
    "from sklearn import svm\n",
    "from sklearn.neighbors import KNeighborsClassifier\n",
    "from sklearn.ensemble import BaggingClassifier\n",
    "from sklearn.linear_model import RidgeClassifier\n",
    "from sklearn.dummy import DummyClassifier\n",
    "from sklearn.ensemble import RandomForestClassifier\n",
    "import time\n",
    "from sklearn.model_selection import RepeatedStratifiedKFold\n",
    "from sklearn.model_selection import cross_val_score"
   ]
  },
  {
   "cell_type": "code",
   "execution_count": 49,
   "id": "358adf2f-a553-4f1a-92dc-8c071528e253",
   "metadata": {},
   "outputs": [],
   "source": [
    "def evaluate_model(X, y, model):\n",
    "\tstart = time.time()\n",
    "\tcv = RepeatedStratifiedKFold(n_splits=10, n_repeats=5, random_state=1)\n",
    "\tscores = cross_val_score(model, X, y, scoring='accuracy', cv=cv, n_jobs=-1)\n",
    "\ttrain_time = time.time() - start\n",
    "\treturn scores, train_time"
   ]
  },
  {
   "cell_type": "code",
   "execution_count": 58,
   "id": "b8c07468-dfb2-44bc-9718-ccadb43c92ff",
   "metadata": {},
   "outputs": [],
   "source": [
    "new_df = []\n",
    "for num, item in enumerate(df['mfcc'][0:2000]):\n",
    "    new_df.append([])\n",
    "    for i, item2 in enumerate(item):\n",
    "        for j, item3 in enumerate(item2):\n",
    "            new_df[num].append(item3)"
   ]
  },
  {
   "cell_type": "code",
   "execution_count": 59,
   "id": "2583a724-dac4-44f5-8ad6-fbb9517d36d2",
   "metadata": {},
   "outputs": [],
   "source": [
    "X = np.array([np.array(xi) for xi in new_df])\n",
    "del new_df"
   ]
  },
  {
   "cell_type": "code",
   "execution_count": 60,
   "id": "2fc9101b-eeaf-4bbb-8766-ca5f4c8cd769",
   "metadata": {},
   "outputs": [],
   "source": [
    "y = np.array(df['annotator_emo'].iloc[0:2000])"
   ]
  },
  {
   "cell_type": "code",
   "execution_count": 61,
   "id": "f81ed9d6-61c5-4c36-9a16-c359af3340dd",
   "metadata": {},
   "outputs": [],
   "source": [
    "dummyClassifier = DummyClassifier(strategy='most_frequent')\n",
    "linearClassifier = svm.SVC(kernel = 'linear')\n",
    "rbfClassifier = svm.SVC(kernel='rbf')\n",
    "baggingClassifier = BaggingClassifier()"
   ]
  },
  {
   "cell_type": "code",
   "execution_count": 62,
   "id": "e357e105-328c-4f3b-8cdc-5972717fbe45",
   "metadata": {},
   "outputs": [
    {
     "name": "stdout",
     "output_type": "stream",
     "text": [
      "DummyClassifier(strategy='most_frequent') 1.6899614334106445 0.5475\n",
      "SVC(kernel='linear') 68.48928642272949 0.6701\n",
      "SVC() 79.46580362319946 0.5475\n",
      "BaggingClassifier() 160.20532822608948 0.6825\n"
     ]
    },
    {
     "data": {
      "text/html": [
       "<div>\n",
       "<style scoped>\n",
       "    .dataframe tbody tr th:only-of-type {\n",
       "        vertical-align: middle;\n",
       "    }\n",
       "\n",
       "    .dataframe tbody tr th {\n",
       "        vertical-align: top;\n",
       "    }\n",
       "\n",
       "    .dataframe thead th {\n",
       "        text-align: right;\n",
       "    }\n",
       "</style>\n",
       "<table border=\"1\" class=\"dataframe\">\n",
       "  <thead>\n",
       "    <tr style=\"text-align: right;\">\n",
       "      <th></th>\n",
       "      <th>mean accuracy</th>\n",
       "      <th>train time</th>\n",
       "      <th>model</th>\n",
       "    </tr>\n",
       "  </thead>\n",
       "  <tbody>\n",
       "    <tr>\n",
       "      <th>0</th>\n",
       "      <td>0.5475</td>\n",
       "      <td>1.689961</td>\n",
       "      <td>DummyClassifier(strategy='most_frequent')</td>\n",
       "    </tr>\n",
       "    <tr>\n",
       "      <th>1</th>\n",
       "      <td>0.6701</td>\n",
       "      <td>68.489286</td>\n",
       "      <td>SVC(kernel='linear')</td>\n",
       "    </tr>\n",
       "    <tr>\n",
       "      <th>2</th>\n",
       "      <td>0.5475</td>\n",
       "      <td>79.465804</td>\n",
       "      <td>SVC()</td>\n",
       "    </tr>\n",
       "    <tr>\n",
       "      <th>3</th>\n",
       "      <td>0.6825</td>\n",
       "      <td>160.205328</td>\n",
       "      <td>BaggingClassifier()</td>\n",
       "    </tr>\n",
       "  </tbody>\n",
       "</table>\n",
       "</div>"
      ],
      "text/plain": [
       "   mean accuracy  train time                                      model\n",
       "0         0.5475    1.689961  DummyClassifier(strategy='most_frequent')\n",
       "1         0.6701   68.489286                       SVC(kernel='linear')\n",
       "2         0.5475   79.465804                                      SVC()\n",
       "3         0.6825  160.205328                        BaggingClassifier()"
      ]
     },
     "execution_count": 62,
     "metadata": {},
     "output_type": "execute_result"
    }
   ],
   "source": [
    "#тест на определение лучшей модели из заданных\n",
    "res = pd.DataFrame({\"mean accuracy\":[],\n",
    "                    \"train time\": [],\n",
    "                    \"model\": []})\n",
    "res2 = []\n",
    "models = [dummyClassifier, linearClassifier, rbfClassifier, baggingClassifier]\n",
    "for i in models:\n",
    "  scores, train_time = evaluate_model(X, y, i)\n",
    "  res.loc[len(res.index)] = [np.mean(scores), train_time, i]\n",
    "  print(i, train_time, np.mean(scores))\n",
    "  res2.append(scores)\n",
    "res"
   ]
  },
  {
   "cell_type": "markdown",
   "id": "ooz2wiPvC3Hb",
   "metadata": {
    "id": "ooz2wiPvC3Hb",
    "jp-MarkdownHeadingCollapsed": true
   },
   "source": [
    "## task 3"
   ]
  },
  {
   "cell_type": "markdown",
   "id": "so_U5-pb1gOF",
   "metadata": {
    "id": "so_U5-pb1gOF",
    "jp-MarkdownHeadingCollapsed": true
   },
   "source": [
    "### 1st model (mfcc and text)"
   ]
  },
  {
   "cell_type": "code",
   "execution_count": null,
   "id": "b6910bf9-3986-4ad3-b582-89093b96d115",
   "metadata": {},
   "outputs": [],
   "source": [
    "dataset = Dataset(df)"
   ]
  },
  {
   "cell_type": "code",
   "execution_count": null,
   "id": "61bb9d31-6cc5-484b-8eaf-6ff8023e845e",
   "metadata": {},
   "outputs": [],
   "source": [
    "BATCH_SIZE = 1000\n",
    "INIT_LR = 1e-3\n",
    "EPOCH = 150\n",
    "device = \"cuda\" if torch.cuda.is_available() else \"cpu\"\n",
    "torch.cuda.empty_cache() if device == 'cuda' else None"
   ]
  },
  {
   "cell_type": "code",
   "execution_count": null,
   "id": "a3ad76ea-b6e4-4a1b-aff4-fde4fb910e58",
   "metadata": {},
   "outputs": [],
   "source": [
    "trainSize = int(0.8*len(dataset))\n",
    "valSize = int(0.1*len(dataset))\n",
    "testSize = len(dataset) - trainSize - valSize\n",
    "train_dataset, val_dataset, test_dataset = torch.utils.data.random_split(dataset, [trainSize, valSize, testSize])"
   ]
  },
  {
   "cell_type": "code",
   "execution_count": null,
   "id": "bc342361-dc0c-4883-a972-4bc9531e1edd",
   "metadata": {},
   "outputs": [],
   "source": [
    "trainLoader = torch.utils.data.DataLoader(train_dataset, batch_size=BATCH_SIZE, shuffle=True, pin_memory=True, num_workers = 0)\n",
    "valLoader = torch.utils.data.DataLoader(val_dataset, batch_size=BATCH_SIZE, shuffle=True, pin_memory=True, num_workers = 0)\n",
    "testLoader = torch.utils.data.DataLoader(test_dataset, batch_size=BATCH_SIZE, shuffle=False, pin_memory=True, num_workers = 0)"
   ]
  },
  {
   "cell_type": "code",
   "execution_count": 42,
   "id": "CrqH7zx3woZt",
   "metadata": {
    "colab": {
     "base_uri": "https://localhost:8080/"
    },
    "id": "CrqH7zx3woZt",
    "outputId": "feb0644d-2f71-47f1-d13b-5c45e467f56f"
   },
   "outputs": [
    {
     "name": "stdout",
     "output_type": "stream",
     "text": [
      "in = (25461, torch.Size([13, 147])), out = 4\n"
     ]
    }
   ],
   "source": [
    "in_size = (len(dataset.vocab), dataset[0][1].shape)\n",
    "out_size = len(dataset.class_dic)\n",
    "print(f'in = {in_size}, out = {out_size}')"
   ]
  },
  {
   "cell_type": "code",
   "execution_count": 43,
   "id": "gsRhc4buwv7U",
   "metadata": {
    "colab": {
     "base_uri": "https://localhost:8080/"
    },
    "id": "gsRhc4buwv7U",
    "outputId": "2929d8ec-1c51-44f7-a53a-5ef6e869128e"
   },
   "outputs": [
    {
     "name": "stdout",
     "output_type": "stream",
     "text": [
      "кол-во параметров в модели = 9835724\n"
     ]
    }
   ],
   "source": [
    "model = Model(out_size, len(dataset.vocab), 200, in_size[1][0]).to(device)\n",
    "print(f'кол-во параметров в модели = {sum(p.numel() for p in model.parameters() if p.requires_grad)}')"
   ]
  },
  {
   "cell_type": "code",
   "execution_count": 44,
   "id": "0wofaXyGxn8e",
   "metadata": {
    "colab": {
     "base_uri": "https://localhost:8080/"
    },
    "id": "0wofaXyGxn8e",
    "outputId": "d9f77c28-6c36-4d0b-873a-04f113d1beb6"
   },
   "outputs": [
    {
     "data": {
      "text/plain": [
       "Model(\n",
       "  (text_features): Sequential(\n",
       "    (0): Embedding(25461, 200, padding_idx=0)\n",
       "    (1): Dropout(p=0.25, inplace=False)\n",
       "    (2): Transpose()\n",
       "    (3): Conv1d(200, 128, kernel_size=(3,), stride=(1,))\n",
       "    (4): ReLU()\n",
       "    (5): Dropout(p=0.25, inplace=False)\n",
       "    (6): MaxPool1d(kernel_size=2, stride=2, padding=0, dilation=1, ceil_mode=False)\n",
       "    (7): Transpose()\n",
       "    (8): LSTM(128, 128, num_layers=2, batch_first=True, dropout=0.5)\n",
       "    (9): GetFeaturesFromRNN()\n",
       "    (10): Flatten(start_dim=1, end_dim=-1)\n",
       "  )\n",
       "  (mfcc_features): Sequential(\n",
       "    (0): Conv1d(13, 128, kernel_size=(3,), stride=(1,))\n",
       "    (1): ReLU()\n",
       "    (2): Conv1d(128, 128, kernel_size=(3,), stride=(1,))\n",
       "    (3): ReLU()\n",
       "    (4): Dropout(p=0.1, inplace=False)\n",
       "    (5): MaxPool1d(kernel_size=8, stride=8, padding=0, dilation=1, ceil_mode=False)\n",
       "    (6): Conv1d(128, 128, kernel_size=(3,), stride=(1,))\n",
       "    (7): ReLU()\n",
       "    (8): Conv1d(128, 128, kernel_size=(3,), stride=(1,))\n",
       "    (9): ReLU()\n",
       "    (10): Conv1d(128, 128, kernel_size=(3,), stride=(1,))\n",
       "    (11): ReLU()\n",
       "    (12): Dropout(p=0.1, inplace=False)\n",
       "    (13): Conv1d(128, 128, kernel_size=(3,), stride=(1,))\n",
       "    (14): ReLU()\n",
       "    (15): Flatten(start_dim=1, end_dim=-1)\n",
       "  )\n",
       "  (classificator): Sequential(\n",
       "    (0): Linear(in_features=1280, out_features=2560, bias=True)\n",
       "    (1): ReLU()\n",
       "    (2): Dropout(p=0.5, inplace=False)\n",
       "    (3): Linear(in_features=2560, out_features=320, bias=True)\n",
       "    (4): Dropout(p=0.5, inplace=False)\n",
       "    (5): Linear(in_features=320, out_features=160, bias=True)\n",
       "    (6): Dropout(p=0.5, inplace=False)\n",
       "    (7): Linear(in_features=160, out_features=4, bias=True)\n",
       "  )\n",
       ")"
      ]
     },
     "execution_count": 44,
     "metadata": {},
     "output_type": "execute_result"
    }
   ],
   "source": [
    "model"
   ]
  },
  {
   "cell_type": "code",
   "execution_count": 45,
   "id": "M-2S3z0uxoT2",
   "metadata": {
    "colab": {
     "base_uri": "https://localhost:8080/"
    },
    "id": "M-2S3z0uxoT2",
    "outputId": "92c28fee-0c4c-46bb-99c3-ebeb3d45aac3"
   },
   "outputs": [
    {
     "data": {
      "text/plain": [
       "True"
      ]
     },
     "execution_count": 45,
     "metadata": {},
     "output_type": "execute_result"
    }
   ],
   "source": [
    "next(model.parameters()).is_cuda"
   ]
  },
  {
   "cell_type": "code",
   "execution_count": 46,
   "id": "3M2eo0A74zQQ",
   "metadata": {
    "id": "3M2eo0A74zQQ"
   },
   "outputs": [],
   "source": [
    "criterion = torch.nn.CrossEntropyLoss()\n",
    "optimizer = torch.optim.Adam(\n",
    "    model.parameters(),\n",
    "    lr=INIT_LR,\n",
    ")\n",
    "early_stopping = EarlyStopping(min_delta=0.005, tolerance=10)"
   ]
  },
  {
   "cell_type": "code",
   "execution_count": 47,
   "id": "WmvG2BBT4zrj",
   "metadata": {
    "colab": {
     "base_uri": "https://localhost:8080/"
    },
    "id": "WmvG2BBT4zrj",
    "outputId": "ae493bac-6451-45b4-8995-964c3bbae43e"
   },
   "outputs": [
    {
     "name": "stderr",
     "output_type": "stream",
     "text": [
      "  8%|██████▎                                                                        | 12/150 [08:05<1:32:06, 40.05s/it]"
     ]
    },
    {
     "name": "stdout",
     "output_type": "stream",
     "text": [
      " counter = 1\n"
     ]
    },
    {
     "name": "stderr",
     "output_type": "stream",
     "text": [
      " 13%|██████████                                                                     | 19/150 [12:45<1:27:28, 40.06s/it]"
     ]
    },
    {
     "name": "stdout",
     "output_type": "stream",
     "text": [
      " counter = 2\n"
     ]
    },
    {
     "name": "stderr",
     "output_type": "stream",
     "text": [
      "\r",
      " 13%|██████████▌                                                                    | 20/150 [13:25<1:26:38, 39.99s/it]"
     ]
    },
    {
     "name": "stdout",
     "output_type": "stream",
     "text": [
      " counter = 3\n"
     ]
    },
    {
     "name": "stderr",
     "output_type": "stream",
     "text": [
      "\r",
      " 14%|███████████                                                                    | 21/150 [14:05<1:25:37, 39.82s/it]"
     ]
    },
    {
     "name": "stdout",
     "output_type": "stream",
     "text": [
      " counter = 4\n"
     ]
    },
    {
     "name": "stderr",
     "output_type": "stream",
     "text": [
      "\r",
      " 15%|███████████▌                                                                   | 22/150 [14:44<1:25:01, 39.86s/it]"
     ]
    },
    {
     "name": "stdout",
     "output_type": "stream",
     "text": [
      " counter = 5\n"
     ]
    },
    {
     "name": "stderr",
     "output_type": "stream",
     "text": [
      "\r",
      " 15%|████████████                                                                   | 23/150 [15:24<1:24:26, 39.89s/it]"
     ]
    },
    {
     "name": "stdout",
     "output_type": "stream",
     "text": [
      " counter = 6\n"
     ]
    },
    {
     "name": "stderr",
     "output_type": "stream",
     "text": [
      "\r",
      " 16%|████████████▋                                                                  | 24/150 [16:04<1:23:21, 39.69s/it]"
     ]
    },
    {
     "name": "stdout",
     "output_type": "stream",
     "text": [
      " counter = 7\n"
     ]
    },
    {
     "name": "stderr",
     "output_type": "stream",
     "text": [
      "\r",
      " 17%|█████████████▏                                                                 | 25/150 [16:43<1:22:37, 39.66s/it]"
     ]
    },
    {
     "name": "stdout",
     "output_type": "stream",
     "text": [
      " counter = 8\n"
     ]
    },
    {
     "name": "stderr",
     "output_type": "stream",
     "text": [
      "\r",
      " 17%|█████████████▋                                                                 | 26/150 [17:23<1:21:42, 39.54s/it]"
     ]
    },
    {
     "name": "stdout",
     "output_type": "stream",
     "text": [
      " counter = 9\n"
     ]
    },
    {
     "name": "stderr",
     "output_type": "stream",
     "text": [
      "\r",
      " 17%|█████████████▋                                                                 | 26/150 [18:02<1:26:04, 41.65s/it]"
     ]
    },
    {
     "name": "stdout",
     "output_type": "stream",
     "text": [
      " counter = 10\n",
      "\n",
      "early stop at epoch №26\n"
     ]
    },
    {
     "name": "stderr",
     "output_type": "stream",
     "text": [
      "\n"
     ]
    }
   ],
   "source": [
    "train_loss = []\n",
    "val_loss = []\n",
    "test_acc = []\n",
    "for epoch in tqdm.tqdm(range(EPOCH)):\n",
    "  epoch_train_loss = train_one_epoch(model, trainLoader, criterion, optimizer, device)\n",
    "  train_loss.append(epoch_train_loss)\n",
    "\n",
    "  with torch.no_grad():\n",
    "    epoch_val_loss = val_one_epoch(model, valLoader, criterion, device)\n",
    "    val_loss.append(epoch_val_loss)\n",
    "\n",
    "  early_stopping(epoch_val_loss)\n",
    "  if early_stopping.flag:\n",
    "    print(f'\\nearly stop at epoch №{epoch}')\n",
    "    break\n",
    "torch.cuda.empty_cache() if device == 'cuda' else None"
   ]
  },
  {
   "cell_type": "code",
   "execution_count": 48,
   "id": "PXVjMvU1D6Ha",
   "metadata": {
    "colab": {
     "base_uri": "https://localhost:8080/",
     "height": 448
    },
    "id": "PXVjMvU1D6Ha",
    "outputId": "bc924caf-edc9-41b5-e215-a9acb1939c0d"
   },
   "outputs": [
    {
     "data": {
      "text/plain": [
       "[<matplotlib.lines.Line2D at 0x1f370d51150>]"
      ]
     },
     "execution_count": 48,
     "metadata": {},
     "output_type": "execute_result"
    },
    {
     "data": {
      "image/png": "[encoded data removed]",
      "text/plain": [
       "<Figure size 640x480 with 1 Axes>"
      ]
     },
     "metadata": {},
     "output_type": "display_data"
    }
   ],
   "source": [
    "import matplotlib.pyplot as plt\n",
    "plt.plot([np.mean(x) for x in train_loss])"
   ]
  },
  {
   "cell_type": "code",
   "execution_count": 49,
   "id": "_NJdSUYIFihp",
   "metadata": {
    "id": "_NJdSUYIFihp"
   },
   "outputs": [],
   "source": [
    "with torch.no_grad():\n",
    "    test_data = test_model(model, testLoader, device, [0, 1, 2, 3])\n",
    "torch.cuda.empty_cache() if device == 'cuda' else None"
   ]
  },
  {
   "cell_type": "code",
   "execution_count": 50,
   "id": "VAjSHWnyFjiG",
   "metadata": {
    "colab": {
     "base_uri": "https://localhost:8080/"
    },
    "id": "VAjSHWnyFjiG",
    "outputId": "a6e099b3-2567-4424-b7a5-d14b3d5773e5"
   },
   "outputs": [
    {
     "name": "stdout",
     "output_type": "stream",
     "text": [
      "overall acc = 80.1%\n"
     ]
    }
   ],
   "source": [
    "overall_accuracy = test_data[1].item()/test_data[2]\n",
    "print(f'overall acc = {round(overall_accuracy*100,2)}%')"
   ]
  },
  {
   "cell_type": "code",
   "execution_count": 51,
   "id": "vJ0JTZHDGE6o",
   "metadata": {
    "colab": {
     "base_uri": "https://localhost:8080/",
     "height": 448
    },
    "id": "vJ0JTZHDGE6o",
    "outputId": "c334276c-1dfd-4781-a38d-3a5d6a5b1c45"
   },
   "outputs": [
    {
     "data": {
      "text/plain": [
       "<Axes: >"
      ]
     },
     "execution_count": 51,
     "metadata": {},
     "output_type": "execute_result"
    },
    {
     "data": {
      "image/png": "[encoded data removed]",
      "text/plain": [
       "<Figure size 640x480 with 2 Axes>"
      ]
     },
     "metadata": {},
     "output_type": "display_data"
    }
   ],
   "source": [
    "from seaborn import heatmap\n",
    "heatmap(test_data[0])"
   ]
  },
  {
   "cell_type": "code",
   "execution_count": 52,
   "id": "zUnYgQH_38j_",
   "metadata": {
    "id": "zUnYgQH_38j_"
   },
   "outputs": [],
   "source": [
    "torch.save({\n",
    "            'epoch': epoch,\n",
    "            'model_state_dict': model.state_dict(),\n",
    "            'optimizer_state_dict': optimizer.state_dict(),\n",
    "            'train_loss': train_loss,\n",
    "            'val_loss': val_loss\n",
    "            }, r'C:\\Users\\user\\Desktop\\dz\\nlp\\lab6\\models\\text-mfcc-custom.model')"
   ]
  },
  {
   "cell_type": "markdown",
   "id": "pZPQ0NQW1ouL",
   "metadata": {
    "id": "pZPQ0NQW1ouL",
    "jp-MarkdownHeadingCollapsed": true
   },
   "source": [
    "### 2nd model (mfcc only)"
   ]
  },
  {
   "cell_type": "code",
   "execution_count": null,
   "id": "766aac40-4759-4e18-9f1c-83753c8d3788",
   "metadata": {},
   "outputs": [],
   "source": [
    "dataset = Dataset(df)"
   ]
  },
  {
   "cell_type": "code",
   "execution_count": null,
   "id": "1bd3e6a5-23d1-4f6e-a323-aa4456d182a5",
   "metadata": {},
   "outputs": [],
   "source": [
    "BATCH_SIZE = 1000\n",
    "INIT_LR = 1e-3\n",
    "EPOCH = 150\n",
    "device = \"cuda\" if torch.cuda.is_available() else \"cpu\"\n",
    "torch.cuda.empty_cache() if device == 'cuda' else None"
   ]
  },
  {
   "cell_type": "code",
   "execution_count": null,
   "id": "5370f29c-0cee-45e5-902e-bc8eb1b43c03",
   "metadata": {},
   "outputs": [],
   "source": [
    "trainSize = int(0.8*len(dataset))\n",
    "valSize = int(0.1*len(dataset))\n",
    "testSize = len(dataset) - trainSize - valSize\n",
    "train_dataset, val_dataset, test_dataset = torch.utils.data.random_split(dataset, [trainSize, valSize, testSize])"
   ]
  },
  {
   "cell_type": "code",
   "execution_count": null,
   "id": "4c2bd654-bc97-4e43-b51f-323bff87dea4",
   "metadata": {},
   "outputs": [],
   "source": [
    "trainLoader = torch.utils.data.DataLoader(train_dataset, batch_size=BATCH_SIZE, shuffle=True, pin_memory=True, num_workers = 0)\n",
    "valLoader = torch.utils.data.DataLoader(val_dataset, batch_size=BATCH_SIZE, shuffle=True, pin_memory=True, num_workers = 0)\n",
    "testLoader = torch.utils.data.DataLoader(test_dataset, batch_size=BATCH_SIZE, shuffle=False, pin_memory=True, num_workers = 0)"
   ]
  },
  {
   "cell_type": "code",
   "execution_count": 53,
   "id": "8igxXlZH5MpQ",
   "metadata": {
    "colab": {
     "base_uri": "https://localhost:8080/"
    },
    "id": "8igxXlZH5MpQ",
    "outputId": "04a9ed50-b4d2-4a7a-f65f-81ef9c7a8a1e"
   },
   "outputs": [
    {
     "name": "stdout",
     "output_type": "stream",
     "text": [
      "in = torch.Size([13, 147]), out = 4\n"
     ]
    }
   ],
   "source": [
    "in_size = (dataset[0][1].shape)\n",
    "out_size = len(dataset.class_dic)\n",
    "print(f'in = {in_size}, out = {out_size}')"
   ]
  },
  {
   "cell_type": "code",
   "execution_count": 54,
   "id": "HBWhk_sz5Det",
   "metadata": {
    "colab": {
     "base_uri": "https://localhost:8080/"
    },
    "id": "HBWhk_sz5Det",
    "outputId": "d06720fb-52cd-4695-c7a6-ae80773d6539"
   },
   "outputs": [
    {
     "name": "stdout",
     "output_type": "stream",
     "text": [
      "кол-во параметров в модели = 3614068\n"
     ]
    }
   ],
   "source": [
    "model = Model2(out_size, in_size[0]).to(device)\n",
    "print(f'кол-во параметров в модели = {sum(p.numel() for p in model.parameters() if p.requires_grad)}')"
   ]
  },
  {
   "cell_type": "code",
   "execution_count": 55,
   "id": "26YHkSi-5Deu",
   "metadata": {
    "colab": {
     "base_uri": "https://localhost:8080/"
    },
    "id": "26YHkSi-5Deu",
    "outputId": "2a13b407-fb4a-4232-8576-64a1e0b6df26"
   },
   "outputs": [
    {
     "data": {
      "text/plain": [
       "Model2(\n",
       "  (mfcc_features): Sequential(\n",
       "    (0): Conv1d(13, 128, kernel_size=(3,), stride=(1,))\n",
       "    (1): ReLU()\n",
       "    (2): Conv1d(128, 128, kernel_size=(3,), stride=(1,))\n",
       "    (3): ReLU()\n",
       "    (4): Dropout(p=0.1, inplace=False)\n",
       "    (5): MaxPool1d(kernel_size=8, stride=8, padding=0, dilation=1, ceil_mode=False)\n",
       "    (6): Conv1d(128, 128, kernel_size=(3,), stride=(1,))\n",
       "    (7): ReLU()\n",
       "    (8): Conv1d(128, 128, kernel_size=(3,), stride=(1,))\n",
       "    (9): ReLU()\n",
       "    (10): Conv1d(128, 128, kernel_size=(3,), stride=(1,))\n",
       "    (11): ReLU()\n",
       "    (12): Dropout(p=0.1, inplace=False)\n",
       "    (13): Conv1d(128, 128, kernel_size=(3,), stride=(1,))\n",
       "    (14): ReLU()\n",
       "    (15): Flatten(start_dim=1, end_dim=-1)\n",
       "  )\n",
       "  (classificator): Sequential(\n",
       "    (0): Linear(in_features=1152, out_features=2304, bias=True)\n",
       "    (1): ReLU()\n",
       "    (2): Dropout(p=0.5, inplace=False)\n",
       "    (3): Linear(in_features=2304, out_features=288, bias=True)\n",
       "    (4): Dropout(p=0.5, inplace=False)\n",
       "    (5): Linear(in_features=288, out_features=144, bias=True)\n",
       "    (6): Dropout(p=0.5, inplace=False)\n",
       "    (7): Linear(in_features=144, out_features=4, bias=True)\n",
       "  )\n",
       ")"
      ]
     },
     "execution_count": 55,
     "metadata": {},
     "output_type": "execute_result"
    }
   ],
   "source": [
    "model"
   ]
  },
  {
   "cell_type": "code",
   "execution_count": 56,
   "id": "-0DAH2nU5Deu",
   "metadata": {
    "colab": {
     "base_uri": "https://localhost:8080/"
    },
    "id": "-0DAH2nU5Deu",
    "outputId": "3a8f05b8-c659-4a99-c723-51edf4bbbd9f"
   },
   "outputs": [
    {
     "data": {
      "text/plain": [
       "True"
      ]
     },
     "execution_count": 56,
     "metadata": {},
     "output_type": "execute_result"
    }
   ],
   "source": [
    "next(model.parameters()).is_cuda"
   ]
  },
  {
   "cell_type": "code",
   "execution_count": 57,
   "id": "JMDLd0A05Deu",
   "metadata": {
    "id": "JMDLd0A05Deu"
   },
   "outputs": [],
   "source": [
    "criterion = torch.nn.CrossEntropyLoss()\n",
    "optimizer = torch.optim.Adam(\n",
    "    model.parameters(),\n",
    "    lr=INIT_LR,\n",
    ")\n",
    "early_stopping = EarlyStopping(min_delta=0.005, tolerance=10)"
   ]
  },
  {
   "cell_type": "code",
   "execution_count": 58,
   "id": "UYWRDPeG5Deu",
   "metadata": {
    "colab": {
     "base_uri": "https://localhost:8080/"
    },
    "id": "UYWRDPeG5Deu",
    "outputId": "1ba48ac8-8329-4759-b997-423716f068b3"
   },
   "outputs": [
    {
     "name": "stderr",
     "output_type": "stream",
     "text": [
      "  9%|██████▊                                                                        | 13/150 [08:22<1:29:23, 39.15s/it]"
     ]
    },
    {
     "name": "stdout",
     "output_type": "stream",
     "text": [
      " counter = 1\n"
     ]
    },
    {
     "name": "stderr",
     "output_type": "stream",
     "text": [
      " 10%|███████▉                                                                       | 15/150 [09:39<1:27:26, 38.86s/it]"
     ]
    },
    {
     "name": "stdout",
     "output_type": "stream",
     "text": [
      " counter = 2\n"
     ]
    },
    {
     "name": "stderr",
     "output_type": "stream",
     "text": [
      " 11%|████████▉                                                                      | 17/150 [11:01<1:28:41, 40.01s/it]"
     ]
    },
    {
     "name": "stdout",
     "output_type": "stream",
     "text": [
      " counter = 3\n"
     ]
    },
    {
     "name": "stderr",
     "output_type": "stream",
     "text": [
      " 13%|██████████▌                                                                    | 20/150 [13:04<1:27:44, 40.50s/it]"
     ]
    },
    {
     "name": "stdout",
     "output_type": "stream",
     "text": [
      " counter = 4\n"
     ]
    },
    {
     "name": "stderr",
     "output_type": "stream",
     "text": [
      " 15%|████████████                                                                   | 23/150 [15:07<1:26:26, 40.84s/it]"
     ]
    },
    {
     "name": "stdout",
     "output_type": "stream",
     "text": [
      " counter = 5\n"
     ]
    },
    {
     "name": "stderr",
     "output_type": "stream",
     "text": [
      " 20%|███████████████▊                                                               | 30/150 [19:55<1:22:29, 41.25s/it]"
     ]
    },
    {
     "name": "stdout",
     "output_type": "stream",
     "text": [
      " counter = 6\n"
     ]
    },
    {
     "name": "stderr",
     "output_type": "stream",
     "text": [
      " 23%|█████████████████▉                                                             | 34/150 [22:42<1:20:15, 41.51s/it]"
     ]
    },
    {
     "name": "stdout",
     "output_type": "stream",
     "text": [
      " counter = 7\n"
     ]
    },
    {
     "name": "stderr",
     "output_type": "stream",
     "text": [
      " 25%|███████████████████▍                                                           | 37/150 [24:46<1:17:51, 41.34s/it]"
     ]
    },
    {
     "name": "stdout",
     "output_type": "stream",
     "text": [
      " counter = 8\n"
     ]
    },
    {
     "name": "stderr",
     "output_type": "stream",
     "text": [
      " 28%|██████████████████████                                                         | 42/150 [28:13<1:14:18, 41.28s/it]"
     ]
    },
    {
     "name": "stdout",
     "output_type": "stream",
     "text": [
      " counter = 9\n"
     ]
    },
    {
     "name": "stderr",
     "output_type": "stream",
     "text": [
      "\r",
      " 28%|██████████████████████                                                         | 42/150 [28:54<1:14:20, 41.30s/it]"
     ]
    },
    {
     "name": "stdout",
     "output_type": "stream",
     "text": [
      " counter = 10\n",
      "\n",
      "early stop at epoch №42\n"
     ]
    },
    {
     "name": "stderr",
     "output_type": "stream",
     "text": [
      "\n"
     ]
    }
   ],
   "source": [
    "train_loss = []\n",
    "val_loss = []\n",
    "test_acc = []\n",
    "for epoch in tqdm.tqdm(range(EPOCH)):\n",
    "  epoch_train_loss = train_one_epoch(model, trainLoader, criterion, optimizer, device)\n",
    "  train_loss.append(epoch_train_loss)\n",
    "\n",
    "  with torch.no_grad():\n",
    "    epoch_val_loss = val_one_epoch(model, valLoader, criterion, device)\n",
    "    val_loss.append(epoch_val_loss)\n",
    "\n",
    "  early_stopping(epoch_val_loss)\n",
    "  if early_stopping.flag:\n",
    "    print(f'\\nearly stop at epoch №{epoch}')\n",
    "    break\n",
    "torch.cuda.empty_cache() if device == 'cuda' else None"
   ]
  },
  {
   "cell_type": "code",
   "execution_count": 59,
   "id": "VvISB6dq5Dev",
   "metadata": {
    "colab": {
     "base_uri": "https://localhost:8080/",
     "height": 448
    },
    "id": "VvISB6dq5Dev",
    "outputId": "b8982003-1daf-4235-86a0-aa834753a3e7"
   },
   "outputs": [
    {
     "data": {
      "text/plain": [
       "[<matplotlib.lines.Line2D at 0x1f370cbee50>]"
      ]
     },
     "execution_count": 59,
     "metadata": {},
     "output_type": "execute_result"
    },
    {
     "data": {
      "image/png": "[encoded data removed]",
      "text/plain": [
       "<Figure size 640x480 with 1 Axes>"
      ]
     },
     "metadata": {},
     "output_type": "display_data"
    }
   ],
   "source": [
    "import matplotlib.pyplot as plt\n",
    "plt.plot([np.mean(x) for x in train_loss])"
   ]
  },
  {
   "cell_type": "code",
   "execution_count": 60,
   "id": "MYzb7xQK5Dev",
   "metadata": {
    "id": "MYzb7xQK5Dev"
   },
   "outputs": [],
   "source": [
    "with torch.no_grad():\n",
    "    test_data = test_model(model, testLoader, device, [0, 1, 2, 3])\n",
    "torch.cuda.empty_cache() if device == 'cuda' else None"
   ]
  },
  {
   "cell_type": "code",
   "execution_count": 61,
   "id": "LPckAXQd5Dev",
   "metadata": {
    "colab": {
     "base_uri": "https://localhost:8080/"
    },
    "id": "LPckAXQd5Dev",
    "outputId": "6d52de3e-bbb2-45d1-e3c8-2e4813a50949"
   },
   "outputs": [
    {
     "name": "stdout",
     "output_type": "stream",
     "text": [
      "overall acc = 77.7%\n"
     ]
    }
   ],
   "source": [
    "overall_accuracy = test_data[1].item()/test_data[2]\n",
    "print(f'overall acc = {round(overall_accuracy*100,2)}%')"
   ]
  },
  {
   "cell_type": "code",
   "execution_count": 62,
   "id": "RGTaqDUB5Dev",
   "metadata": {
    "colab": {
     "base_uri": "https://localhost:8080/",
     "height": 449
    },
    "id": "RGTaqDUB5Dev",
    "outputId": "6b5b4a75-b330-413d-d14d-d68f3ade3cac"
   },
   "outputs": [
    {
     "data": {
      "text/plain": [
       "<Axes: >"
      ]
     },
     "execution_count": 62,
     "metadata": {},
     "output_type": "execute_result"
    },
    {
     "data": {
      "image/png": "[encoded data removed]",
      "text/plain": [
       "<Figure size 640x480 with 2 Axes>"
      ]
     },
     "metadata": {},
     "output_type": "display_data"
    }
   ],
   "source": [
    "from seaborn import heatmap\n",
    "heatmap(test_data[0])"
   ]
  },
  {
   "cell_type": "code",
   "execution_count": 64,
   "id": "NocG1M9k5Dev",
   "metadata": {
    "id": "NocG1M9k5Dev"
   },
   "outputs": [],
   "source": [
    "torch.save({\n",
    "            'epoch': epoch,\n",
    "            'model_state_dict': model.state_dict(),\n",
    "            'optimizer_state_dict': optimizer.state_dict(),\n",
    "            'train_loss': train_loss,\n",
    "            'val_loss': val_loss\n",
    "            }, r'C:\\Users\\user\\Desktop\\dz\\nlp\\lab6\\models\\mfcc-custom.model')"
   ]
  },
  {
   "cell_type": "markdown",
   "id": "1Nga1t_WDDyn",
   "metadata": {
    "id": "1Nga1t_WDDyn",
    "jp-MarkdownHeadingCollapsed": true
   },
   "source": [
    "### 3rd model (hubert)"
   ]
  },
  {
   "cell_type": "markdown",
   "id": "6dd0bb3f-076d-4858-a3ba-5e45fe8d9f8a",
   "metadata": {},
   "source": [
    "#### some funcs"
   ]
  },
  {
   "cell_type": "code",
   "execution_count": 70,
   "id": "da0583ec-3e7a-4e85-9c19-1d827272d1a2",
   "metadata": {},
   "outputs": [],
   "source": [
    "def train_one_epoch(model, train_dataloader, loss_func, optimizer, device):\n",
    "    model.train()\n",
    "    epoch_loss = []\n",
    "    for (local_head_batch, local_label) in train_dataloader:\n",
    "        processor = Wav2Vec2Processor.from_pretrained(\"facebook/hubert-large-ls960-ft\")\n",
    "        audio = []\n",
    "        for item in local_head_batch:\n",
    "            waveform, sr = torchaudio.load(item)\n",
    "            transform = torchaudio.transforms.Resample(sr, 16000)\n",
    "            waveform = transform(waveform).squeeze().numpy()\n",
    "            audio.append(waveform)\n",
    "        local_head_batch = processor(audio, return_tensors=\"pt\", padding=\"longest\", sampling_rate=16000).input_values\n",
    "        \n",
    "        (local_head_batch, local_label) = (local_head_batch.to(device), local_label.to(device))\n",
    "        optimizer.zero_grad()\n",
    "        try:\n",
    "            y_pred = model.forward(local_head_batch)['logits']\n",
    "        except Exception as e:\n",
    "            print(local_head_batch, e)\n",
    "        curr_loss = criterion.forward(y_pred, local_label)\n",
    "        curr_loss.backward()\n",
    "        optimizer.step()\n",
    "        epoch_loss.append(curr_loss.item())\n",
    "    return np.mean(epoch_loss)\n",
    "\n",
    "#use with torch.no_grad()\n",
    "def val_one_epoch(model, val_dataloader, loss_func, device):\n",
    "    model.eval()\n",
    "    epoch_loss = []\n",
    "    for (local_head_batch, local_label) in val_dataloader:\n",
    "        processor = Wav2Vec2Processor.from_pretrained(\"facebook/hubert-large-ls960-ft\")\n",
    "        audio = []\n",
    "        for item in local_head_batch:\n",
    "            waveform, sr = torchaudio.load(item)\n",
    "            transform = torchaudio.transforms.Resample(sr, 16000)\n",
    "            waveform = transform(waveform).squeeze().numpy()\n",
    "            audio.append(waveform)\n",
    "        local_head_batch = processor(audio, return_tensors=\"pt\", padding=\"longest\", sampling_rate=16000).input_values\n",
    "        \n",
    "        (local_head_batch, local_label) = (local_head_batch.to(device), local_label.to(device))\n",
    "        y_pred = model.forward(local_head_batch)['logits']\n",
    "        curr_loss = criterion.forward(y_pred, local_label)\n",
    "        epoch_loss.append(curr_loss.item())\n",
    "    return np.mean(epoch_loss)\n",
    "\n",
    "def test_model(model, test_dataloader, device, classes):\n",
    "    model.eval()\n",
    "    test_hits = 0\n",
    "    total = 0\n",
    "    confusion_matrix = torch.zeros(len(classes), len(classes))\n",
    "    for (local_head_batch, local_label) in test_dataloader:\n",
    "        processor = Wav2Vec2Processor.from_pretrained(\"facebook/hubert-large-ls960-ft\")\n",
    "        audio = []\n",
    "        for item in local_head_batch:\n",
    "            waveform, sr = torchaudio.load(item)\n",
    "            transform = torchaudio.transforms.Resample(sr, 16000)\n",
    "            waveform = transform(waveform).squeeze().numpy()\n",
    "            audio.append(waveform)\n",
    "        local_head_batch = processor(audio, return_tensors=\"pt\", padding=\"longest\", sampling_rate=16000).input_values\n",
    "        \n",
    "        (local_head_batch, local_label) = (local_head_batch.to(device), local_label.to(device))\n",
    "        y_pred = model.forward(local_head_batch)['logits']\n",
    "        _, preds = torch.max(y_pred, 1)\n",
    "        test_hits += torch.sum(preds.view(-1) == local_label.view(-1))\n",
    "        total += torch.numel(preds.view(-1))\n",
    "        for t, p in zip(local_label.view(-1), preds.view(-1)):\n",
    "            confusion_matrix[t.long(), p.long()] += 1\n",
    "    return confusion_matrix, test_hits, total"
   ]
  },
  {
   "cell_type": "markdown",
   "id": "00088950-e682-4fa8-8f13-6d38d230e103",
   "metadata": {},
   "source": [
    "#### processing"
   ]
  },
  {
   "cell_type": "code",
   "execution_count": 71,
   "id": "4eb1c429-7180-4226-b1a0-43ae258492b6",
   "metadata": {},
   "outputs": [],
   "source": [
    "dataset = DatasetHuBERT(df.iloc[0:2000])"
   ]
  },
  {
   "cell_type": "code",
   "execution_count": 72,
   "id": "82362f43-2bbd-4955-8313-56322f7e4986",
   "metadata": {},
   "outputs": [],
   "source": [
    "BATCH_SIZE = 8\n",
    "INIT_LR = 1e-3\n",
    "EPOCH = 100\n",
    "device = \"cuda\" if torch.cuda.is_available() else \"cpu\"\n",
    "torch.cuda.empty_cache() if device == 'cuda' else None"
   ]
  },
  {
   "cell_type": "code",
   "execution_count": 73,
   "id": "6706ac42-56a6-4401-9e98-5c9bf9c62876",
   "metadata": {},
   "outputs": [],
   "source": [
    "trainSize = int(0.8*len(dataset))\n",
    "valSize = int(0.1*len(dataset))\n",
    "testSize = len(dataset) - trainSize - valSize\n",
    "train_dataset, val_dataset, test_dataset = torch.utils.data.random_split(dataset, [trainSize, valSize, testSize])"
   ]
  },
  {
   "cell_type": "code",
   "execution_count": 74,
   "id": "3ae6afc8-8e52-40b0-8b5b-d2f0299abb79",
   "metadata": {},
   "outputs": [],
   "source": [
    "trainLoader = torch.utils.data.DataLoader(train_dataset, batch_size=BATCH_SIZE, shuffle=True, pin_memory=True, num_workers = 0)\n",
    "valLoader = torch.utils.data.DataLoader(val_dataset, batch_size=BATCH_SIZE, shuffle=True, pin_memory=True, num_workers = 0)\n",
    "testLoader = torch.utils.data.DataLoader(test_dataset, batch_size=BATCH_SIZE, shuffle=False, pin_memory=True, num_workers = 0)"
   ]
  },
  {
   "cell_type": "code",
   "execution_count": 75,
   "id": "1d7d6d21-2a74-46fb-a090-47ecc77a0f13",
   "metadata": {},
   "outputs": [
    {
     "name": "stdout",
     "output_type": "stream",
     "text": [
      "out = 4\n"
     ]
    }
   ],
   "source": [
    "out_size = len(dataset.class_dic)\n",
    "print(f'out = {out_size}')"
   ]
  },
  {
   "cell_type": "code",
   "execution_count": 76,
   "id": "aeafb4d8-3965-4012-b40d-c66161fd8017",
   "metadata": {},
   "outputs": [
    {
     "name": "stderr",
     "output_type": "stream",
     "text": [
      "Some weights of HubertForSequenceClassification were not initialized from the model checkpoint at facebook/hubert-base-ls960 and are newly initialized: ['encoder.pos_conv_embed.conv.parametrizations.weight.original0', 'classifier.bias', 'classifier.weight', 'projector.weight', 'encoder.pos_conv_embed.conv.parametrizations.weight.original1', 'projector.bias']\n",
      "You should probably TRAIN this model on a down-stream task to be able to use it for predictions and inference.\n"
     ]
    },
    {
     "name": "stdout",
     "output_type": "stream",
     "text": [
      "кол-во параметров в модели = 94569090\n"
     ]
    }
   ],
   "source": [
    "model = HubertForSequenceClassification.from_pretrained(\"facebook/hubert-base-ls960\")\n",
    "print(f'кол-во параметров в модели = {sum(p.numel() for p in model.parameters() if p.requires_grad)}')"
   ]
  },
  {
   "cell_type": "code",
   "execution_count": 77,
   "id": "c2133501-8e5e-43a0-9e7f-9ea78465cbff",
   "metadata": {},
   "outputs": [],
   "source": [
    "model.classifier = torch.nn.Linear(256, out_size)"
   ]
  },
  {
   "cell_type": "code",
   "execution_count": 78,
   "id": "57ae6036-c9ff-4edb-a037-d986586bd832",
   "metadata": {},
   "outputs": [],
   "source": [
    "for param in model.hubert.parameters():\n",
    "    param.requires_grad = False\n",
    "model = model.to(device)"
   ]
  },
  {
   "cell_type": "code",
   "execution_count": 79,
   "id": "74dd23e9-80cf-439c-8561-1ef0b89d95a9",
   "metadata": {},
   "outputs": [
    {
     "data": {
      "text/plain": [
       "True"
      ]
     },
     "execution_count": 79,
     "metadata": {},
     "output_type": "execute_result"
    }
   ],
   "source": [
    "next(model.parameters()).is_cuda"
   ]
  },
  {
   "cell_type": "code",
   "execution_count": 80,
   "id": "7d915d87-c91a-4789-b0d1-ffbf9d64fd4d",
   "metadata": {},
   "outputs": [],
   "source": [
    "criterion = torch.nn.CrossEntropyLoss()\n",
    "optimizer = torch.optim.Adam(\n",
    "    model.parameters(),\n",
    "    lr=INIT_LR,\n",
    ")\n",
    "early_stopping = EarlyStopping(min_delta=0.005, tolerance=10)"
   ]
  },
  {
   "cell_type": "code",
   "execution_count": 81,
   "id": "e0a29ec8-956d-47a4-a986-5239c111dcc0",
   "metadata": {},
   "outputs": [
    {
     "name": "stderr",
     "output_type": "stream",
     "text": [
      "  4%|███▏                                                                            | 4/100 [06:05<2:26:02, 91.27s/it]"
     ]
    },
    {
     "name": "stdout",
     "output_type": "stream",
     "text": [
      " counter = 1\n"
     ]
    },
    {
     "name": "stderr",
     "output_type": "stream",
     "text": [
      "  8%|██████▍                                                                         | 8/100 [12:09<2:19:32, 91.01s/it]"
     ]
    },
    {
     "name": "stdout",
     "output_type": "stream",
     "text": [
      " counter = 2\n"
     ]
    },
    {
     "name": "stderr",
     "output_type": "stream",
     "text": [
      "  9%|███████▏                                                                        | 9/100 [13:40<2:18:13, 91.13s/it]"
     ]
    },
    {
     "name": "stdout",
     "output_type": "stream",
     "text": [
      " counter = 3\n"
     ]
    },
    {
     "name": "stderr",
     "output_type": "stream",
     "text": [
      " 10%|███████▉                                                                       | 10/100 [15:14<2:17:39, 91.77s/it]"
     ]
    },
    {
     "name": "stdout",
     "output_type": "stream",
     "text": [
      " counter = 4\n"
     ]
    },
    {
     "name": "stderr",
     "output_type": "stream",
     "text": [
      " 11%|████████▋                                                                      | 11/100 [16:46<2:16:19, 91.90s/it]"
     ]
    },
    {
     "name": "stdout",
     "output_type": "stream",
     "text": [
      " counter = 5\n"
     ]
    },
    {
     "name": "stderr",
     "output_type": "stream",
     "text": [
      " 12%|█████████▍                                                                     | 12/100 [18:17<2:14:41, 91.84s/it]"
     ]
    },
    {
     "name": "stdout",
     "output_type": "stream",
     "text": [
      " counter = 6\n"
     ]
    },
    {
     "name": "stderr",
     "output_type": "stream",
     "text": [
      " 13%|██████████▎                                                                    | 13/100 [19:51<2:13:43, 92.22s/it]"
     ]
    },
    {
     "name": "stdout",
     "output_type": "stream",
     "text": [
      " counter = 7\n"
     ]
    },
    {
     "name": "stderr",
     "output_type": "stream",
     "text": [
      " 15%|███████████▊                                                                   | 15/100 [22:53<2:09:44, 91.59s/it]"
     ]
    },
    {
     "name": "stdout",
     "output_type": "stream",
     "text": [
      " counter = 8\n"
     ]
    },
    {
     "name": "stderr",
     "output_type": "stream",
     "text": [
      " 16%|████████████▋                                                                  | 16/100 [24:24<2:08:12, 91.58s/it]"
     ]
    },
    {
     "name": "stdout",
     "output_type": "stream",
     "text": [
      " counter = 9\n"
     ]
    },
    {
     "name": "stderr",
     "output_type": "stream",
     "text": [
      " 16%|████████████▋                                                                  | 16/100 [26:01<2:16:35, 97.57s/it]"
     ]
    },
    {
     "name": "stdout",
     "output_type": "stream",
     "text": [
      " counter = 10\n",
      "\n",
      "early stop at epoch №16\n"
     ]
    },
    {
     "name": "stderr",
     "output_type": "stream",
     "text": [
      "\n"
     ]
    }
   ],
   "source": [
    "train_loss = []\n",
    "val_loss = []\n",
    "test_acc = []\n",
    "for epoch in tqdm.tqdm(range(EPOCH)):\n",
    "  epoch_train_loss = train_one_epoch(model, trainLoader, criterion, optimizer, device)\n",
    "  train_loss.append(epoch_train_loss)\n",
    "\n",
    "  with torch.no_grad():\n",
    "    epoch_val_loss = val_one_epoch(model, valLoader, criterion, device)\n",
    "    val_loss.append(epoch_val_loss)\n",
    "\n",
    "  early_stopping(epoch_val_loss)\n",
    "  if early_stopping.flag:\n",
    "    print(f'\\nearly stop at epoch №{epoch}')\n",
    "    break\n",
    "torch.cuda.empty_cache() if device == 'cuda' else None"
   ]
  },
  {
   "cell_type": "code",
   "execution_count": 82,
   "id": "c04e4eb5-de81-41ac-8af8-f61a7bd2276f",
   "metadata": {},
   "outputs": [
    {
     "data": {
      "text/plain": [
       "[<matplotlib.lines.Line2D at 0x1dc9045f710>]"
      ]
     },
     "execution_count": 82,
     "metadata": {},
     "output_type": "execute_result"
    },
    {
     "data": {
      "image/png": "[encoded data removed]",
      "text/plain": [
       "<Figure size 640x480 with 1 Axes>"
      ]
     },
     "metadata": {},
     "output_type": "display_data"
    }
   ],
   "source": [
    "import matplotlib.pyplot as plt\n",
    "plt.plot([np.mean(x) for x in train_loss])"
   ]
  },
  {
   "cell_type": "code",
   "execution_count": 83,
   "id": "b4b50d25-b017-4eb2-b7bb-846eee3021cf",
   "metadata": {},
   "outputs": [],
   "source": [
    "with torch.no_grad():\n",
    "    test_data = test_model(model, testLoader, device, [0, 1, 2, 3])\n",
    "torch.cuda.empty_cache() if device == 'cuda' else None"
   ]
  },
  {
   "cell_type": "code",
   "execution_count": 84,
   "id": "d12d50e5-af84-48b6-9c31-669b5652a9bb",
   "metadata": {},
   "outputs": [
    {
     "name": "stdout",
     "output_type": "stream",
     "text": [
      "overall acc = 62.5%\n"
     ]
    }
   ],
   "source": [
    "overall_accuracy = test_data[1].item()/test_data[2]\n",
    "print(f'overall acc = {round(overall_accuracy*100,2)}%')"
   ]
  },
  {
   "cell_type": "code",
   "execution_count": 85,
   "id": "977a6655-1633-487c-a590-c934e2044580",
   "metadata": {},
   "outputs": [
    {
     "data": {
      "text/plain": [
       "<Axes: >"
      ]
     },
     "execution_count": 85,
     "metadata": {},
     "output_type": "execute_result"
    },
    {
     "data": {
      "image/png": "[encoded data removed]",
      "text/plain": [
       "<Figure size 640x480 with 2 Axes>"
      ]
     },
     "metadata": {},
     "output_type": "display_data"
    }
   ],
   "source": [
    "from seaborn import heatmap\n",
    "heatmap(test_data[0])"
   ]
  },
  {
   "cell_type": "code",
   "execution_count": 86,
   "id": "e83fc04a-3c2a-4852-8cd7-0ab5fecc1c9a",
   "metadata": {},
   "outputs": [],
   "source": [
    "torch.save({\n",
    "            'epoch': epoch,\n",
    "            'model_state_dict': model.state_dict(),\n",
    "            'optimizer_state_dict': optimizer.state_dict(),\n",
    "            'train_loss': train_loss,\n",
    "            'val_loss': val_loss\n",
    "            }, r'C:\\Users\\user\\Desktop\\dz\\nlp\\lab6\\models\\hubert-tuned.model')"
   ]
  },
  {
   "cell_type": "markdown",
   "id": "96e24199-9056-455a-84c0-1148b3cd256b",
   "metadata": {
    "jp-MarkdownHeadingCollapsed": true
   },
   "source": [
    "## task 4"
   ]
  },
  {
   "cell_type": "code",
   "execution_count": 43,
   "id": "2936a4f0-d0fa-47b9-8c49-813e38f50f0b",
   "metadata": {},
   "outputs": [
    {
     "data": {
      "text/plain": [
       "'D:\\\\data\\\\dusha\\\\crowd\\\\crowd_train\\\\wavs\\\\ff4a0af5bb77ca50731e152b16f6c29c.wav'"
      ]
     },
     "execution_count": 43,
     "metadata": {},
     "output_type": "execute_result"
    }
   ],
   "source": [
    "df.iloc[20]['audio_path']"
   ]
  },
  {
   "cell_type": "code",
   "execution_count": 42,
   "id": "41852030-bbcf-490f-97fd-75a4d969f5a3",
   "metadata": {},
   "outputs": [
    {
     "data": {
      "text/plain": [
       "'нет сосед это такая игра'"
      ]
     },
     "execution_count": 42,
     "metadata": {},
     "output_type": "execute_result"
    }
   ],
   "source": [
    "df.iloc[20]['speaker_text']"
   ]
  },
  {
   "cell_type": "code",
   "execution_count": 38,
   "id": "702f01ae-46d6-4036-9563-ca70a55d3315",
   "metadata": {},
   "outputs": [],
   "source": [
    "import whisper\n",
    "\n",
    "model = whisper.load_model(\"base\")\n",
    "result = model.transcribe(r'D:\\data\\dusha\\crowd\\crowd_train\\wavs\\00b2a02643e574342220d26a00f81a00.wav')"
   ]
  },
  {
   "cell_type": "code",
   "execution_count": 41,
   "id": "7f2e16fc-5fb3-442f-b5a4-26bd81aac861",
   "metadata": {},
   "outputs": [
    {
     "data": {
      "text/plain": [
       "' Сука, канада России, 72-й год.'"
      ]
     },
     "execution_count": 41,
     "metadata": {},
     "output_type": "execute_result"
    }
   ],
   "source": [
    "result['text']"
   ]
  },
  {
   "cell_type": "code",
   "execution_count": 51,
   "id": "1cd2cd34-1056-4f0c-aed5-f8de9730353a",
   "metadata": {},
   "outputs": [],
   "source": [
    "from pvrecorder import PvRecorder\n",
    "import wave\n",
    "import struct\n",
    "recorder = PvRecorder(device_index=-1, frame_length=512)\n",
    "audio = []\n",
    "\n",
    "try:\n",
    "    recorder.start()\n",
    "\n",
    "    while True:\n",
    "        frame = recorder.read()\n",
    "        audio.extend(frame)\n",
    "except KeyboardInterrupt:\n",
    "    recorder.stop()\n",
    "    with wave.open(r'C:\\Users\\user\\Desktop\\dz\\nlp\\lab6\\wavs\\test.wav', 'w') as f:\n",
    "        f.setparams((1, 2, 16000, 512, \"NONE\", \"NONE\"))\n",
    "        f.writeframes(struct.pack(\"h\" * len(audio), *audio))\n",
    "finally:\n",
    "    recorder.delete()"
   ]
  },
  {
   "cell_type": "code",
   "execution_count": 52,
   "id": "a05e7278-af13-453f-a2c0-dca6645bafa2",
   "metadata": {},
   "outputs": [
    {
     "data": {
      "text/plain": [
       "' Съешь еще этих мягких французских булок, до выпечаю.'"
      ]
     },
     "execution_count": 52,
     "metadata": {},
     "output_type": "execute_result"
    }
   ],
   "source": [
    "result = model.transcribe(r'C:\\Users\\user\\Desktop\\dz\\nlp\\lab6\\wavs\\test.wav')\n",
    "result['text']"
   ]
  },
  {
   "cell_type": "code",
   "execution_count": 54,
   "id": "b267d6be-7229-4044-8d07-eca6b18afedd",
   "metadata": {},
   "outputs": [
    {
     "data": {
      "text/html": [
       "<div>\n",
       "<style scoped>\n",
       "    .dataframe tbody tr th:only-of-type {\n",
       "        vertical-align: middle;\n",
       "    }\n",
       "\n",
       "    .dataframe tbody tr th {\n",
       "        vertical-align: top;\n",
       "    }\n",
       "\n",
       "    .dataframe thead th {\n",
       "        text-align: right;\n",
       "    }\n",
       "</style>\n",
       "<table border=\"1\" class=\"dataframe\">\n",
       "  <thead>\n",
       "    <tr style=\"text-align: right;\">\n",
       "      <th></th>\n",
       "      <th>audio_path</th>\n",
       "      <th>duration</th>\n",
       "      <th>annotator_emo</th>\n",
       "      <th>speaker_text</th>\n",
       "      <th>mfcc</th>\n",
       "    </tr>\n",
       "  </thead>\n",
       "  <tbody>\n",
       "    <tr>\n",
       "      <th>0</th>\n",
       "      <td>D:\\data\\dusha\\crowd\\crowd_train\\wavs\\475e76f77...</td>\n",
       "      <td>2.453000</td>\n",
       "      <td>angry</td>\n",
       "      <td>не надо не надо не надо не надо</td>\n",
       "      <td>[[-249.52695, -185.88918, -257.38525, -660.106...</td>\n",
       "    </tr>\n",
       "    <tr>\n",
       "      <th>1</th>\n",
       "      <td>D:\\data\\dusha\\crowd\\crowd_train\\wavs\\2f9438ef6...</td>\n",
       "      <td>4.640000</td>\n",
       "      <td>neutral</td>\n",
       "      <td>фозил кори mp три</td>\n",
       "      <td>[[-700.4308, -689.8955, -690.8021, -698.16614,...</td>\n",
       "    </tr>\n",
       "    <tr>\n",
       "      <th>3</th>\n",
       "      <td>D:\\data\\dusha\\crowd\\crowd_train\\wavs\\fb0ae7858...</td>\n",
       "      <td>3.900562</td>\n",
       "      <td>neutral</td>\n",
       "      <td>сколько стоит на керамбит</td>\n",
       "      <td>[[-540.33386, -352.6702, -221.81491, -179.7287...</td>\n",
       "    </tr>\n",
       "    <tr>\n",
       "      <th>4</th>\n",
       "      <td>D:\\data\\dusha\\crowd\\crowd_train\\wavs\\196dcf9e1...</td>\n",
       "      <td>4.780000</td>\n",
       "      <td>neutral</td>\n",
       "      <td>афина когда закончится эта телепередача</td>\n",
       "      <td>[[-946.62726, -940.5059, -940.4738, -941.41, -...</td>\n",
       "    </tr>\n",
       "    <tr>\n",
       "      <th>5</th>\n",
       "      <td>D:\\data\\dusha\\crowd\\crowd_train\\wavs\\41d7f48ca...</td>\n",
       "      <td>4.740000</td>\n",
       "      <td>neutral</td>\n",
       "      <td>где проживают дети путина тихонова и воронцова</td>\n",
       "      <td>[[-824.98334, -796.8299, -797.19135, -824.4776...</td>\n",
       "    </tr>\n",
       "    <tr>\n",
       "      <th>...</th>\n",
       "      <td>...</td>\n",
       "      <td>...</td>\n",
       "      <td>...</td>\n",
       "      <td>...</td>\n",
       "      <td>...</td>\n",
       "    </tr>\n",
       "    <tr>\n",
       "      <th>77822</th>\n",
       "      <td>D:\\data\\dusha\\crowd\\crowd_test\\wavs\\c6c46f0434...</td>\n",
       "      <td>3.087875</td>\n",
       "      <td>sad</td>\n",
       "      <td>расскажи пош</td>\n",
       "      <td>[[-668.39874, -622.80176, -620.96783, -658.096...</td>\n",
       "    </tr>\n",
       "    <tr>\n",
       "      <th>77825</th>\n",
       "      <td>D:\\data\\dusha\\crowd\\crowd_test\\wavs\\0285ee8584...</td>\n",
       "      <td>2.321625</td>\n",
       "      <td>neutral</td>\n",
       "      <td>как настроение</td>\n",
       "      <td>[[-521.2259, -529.6233, -541.15234, -559.97736...</td>\n",
       "    </tr>\n",
       "    <tr>\n",
       "      <th>77826</th>\n",
       "      <td>D:\\data\\dusha\\crowd\\crowd_test\\wavs\\c6a4e8bfe2...</td>\n",
       "      <td>4.200000</td>\n",
       "      <td>neutral</td>\n",
       "      <td>воровка книг обзор</td>\n",
       "      <td>[[-619.4466, -489.50693, -370.8343, -279.78973...</td>\n",
       "    </tr>\n",
       "    <tr>\n",
       "      <th>77827</th>\n",
       "      <td>D:\\data\\dusha\\crowd\\crowd_test\\wavs\\0285ee8584...</td>\n",
       "      <td>2.321625</td>\n",
       "      <td>neutral</td>\n",
       "      <td>как настроение</td>\n",
       "      <td>[[-521.2259, -529.6233, -541.15234, -559.97736...</td>\n",
       "    </tr>\n",
       "    <tr>\n",
       "      <th>77828</th>\n",
       "      <td>D:\\data\\dusha\\crowd\\crowd_test\\wavs\\c6a4e8bfe2...</td>\n",
       "      <td>4.200000</td>\n",
       "      <td>neutral</td>\n",
       "      <td>воровка книг обзор</td>\n",
       "      <td>[[-619.4466, -489.50693, -370.8343, -279.78973...</td>\n",
       "    </tr>\n",
       "  </tbody>\n",
       "</table>\n",
       "<p>613579 rows × 5 columns</p>\n",
       "</div>"
      ],
      "text/plain": [
       "                                              audio_path  duration  \\\n",
       "0      D:\\data\\dusha\\crowd\\crowd_train\\wavs\\475e76f77...  2.453000   \n",
       "1      D:\\data\\dusha\\crowd\\crowd_train\\wavs\\2f9438ef6...  4.640000   \n",
       "3      D:\\data\\dusha\\crowd\\crowd_train\\wavs\\fb0ae7858...  3.900562   \n",
       "4      D:\\data\\dusha\\crowd\\crowd_train\\wavs\\196dcf9e1...  4.780000   \n",
       "5      D:\\data\\dusha\\crowd\\crowd_train\\wavs\\41d7f48ca...  4.740000   \n",
       "...                                                  ...       ...   \n",
       "77822  D:\\data\\dusha\\crowd\\crowd_test\\wavs\\c6c46f0434...  3.087875   \n",
       "77825  D:\\data\\dusha\\crowd\\crowd_test\\wavs\\0285ee8584...  2.321625   \n",
       "77826  D:\\data\\dusha\\crowd\\crowd_test\\wavs\\c6a4e8bfe2...  4.200000   \n",
       "77827  D:\\data\\dusha\\crowd\\crowd_test\\wavs\\0285ee8584...  2.321625   \n",
       "77828  D:\\data\\dusha\\crowd\\crowd_test\\wavs\\c6a4e8bfe2...  4.200000   \n",
       "\n",
       "      annotator_emo                                    speaker_text  \\\n",
       "0             angry                 не надо не надо не надо не надо   \n",
       "1           neutral                               фозил кори mp три   \n",
       "3           neutral                       сколько стоит на керамбит   \n",
       "4           neutral         афина когда закончится эта телепередача   \n",
       "5           neutral  где проживают дети путина тихонова и воронцова   \n",
       "...             ...                                             ...   \n",
       "77822           sad                                    расскажи пош   \n",
       "77825       neutral                                  как настроение   \n",
       "77826       neutral                              воровка книг обзор   \n",
       "77827       neutral                                  как настроение   \n",
       "77828       neutral                              воровка книг обзор   \n",
       "\n",
       "                                                    mfcc  \n",
       "0      [[-249.52695, -185.88918, -257.38525, -660.106...  \n",
       "1      [[-700.4308, -689.8955, -690.8021, -698.16614,...  \n",
       "3      [[-540.33386, -352.6702, -221.81491, -179.7287...  \n",
       "4      [[-946.62726, -940.5059, -940.4738, -941.41, -...  \n",
       "5      [[-824.98334, -796.8299, -797.19135, -824.4776...  \n",
       "...                                                  ...  \n",
       "77822  [[-668.39874, -622.80176, -620.96783, -658.096...  \n",
       "77825  [[-521.2259, -529.6233, -541.15234, -559.97736...  \n",
       "77826  [[-619.4466, -489.50693, -370.8343, -279.78973...  \n",
       "77827  [[-521.2259, -529.6233, -541.15234, -559.97736...  \n",
       "77828  [[-619.4466, -489.50693, -370.8343, -279.78973...  \n",
       "\n",
       "[613579 rows x 5 columns]"
      ]
     },
     "execution_count": 54,
     "metadata": {},
     "output_type": "execute_result"
    }
   ],
   "source": [
    "df"
   ]
  },
  {
   "cell_type": "markdown",
   "id": "cacda5e6-2493-40ec-b35d-a2c402f84ba0",
   "metadata": {},
   "source": [
    "## task 5"
   ]
  },
  {
   "cell_type": "code",
   "execution_count": 14,
   "id": "22604742-43ff-4a9f-83ea-e38c04b465ab",
   "metadata": {},
   "outputs": [],
   "source": [
    "from transformers import AutoModel, BertTokenizer, BertForSequenceClassification\n",
    "import whisper"
   ]
  },
  {
   "cell_type": "markdown",
   "id": "c2d00bb2-b1a9-4b2c-a01d-ebfeab715021",
   "metadata": {},
   "source": [
    "### some funcs"
   ]
  },
  {
   "cell_type": "code",
   "execution_count": 15,
   "id": "01cb4924-5a4a-4453-9ec1-1aa6da435b7d",
   "metadata": {},
   "outputs": [],
   "source": [
    "class DatasetRuBERT(torch.utils.data.Dataset):\n",
    "    def __init__(self, df, device, preprocess=False):\n",
    "        self.class_dic = {\n",
    "            'angry': 0,\n",
    "            'neutral': 1,\n",
    "            'positive': 2,\n",
    "            'sad': 3\n",
    "        }\n",
    "        self.whisper = whisper.load_model(\"base\").to(device)\n",
    "        self.tokenizer = BertTokenizer.from_pretrained('DeepPavlov/rubert-base-cased')\n",
    "        \n",
    "        self.df = copy.deepcopy(df)\n",
    "        if preprocess:\n",
    "            self.df['label'] = self.df['annotator_emo'].apply(self.label_emo)\n",
    "            self.df['whisper_text'] = self.df['audio_path'].apply(self.create_inputs)\n",
    "            self.df = oversample(self.df)\n",
    "        \n",
    "    def create_inputs(self, path):\n",
    "        res = self.whisper.transcribe(path)\n",
    "        tokens_train = self.tokenizer(res['text'], return_tensors=\"pt\", padding='max_length', max_length=512, truncation=True)\n",
    "        return tokens_train\n",
    "\n",
    "    def label_emo(self, text):\n",
    "        return self.class_dic[text]\n",
    "\n",
    "    def __len__(self):\n",
    "        return len(self.df)\n",
    "\n",
    "    def __getitem__(self, idx):\n",
    "        return self.df.iloc[idx]['whisper_text']['input_ids'].squeeze(), self.df.iloc[idx]['whisper_text']['attention_mask'], torch.tensor(self.df.iloc[idx]['label'])"
   ]
  },
  {
   "cell_type": "code",
   "execution_count": 39,
   "id": "81fbb8dd-6ef5-49d2-b821-044e58d7d473",
   "metadata": {},
   "outputs": [],
   "source": [
    "def train_one_epoch(model, train_dataloader, loss_func, optimizer, device):\n",
    "    model.train()\n",
    "    epoch_loss = []\n",
    "    \n",
    "    for (local_head_batch, mask, local_label) in train_dataloader:\n",
    "        \n",
    "        (local_head_batch, mask, local_label) = (local_head_batch.to(device), mask.to(device), local_label.to(device))\n",
    "        optimizer.zero_grad()\n",
    "        y_pred = model.forward(local_head_batch, mask)['logits']\n",
    "        curr_loss = criterion.forward(y_pred, local_label)\n",
    "        curr_loss.backward()\n",
    "        optimizer.step()\n",
    "        epoch_loss.append(curr_loss.item())\n",
    "    return np.mean(epoch_loss)\n",
    "\n",
    "#use with torch.no_grad()\n",
    "def val_one_epoch(model, val_dataloader, loss_func, device):\n",
    "    model.eval()\n",
    "    epoch_loss = []\n",
    "    for (local_head_batch, mask, local_label) in val_dataloader:\n",
    "        \n",
    "        (local_head_batch, mask, local_label) = (local_head_batch.to(device), mask.to(device), local_label.to(device))\n",
    "        y_pred = model.forward(local_head_batch, mask)['logits']\n",
    "        curr_loss = criterion.forward(y_pred, local_label)\n",
    "        epoch_loss.append(curr_loss.item())\n",
    "    return np.mean(epoch_loss)\n",
    "\n",
    "def test_model(model, test_dataloader, device, classes):\n",
    "    model.eval()\n",
    "    test_hits = 0\n",
    "    total = 0\n",
    "    confusion_matrix = torch.zeros(len(classes), len(classes))\n",
    "    for (local_head_batch, mask, local_label) in test_dataloader:\n",
    "        \n",
    "        (local_head_batch, mask, local_label) = (local_head_batch.to(device), mask.to(device), local_label.to(device))\n",
    "        y_pred = model.forward(local_head_batch, mask)['logits']\n",
    "        _, preds = torch.max(y_pred, 1)\n",
    "        test_hits += torch.sum(preds.view(-1) == local_label.view(-1))\n",
    "        total += torch.numel(preds.view(-1))\n",
    "        for t, p in zip(local_label.view(-1), preds.view(-1)):\n",
    "            confusion_matrix[t.long(), p.long()] += 1\n",
    "    return confusion_matrix, test_hits, total"
   ]
  },
  {
   "cell_type": "code",
   "execution_count": 17,
   "id": "edbd28a5-5a72-442d-95f3-3635fcb8000e",
   "metadata": {},
   "outputs": [],
   "source": [
    "class Model3(nn.Module):\n",
    "    def __init__(self, dropout=0.5):\n",
    "        super(Model3, self).__init__()\n",
    "        self.bert = BertModel.from_pretrained('DeepPavlov/rubert-base-cased')\n",
    "        self.dropout = nn.Dropout(dropout)\n",
    "        self.linear = nn.Linear(768, 4)\n",
    "        self.act = nn.LogSoftmax()\n",
    "\n",
    "    def forward(self, input_id, mask):\n",
    "        _, x = self.bert(input_ids=input_id, attention_mask=mask, return_dict=False)\n",
    "        x = self.dropout(x)\n",
    "        x = self.linear(x)\n",
    "        x = self.act(x)\n",
    "        return x"
   ]
  },
  {
   "cell_type": "code",
   "execution_count": 18,
   "id": "5d106020-3598-4418-a009-66fe6476da35",
   "metadata": {},
   "outputs": [],
   "source": [
    "def serialize(args):\n",
    "    df, df_type = args\n",
    "    path = r'D:\\data\\serialized' + '\\\\' + df_type + '.ser'\n",
    "    with open(path, 'wb') as f:\n",
    "        pkl.dump(df, f)"
   ]
  },
  {
   "cell_type": "markdown",
   "id": "c37ebb89-c1f2-4505-8a95-387c48640fb0",
   "metadata": {},
   "source": [
    "### proc"
   ]
  },
  {
   "cell_type": "code",
   "execution_count": 19,
   "id": "ab3fc0d8-59ea-4a52-8309-fe9c0bb99d06",
   "metadata": {},
   "outputs": [],
   "source": [
    "BATCH_SIZE = 300\n",
    "INIT_LR = 1e-3\n",
    "EPOCH = 150\n",
    "device = \"cuda\" if torch.cuda.is_available() else \"cpu\"\n",
    "torch.cuda.empty_cache() if device == 'cuda' else None"
   ]
  },
  {
   "cell_type": "code",
   "execution_count": 20,
   "id": "2fa60ed7-0ecf-47be-b200-e44cdfd94669",
   "metadata": {},
   "outputs": [],
   "source": [
    "df = open(r'D:\\data\\serialized\\ruBERTdf.ser', 'rb')\n",
    "df = pkl.load(df)"
   ]
  },
  {
   "cell_type": "code",
   "execution_count": 21,
   "id": "118ecf56-fa9f-4068-ae81-65b5bc37f9b8",
   "metadata": {},
   "outputs": [],
   "source": [
    "dataset = DatasetRuBERT(df.iloc[0:50000], device)\n",
    "del df"
   ]
  },
  {
   "cell_type": "code",
   "execution_count": 210,
   "id": "7ac6dd8b-55bb-4487-9e83-01288ed3fb1c",
   "metadata": {},
   "outputs": [
    {
     "name": "stdout",
     "output_type": "stream",
     "text": [
      "CPU times: total: 9h 9min 10s\n",
      "Wall time: 2h 15min 54s\n"
     ]
    }
   ],
   "source": [
    "#%%time\n",
    "#dataset = DatasetRuBERT(df.iloc[0:30000], device, preprocess=True)"
   ]
  },
  {
   "cell_type": "code",
   "execution_count": 22,
   "id": "a9cd5f05-6f6b-4816-aa1e-cbbe2f688c6a",
   "metadata": {},
   "outputs": [],
   "source": [
    "trainSize = int(0.8*len(dataset))\n",
    "valSize = int(0.1*len(dataset))\n",
    "testSize = len(dataset) - trainSize - valSize\n",
    "train_dataset, val_dataset, test_dataset = torch.utils.data.random_split(dataset, [trainSize, valSize, testSize])"
   ]
  },
  {
   "cell_type": "code",
   "execution_count": 23,
   "id": "44e2070a-5567-42d4-bc25-adc6400cce86",
   "metadata": {},
   "outputs": [],
   "source": [
    "trainLoader = torch.utils.data.DataLoader(train_dataset, batch_size=BATCH_SIZE, shuffle=True, pin_memory=True, num_workers = 0)\n",
    "valLoader = torch.utils.data.DataLoader(val_dataset, batch_size=BATCH_SIZE, shuffle=True, pin_memory=True, num_workers = 0)\n",
    "testLoader = torch.utils.data.DataLoader(test_dataset, batch_size=BATCH_SIZE, shuffle=False, pin_memory=True, num_workers = 0)"
   ]
  },
  {
   "cell_type": "code",
   "execution_count": 24,
   "id": "7daa3488-86bf-48fe-ba82-4affcf510cd0",
   "metadata": {},
   "outputs": [
    {
     "name": "stderr",
     "output_type": "stream",
     "text": [
      "Some weights of BertForSequenceClassification were not initialized from the model checkpoint at DeepPavlov/rubert-base-cased and are newly initialized: ['classifier.bias', 'classifier.weight']\n",
      "You should probably TRAIN this model on a down-stream task to be able to use it for predictions and inference.\n"
     ]
    }
   ],
   "source": [
    "#model = Model3().to(device)\n",
    "model = BertForSequenceClassification.from_pretrained('DeepPavlov/rubert-base-cased')\n",
    "model.classifier = torch.nn.Sequential(\n",
    "    torch.nn.Linear(768, 256),\n",
    "    nn.Dropout(p=0.5),\n",
    "    torch.nn.Linear(256, 4)\n",
    ")"
   ]
  },
  {
   "cell_type": "code",
   "execution_count": 25,
   "id": "fb291d21-f4ea-4f76-83cf-a27a09e55edc",
   "metadata": {},
   "outputs": [
    {
     "name": "stdout",
     "output_type": "stream",
     "text": [
      "кол-во параметров в модели = 197892\n"
     ]
    }
   ],
   "source": [
    "for param in model.bert.parameters():\n",
    "    param.requires_grad = False\n",
    "model = model.to(device)\n",
    "print(f'кол-во параметров в модели = {sum(p.numel() for p in model.parameters() if p.requires_grad)}')"
   ]
  },
  {
   "cell_type": "code",
   "execution_count": 26,
   "id": "8d77912b-1605-484d-a9e5-9cfdf944f07c",
   "metadata": {},
   "outputs": [
    {
     "data": {
      "text/plain": [
       "True"
      ]
     },
     "execution_count": 26,
     "metadata": {},
     "output_type": "execute_result"
    }
   ],
   "source": [
    "next(model.parameters()).is_cuda"
   ]
  },
  {
   "cell_type": "code",
   "execution_count": 34,
   "id": "fbb11b17-7f5f-4685-af47-c8429e9dca16",
   "metadata": {},
   "outputs": [
    {
     "data": {
      "text/plain": [
       "BertForSequenceClassification(\n",
       "  (bert): BertModel(\n",
       "    (embeddings): BertEmbeddings(\n",
       "      (word_embeddings): Embedding(119547, 768, padding_idx=0)\n",
       "      (position_embeddings): Embedding(512, 768)\n",
       "      (token_type_embeddings): Embedding(2, 768)\n",
       "      (LayerNorm): LayerNorm((768,), eps=1e-12, elementwise_affine=True)\n",
       "      (dropout): Dropout(p=0.1, inplace=False)\n",
       "    )\n",
       "    (encoder): BertEncoder(\n",
       "      (layer): ModuleList(\n",
       "        (0-11): 12 x BertLayer(\n",
       "          (attention): BertAttention(\n",
       "            (self): BertSelfAttention(\n",
       "              (query): Linear(in_features=768, out_features=768, bias=True)\n",
       "              (key): Linear(in_features=768, out_features=768, bias=True)\n",
       "              (value): Linear(in_features=768, out_features=768, bias=True)\n",
       "              (dropout): Dropout(p=0.1, inplace=False)\n",
       "            )\n",
       "            (output): BertSelfOutput(\n",
       "              (dense): Linear(in_features=768, out_features=768, bias=True)\n",
       "              (LayerNorm): LayerNorm((768,), eps=1e-12, elementwise_affine=True)\n",
       "              (dropout): Dropout(p=0.1, inplace=False)\n",
       "            )\n",
       "          )\n",
       "          (intermediate): BertIntermediate(\n",
       "            (dense): Linear(in_features=768, out_features=3072, bias=True)\n",
       "            (intermediate_act_fn): GELUActivation()\n",
       "          )\n",
       "          (output): BertOutput(\n",
       "            (dense): Linear(in_features=3072, out_features=768, bias=True)\n",
       "            (LayerNorm): LayerNorm((768,), eps=1e-12, elementwise_affine=True)\n",
       "            (dropout): Dropout(p=0.1, inplace=False)\n",
       "          )\n",
       "        )\n",
       "      )\n",
       "    )\n",
       "    (pooler): BertPooler(\n",
       "      (dense): Linear(in_features=768, out_features=768, bias=True)\n",
       "      (activation): Tanh()\n",
       "    )\n",
       "  )\n",
       "  (dropout): Dropout(p=0.1, inplace=False)\n",
       "  (classifier): Sequential(\n",
       "    (0): Linear(in_features=768, out_features=256, bias=True)\n",
       "    (1): Dropout(p=0.5, inplace=False)\n",
       "    (2): Linear(in_features=256, out_features=4, bias=True)\n",
       "  )\n",
       ")"
      ]
     },
     "execution_count": 34,
     "metadata": {},
     "output_type": "execute_result"
    }
   ],
   "source": [
    "model"
   ]
  },
  {
   "cell_type": "code",
   "execution_count": 27,
   "id": "40ae3e0b-8527-4491-92d8-4082208ea681",
   "metadata": {},
   "outputs": [],
   "source": [
    "criterion = torch.nn.CrossEntropyLoss()\n",
    "optimizer = torch.optim.Adam(\n",
    "    model.parameters(),\n",
    "    lr=INIT_LR,\n",
    ")\n",
    "early_stopping = EarlyStopping(min_delta=0.005, tolerance=10)"
   ]
  },
  {
   "cell_type": "code",
   "execution_count": 28,
   "id": "f6329aa3-860e-4d74-9dda-9e96aacf3da2",
   "metadata": {},
   "outputs": [
    {
     "name": "stderr",
     "output_type": "stream",
     "text": [
      "  3%|██                                                                          | 4/150 [1:01:56<37:19:30, 920.35s/it]"
     ]
    },
    {
     "name": "stdout",
     "output_type": "stream",
     "text": [
      " counter = 1\n"
     ]
    },
    {
     "name": "stderr",
     "output_type": "stream",
     "text": [
      "  5%|████                                                                        | 8/150 [2:02:30<35:55:45, 910.88s/it]"
     ]
    },
    {
     "name": "stdout",
     "output_type": "stream",
     "text": [
      " counter = 2\n"
     ]
    },
    {
     "name": "stderr",
     "output_type": "stream",
     "text": [
      "  9%|██████▌                                                                    | 13/150 [3:18:13<34:35:30, 908.98s/it]"
     ]
    },
    {
     "name": "stdout",
     "output_type": "stream",
     "text": [
      " counter = 3\n"
     ]
    },
    {
     "name": "stderr",
     "output_type": "stream",
     "text": [
      " 11%|████████                                                                   | 16/150 [4:03:41<33:50:50, 909.33s/it]"
     ]
    },
    {
     "name": "stdout",
     "output_type": "stream",
     "text": [
      " counter = 4\n"
     ]
    },
    {
     "name": "stderr",
     "output_type": "stream",
     "text": [
      " 11%|████████▌                                                                  | 17/150 [4:18:49<33:34:57, 909.01s/it]"
     ]
    },
    {
     "name": "stdout",
     "output_type": "stream",
     "text": [
      " counter = 5\n"
     ]
    },
    {
     "name": "stderr",
     "output_type": "stream",
     "text": [
      " 15%|███████████                                                                | 22/150 [5:33:51<32:01:59, 900.93s/it]"
     ]
    },
    {
     "name": "stdout",
     "output_type": "stream",
     "text": [
      " counter = 6\n"
     ]
    },
    {
     "name": "stderr",
     "output_type": "stream",
     "text": [
      " 15%|███████████▌                                                               | 23/150 [5:48:49<31:45:14, 900.12s/it]"
     ]
    },
    {
     "name": "stdout",
     "output_type": "stream",
     "text": [
      " counter = 7\n"
     ]
    },
    {
     "name": "stderr",
     "output_type": "stream",
     "text": [
      " 17%|████████████▎                                                             | 25/150 [6:30:55<36:45:55, 1058.84s/it]"
     ]
    },
    {
     "name": "stdout",
     "output_type": "stream",
     "text": [
      " counter = 8\n"
     ]
    },
    {
     "name": "stderr",
     "output_type": "stream",
     "text": [
      " 17%|████████████▊                                                             | 26/150 [6:52:00<38:36:22, 1120.83s/it]"
     ]
    },
    {
     "name": "stdout",
     "output_type": "stream",
     "text": [
      " counter = 9\n"
     ]
    },
    {
     "name": "stderr",
     "output_type": "stream",
     "text": [
      " 17%|█████████████                                                              | 26/150 [7:08:12<34:02:11, 988.16s/it]"
     ]
    },
    {
     "name": "stdout",
     "output_type": "stream",
     "text": [
      " counter = 10\n",
      "\n",
      "early stop at epoch №26\n"
     ]
    },
    {
     "name": "stderr",
     "output_type": "stream",
     "text": [
      "\n"
     ]
    }
   ],
   "source": [
    "train_loss = []\n",
    "val_loss = []\n",
    "test_acc = []\n",
    "for epoch in tqdm.tqdm(range(EPOCH)):\n",
    "  epoch_train_loss = train_one_epoch(model, trainLoader, criterion, optimizer, device)\n",
    "  train_loss.append(epoch_train_loss)\n",
    "\n",
    "  with torch.no_grad():\n",
    "    epoch_val_loss = val_one_epoch(model, valLoader, criterion, device)\n",
    "    val_loss.append(epoch_val_loss)\n",
    "\n",
    "  early_stopping(epoch_val_loss)\n",
    "  if early_stopping.flag:\n",
    "    print(f'\\nearly stop at epoch №{epoch}')\n",
    "    break\n",
    "torch.cuda.empty_cache() if device == 'cuda' else None"
   ]
  },
  {
   "cell_type": "code",
   "execution_count": 29,
   "id": "ad5a6b9a-1ef9-4b48-beeb-7de9b88fdad1",
   "metadata": {},
   "outputs": [
    {
     "data": {
      "text/plain": [
       "[<matplotlib.lines.Line2D at 0x285eff65590>]"
      ]
     },
     "execution_count": 29,
     "metadata": {},
     "output_type": "execute_result"
    },
    {
     "data": {
      "image/png": "[encoded data removed]",
      "text/plain": [
       "<Figure size 640x480 with 1 Axes>"
      ]
     },
     "metadata": {},
     "output_type": "display_data"
    }
   ],
   "source": [
    "import matplotlib.pyplot as plt\n",
    "plt.plot([np.mean(x) for x in train_loss])"
   ]
  },
  {
   "cell_type": "code",
   "execution_count": 40,
   "id": "6ff66a6a-5e4f-4279-9a7a-e4ebcebe4bb6",
   "metadata": {},
   "outputs": [],
   "source": [
    "with torch.no_grad():\n",
    "    test_data = test_model(model, testLoader, device, [0, 1, 2, 3])\n",
    "torch.cuda.empty_cache() if device == 'cuda' else None"
   ]
  },
  {
   "cell_type": "code",
   "execution_count": 41,
   "id": "7f46dba6-852e-434d-9d17-8767540ea4d8",
   "metadata": {},
   "outputs": [
    {
     "name": "stdout",
     "output_type": "stream",
     "text": [
      "overall acc = 62.72%\n"
     ]
    }
   ],
   "source": [
    "overall_accuracy = test_data[1].item()/test_data[2]\n",
    "print(f'overall acc = {round(overall_accuracy*100,2)}%')"
   ]
  },
  {
   "cell_type": "code",
   "execution_count": 42,
   "id": "0ab47440-25bd-4f4d-8fc5-6c95a6f60b62",
   "metadata": {},
   "outputs": [
    {
     "data": {
      "text/plain": [
       "<Axes: >"
      ]
     },
     "execution_count": 42,
     "metadata": {},
     "output_type": "execute_result"
    },
    {
     "data": {
      "image/png": "[encoded data removed]",
      "text/plain": [
       "<Figure size 640x480 with 2 Axes>"
      ]
     },
     "metadata": {},
     "output_type": "display_data"
    }
   ],
   "source": [
    "from seaborn import heatmap\n",
    "heatmap(test_data[0])"
   ]
  },
  {
   "cell_type": "code",
   "execution_count": 33,
   "id": "e4f0127b-ae25-44b5-a1e6-f8827259e425",
   "metadata": {},
   "outputs": [],
   "source": [
    "torch.save({\n",
    "            'epoch': epoch,\n",
    "            'model_state_dict': model.state_dict(),\n",
    "            'optimizer_state_dict': optimizer.state_dict(),\n",
    "            'train_loss': train_loss,\n",
    "            'val_loss': val_loss\n",
    "            }, r'C:\\Users\\user\\Desktop\\dz\\nlp\\lab6\\models\\rubert-custom.model')"
   ]
  },
  {
   "cell_type": "code",
   "execution_count": null,
   "id": "2034ebdb-e9e1-4d23-ab1f-64fd81c6b0b2",
   "metadata": {},
   "outputs": [],
   "source": []
  }
 ],
 "metadata": {
  "colab": {
   "collapsed_sections": [
    "ba9c139d-3121-4243-97e3-336c47dc4ca6",
    "c55f597e-c009-4054-8695-5155cf5ffd96",
    "71ac2db2-f5c4-4be6-9bbe-952796d4432c",
    "2b249c46-d87d-4550-a0b6-13508cf07236"
   ],
   "provenance": []
  },
  "kernelspec": {
   "display_name": "Python 3 (ipykernel)",
   "language": "python",
   "name": "python3"
  },
  "language_info": {
   "codemirror_mode": {
    "name": "ipython",
    "version": 3
   },
   "file_extension": ".py",
   "mimetype": "text/x-python",
   "name": "python",
   "nbconvert_exporter": "python",
   "pygments_lexer": "ipython3",
   "version": "3.11.6"
  },
  "widgets": {
   "application/vnd.jupyter.widget-state+json": {
    "078dd52b8e904c15bafd9601166c6576": {
     "model_module": "@jupyter-widgets/controls",
     "model_module_version": "2.0.0",
     "model_name": "VBoxModel",
     "state": {
      "_dom_classes": [],
      "_model_module": "@jupyter-widgets/controls",
      "_model_module_version": "2.0.0",
      "_model_name": "VBoxModel",
      "_view_count": null,
      "_view_module": "@jupyter-widgets/controls",
      "_view_module_version": "2.0.0",
      "_view_name": "VBoxView",
      "box_style": "",
      "children": [
       "IPY_MODEL_606efeb1826c459ba1771d6fd926d329",
       "IPY_MODEL_21ec43fdb7b24bc2a559f6c9a34535d7",
       "IPY_MODEL_ea798d8fab0044c8af4d2d5fa1c69570",
       "IPY_MODEL_0ce26673ce654f80831be667da8808a7",
       "IPY_MODEL_ba766fec42ec4ceda9e217b83a02854d"
      ],
      "layout": "IPY_MODEL_7f6126a8f12b4f3faf6078869a1a4432",
      "tabbable": null,
      "tooltip": null
     }
    },
    "0ce26673ce654f80831be667da8808a7": {
     "model_module": "@jupyter-widgets/controls",
     "model_module_version": "2.0.0",
     "model_name": "ButtonModel",
     "state": {
      "_dom_classes": [],
      "_model_module": "@jupyter-widgets/controls",
      "_model_module_version": "2.0.0",
      "_model_name": "ButtonModel",
      "_view_count": null,
      "_view_module": "@jupyter-widgets/controls",
      "_view_module_version": "2.0.0",
      "_view_name": "ButtonView",
      "button_style": "",
      "description": "Login",
      "disabled": false,
      "icon": "",
      "layout": "IPY_MODEL_1956f13c8ffe435a87f9ebc35cbcf62f",
      "style": "IPY_MODEL_e8395fb3929541d999db64eca6257f53",
      "tabbable": null,
      "tooltip": null
     }
    },
    "0f05e6e79942487084c9bd4ed3cd7ff1": {
     "model_module": "@jupyter-widgets/base",
     "model_module_version": "2.0.0",
     "model_name": "LayoutModel",
     "state": {
      "_model_module": "@jupyter-widgets/base",
      "_model_module_version": "2.0.0",
      "_model_name": "LayoutModel",
      "_view_count": null,
      "_view_module": "@jupyter-widgets/base",
      "_view_module_version": "2.0.0",
      "_view_name": "LayoutView",
      "align_content": null,
      "align_items": null,
      "align_self": null,
      "border_bottom": null,
      "border_left": null,
      "border_right": null,
      "border_top": null,
      "bottom": null,
      "display": null,
      "flex": null,
      "flex_flow": null,
      "grid_area": null,
      "grid_auto_columns": null,
      "grid_auto_flow": null,
      "grid_auto_rows": null,
      "grid_column": null,
      "grid_gap": null,
      "grid_row": null,
      "grid_template_areas": null,
      "grid_template_columns": null,
      "grid_template_rows": null,
      "height": null,
      "justify_content": null,
      "justify_items": null,
      "left": null,
      "margin": null,
      "max_height": null,
      "max_width": null,
      "min_height": null,
      "min_width": null,
      "object_fit": null,
      "object_position": null,
      "order": null,
      "overflow": null,
      "padding": null,
      "right": null,
      "top": null,
      "visibility": null,
      "width": null
     }
    },
    "1956f13c8ffe435a87f9ebc35cbcf62f": {
     "model_module": "@jupyter-widgets/base",
     "model_module_version": "2.0.0",
     "model_name": "LayoutModel",
     "state": {
      "_model_module": "@jupyter-widgets/base",
      "_model_module_version": "2.0.0",
      "_model_name": "LayoutModel",
      "_view_count": null,
      "_view_module": "@jupyter-widgets/base",
      "_view_module_version": "2.0.0",
      "_view_name": "LayoutView",
      "align_content": null,
      "align_items": null,
      "align_self": null,
      "border_bottom": null,
      "border_left": null,
      "border_right": null,
      "border_top": null,
      "bottom": null,
      "display": null,
      "flex": null,
      "flex_flow": null,
      "grid_area": null,
      "grid_auto_columns": null,
      "grid_auto_flow": null,
      "grid_auto_rows": null,
      "grid_column": null,
      "grid_gap": null,
      "grid_row": null,
      "grid_template_areas": null,
      "grid_template_columns": null,
      "grid_template_rows": null,
      "height": null,
      "justify_content": null,
      "justify_items": null,
      "left": null,
      "margin": null,
      "max_height": null,
      "max_width": null,
      "min_height": null,
      "min_width": null,
      "object_fit": null,
      "object_position": null,
      "order": null,
      "overflow": null,
      "padding": null,
      "right": null,
      "top": null,
      "visibility": null,
      "width": null
     }
    },
    "21ec43fdb7b24bc2a559f6c9a34535d7": {
     "model_module": "@jupyter-widgets/controls",
     "model_module_version": "2.0.0",
     "model_name": "PasswordModel",
     "state": {
      "_dom_classes": [],
      "_model_module": "@jupyter-widgets/controls",
      "_model_module_version": "2.0.0",
      "_model_name": "PasswordModel",
      "_view_count": null,
      "_view_module": "@jupyter-widgets/controls",
      "_view_module_version": "2.0.0",
      "_view_name": "PasswordView",
      "continuous_update": true,
      "description": "Token:",
      "description_allow_html": false,
      "disabled": false,
      "layout": "IPY_MODEL_cc6bcc8e06554d65b8c5d974fd1ffd2b",
      "placeholder": "​",
      "style": "IPY_MODEL_b6318afbcd844deea70723302fece9f2",
      "tabbable": null,
      "tooltip": null,
      "value": ""
     }
    },
    "316d9a76c2cb4d268b4761050ff5b991": {
     "model_module": "@jupyter-widgets/base",
     "model_module_version": "2.0.0",
     "model_name": "LayoutModel",
     "state": {
      "_model_module": "@jupyter-widgets/base",
      "_model_module_version": "2.0.0",
      "_model_name": "LayoutModel",
      "_view_count": null,
      "_view_module": "@jupyter-widgets/base",
      "_view_module_version": "2.0.0",
      "_view_name": "LayoutView",
      "align_content": null,
      "align_items": null,
      "align_self": null,
      "border_bottom": null,
      "border_left": null,
      "border_right": null,
      "border_top": null,
      "bottom": null,
      "display": null,
      "flex": null,
      "flex_flow": null,
      "grid_area": null,
      "grid_auto_columns": null,
      "grid_auto_flow": null,
      "grid_auto_rows": null,
      "grid_column": null,
      "grid_gap": null,
      "grid_row": null,
      "grid_template_areas": null,
      "grid_template_columns": null,
      "grid_template_rows": null,
      "height": null,
      "justify_content": null,
      "justify_items": null,
      "left": null,
      "margin": null,
      "max_height": null,
      "max_width": null,
      "min_height": null,
      "min_width": null,
      "object_fit": null,
      "object_position": null,
      "order": null,
      "overflow": null,
      "padding": null,
      "right": null,
      "top": null,
      "visibility": null,
      "width": null
     }
    },
    "606efeb1826c459ba1771d6fd926d329": {
     "model_module": "@jupyter-widgets/controls",
     "model_module_version": "2.0.0",
     "model_name": "HTMLModel",
     "state": {
      "_dom_classes": [],
      "_model_module": "@jupyter-widgets/controls",
      "_model_module_version": "2.0.0",
      "_model_name": "HTMLModel",
      "_view_count": null,
      "_view_module": "@jupyter-widgets/controls",
      "_view_module_version": "2.0.0",
      "_view_name": "HTMLView",
      "description": "",
      "description_allow_html": false,
      "layout": "IPY_MODEL_0f05e6e79942487084c9bd4ed3cd7ff1",
      "placeholder": "​",
      "style": "IPY_MODEL_98319eb75f224c9f93465863353c46a5",
      "tabbable": null,
      "tooltip": null,
      "value": "<center> <img\nsrc=https://huggingface.co/front/assets/huggingface_logo-noborder.svg\nalt='Hugging Face'> <br> Copy a token from <a\nhref=\"https://huggingface.co/settings/tokens\" target=\"_blank\">your Hugging Face\ntokens page</a> and paste it below. <br> Immediately click login after copying\nyour token or it might be stored in plain text in this notebook file. </center>"
     }
    },
    "7f6126a8f12b4f3faf6078869a1a4432": {
     "model_module": "@jupyter-widgets/base",
     "model_module_version": "2.0.0",
     "model_name": "LayoutModel",
     "state": {
      "_model_module": "@jupyter-widgets/base",
      "_model_module_version": "2.0.0",
      "_model_name": "LayoutModel",
      "_view_count": null,
      "_view_module": "@jupyter-widgets/base",
      "_view_module_version": "2.0.0",
      "_view_name": "LayoutView",
      "align_content": null,
      "align_items": "center",
      "align_self": null,
      "border_bottom": null,
      "border_left": null,
      "border_right": null,
      "border_top": null,
      "bottom": null,
      "display": "flex",
      "flex": null,
      "flex_flow": "column",
      "grid_area": null,
      "grid_auto_columns": null,
      "grid_auto_flow": null,
      "grid_auto_rows": null,
      "grid_column": null,
      "grid_gap": null,
      "grid_row": null,
      "grid_template_areas": null,
      "grid_template_columns": null,
      "grid_template_rows": null,
      "height": null,
      "justify_content": null,
      "justify_items": null,
      "left": null,
      "margin": null,
      "max_height": null,
      "max_width": null,
      "min_height": null,
      "min_width": null,
      "object_fit": null,
      "object_position": null,
      "order": null,
      "overflow": null,
      "padding": null,
      "right": null,
      "top": null,
      "visibility": null,
      "width": "50%"
     }
    },
    "81db6b67041043f6a3b3d8a58f14ca63": {
     "model_module": "@jupyter-widgets/base",
     "model_module_version": "2.0.0",
     "model_name": "LayoutModel",
     "state": {
      "_model_module": "@jupyter-widgets/base",
      "_model_module_version": "2.0.0",
      "_model_name": "LayoutModel",
      "_view_count": null,
      "_view_module": "@jupyter-widgets/base",
      "_view_module_version": "2.0.0",
      "_view_name": "LayoutView",
      "align_content": null,
      "align_items": null,
      "align_self": null,
      "border_bottom": null,
      "border_left": null,
      "border_right": null,
      "border_top": null,
      "bottom": null,
      "display": null,
      "flex": null,
      "flex_flow": null,
      "grid_area": null,
      "grid_auto_columns": null,
      "grid_auto_flow": null,
      "grid_auto_rows": null,
      "grid_column": null,
      "grid_gap": null,
      "grid_row": null,
      "grid_template_areas": null,
      "grid_template_columns": null,
      "grid_template_rows": null,
      "height": null,
      "justify_content": null,
      "justify_items": null,
      "left": null,
      "margin": null,
      "max_height": null,
      "max_width": null,
      "min_height": null,
      "min_width": null,
      "object_fit": null,
      "object_position": null,
      "order": null,
      "overflow": null,
      "padding": null,
      "right": null,
      "top": null,
      "visibility": null,
      "width": null
     }
    },
    "98319eb75f224c9f93465863353c46a5": {
     "model_module": "@jupyter-widgets/controls",
     "model_module_version": "2.0.0",
     "model_name": "HTMLStyleModel",
     "state": {
      "_model_module": "@jupyter-widgets/controls",
      "_model_module_version": "2.0.0",
      "_model_name": "HTMLStyleModel",
      "_view_count": null,
      "_view_module": "@jupyter-widgets/base",
      "_view_module_version": "2.0.0",
      "_view_name": "StyleView",
      "background": null,
      "description_width": "",
      "font_size": null,
      "text_color": null
     }
    },
    "b5d00f68955d4a689a48b28f11330bba": {
     "model_module": "@jupyter-widgets/controls",
     "model_module_version": "2.0.0",
     "model_name": "HTMLStyleModel",
     "state": {
      "_model_module": "@jupyter-widgets/controls",
      "_model_module_version": "2.0.0",
      "_model_name": "HTMLStyleModel",
      "_view_count": null,
      "_view_module": "@jupyter-widgets/base",
      "_view_module_version": "2.0.0",
      "_view_name": "StyleView",
      "background": null,
      "description_width": "",
      "font_size": null,
      "text_color": null
     }
    },
    "b6318afbcd844deea70723302fece9f2": {
     "model_module": "@jupyter-widgets/controls",
     "model_module_version": "2.0.0",
     "model_name": "TextStyleModel",
     "state": {
      "_model_module": "@jupyter-widgets/controls",
      "_model_module_version": "2.0.0",
      "_model_name": "TextStyleModel",
      "_view_count": null,
      "_view_module": "@jupyter-widgets/base",
      "_view_module_version": "2.0.0",
      "_view_name": "StyleView",
      "background": null,
      "description_width": "",
      "font_size": null,
      "text_color": null
     }
    },
    "ba766fec42ec4ceda9e217b83a02854d": {
     "model_module": "@jupyter-widgets/controls",
     "model_module_version": "2.0.0",
     "model_name": "HTMLModel",
     "state": {
      "_dom_classes": [],
      "_model_module": "@jupyter-widgets/controls",
      "_model_module_version": "2.0.0",
      "_model_name": "HTMLModel",
      "_view_count": null,
      "_view_module": "@jupyter-widgets/controls",
      "_view_module_version": "2.0.0",
      "_view_name": "HTMLView",
      "description": "",
      "description_allow_html": false,
      "layout": "IPY_MODEL_316d9a76c2cb4d268b4761050ff5b991",
      "placeholder": "​",
      "style": "IPY_MODEL_b5d00f68955d4a689a48b28f11330bba",
      "tabbable": null,
      "tooltip": null,
      "value": "\n<b>Pro Tip:</b> If you don't already have one, you can create a dedicated\n'notebooks' token with 'write' access, that you can then easily reuse for all\nnotebooks. </center>"
     }
    },
    "c88ba6f09ce8463383157de4b498f3a6": {
     "model_module": "@jupyter-widgets/controls",
     "model_module_version": "2.0.0",
     "model_name": "CheckboxStyleModel",
     "state": {
      "_model_module": "@jupyter-widgets/controls",
      "_model_module_version": "2.0.0",
      "_model_name": "CheckboxStyleModel",
      "_view_count": null,
      "_view_module": "@jupyter-widgets/base",
      "_view_module_version": "2.0.0",
      "_view_name": "StyleView",
      "background": null,
      "description_width": ""
     }
    },
    "cc6bcc8e06554d65b8c5d974fd1ffd2b": {
     "model_module": "@jupyter-widgets/base",
     "model_module_version": "2.0.0",
     "model_name": "LayoutModel",
     "state": {
      "_model_module": "@jupyter-widgets/base",
      "_model_module_version": "2.0.0",
      "_model_name": "LayoutModel",
      "_view_count": null,
      "_view_module": "@jupyter-widgets/base",
      "_view_module_version": "2.0.0",
      "_view_name": "LayoutView",
      "align_content": null,
      "align_items": null,
      "align_self": null,
      "border_bottom": null,
      "border_left": null,
      "border_right": null,
      "border_top": null,
      "bottom": null,
      "display": null,
      "flex": null,
      "flex_flow": null,
      "grid_area": null,
      "grid_auto_columns": null,
      "grid_auto_flow": null,
      "grid_auto_rows": null,
      "grid_column": null,
      "grid_gap": null,
      "grid_row": null,
      "grid_template_areas": null,
      "grid_template_columns": null,
      "grid_template_rows": null,
      "height": null,
      "justify_content": null,
      "justify_items": null,
      "left": null,
      "margin": null,
      "max_height": null,
      "max_width": null,
      "min_height": null,
      "min_width": null,
      "object_fit": null,
      "object_position": null,
      "order": null,
      "overflow": null,
      "padding": null,
      "right": null,
      "top": null,
      "visibility": null,
      "width": null
     }
    },
    "e8395fb3929541d999db64eca6257f53": {
     "model_module": "@jupyter-widgets/controls",
     "model_module_version": "2.0.0",
     "model_name": "ButtonStyleModel",
     "state": {
      "_model_module": "@jupyter-widgets/controls",
      "_model_module_version": "2.0.0",
      "_model_name": "ButtonStyleModel",
      "_view_count": null,
      "_view_module": "@jupyter-widgets/base",
      "_view_module_version": "2.0.0",
      "_view_name": "StyleView",
      "button_color": null,
      "font_family": null,
      "font_size": null,
      "font_style": null,
      "font_variant": null,
      "font_weight": null,
      "text_color": null,
      "text_decoration": null
     }
    },
    "ea798d8fab0044c8af4d2d5fa1c69570": {
     "model_module": "@jupyter-widgets/controls",
     "model_module_version": "2.0.0",
     "model_name": "CheckboxModel",
     "state": {
      "_dom_classes": [],
      "_model_module": "@jupyter-widgets/controls",
      "_model_module_version": "2.0.0",
      "_model_name": "CheckboxModel",
      "_view_count": null,
      "_view_module": "@jupyter-widgets/controls",
      "_view_module_version": "2.0.0",
      "_view_name": "CheckboxView",
      "description": "Add token as git credential?",
      "description_allow_html": false,
      "disabled": false,
      "indent": true,
      "layout": "IPY_MODEL_81db6b67041043f6a3b3d8a58f14ca63",
      "style": "IPY_MODEL_c88ba6f09ce8463383157de4b498f3a6",
      "tabbable": null,
      "tooltip": null,
      "value": true
     }
    }
   }
  }
 },
 "nbformat": 4,
 "nbformat_minor": 5
}

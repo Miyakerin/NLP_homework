{
 "cells": [
  {
   "cell_type": "code",
   "execution_count": 1,
   "id": "89630c80-3f2e-45a8-bfce-749c27f765cd",
   "metadata": {},
   "outputs": [],
   "source": [
    "import numpy as np\n",
    "import pandas as pd\n",
    "\n",
    "import seaborn as sns\n",
    "\n",
    "import pickle as pkl"
   ]
  },
  {
   "cell_type": "code",
   "execution_count": 2,
   "id": "5a421638-1e7e-4594-b22d-deabceee5327",
   "metadata": {},
   "outputs": [
    {
     "name": "stdout",
     "output_type": "stream",
     "text": [
      "WARNING:tensorflow:From C:\\Users\\user\\AppData\\Local\\Programs\\Python\\Python311\\Lib\\site-packages\\keras\\src\\losses.py:2976: The name tf.losses.sparse_softmax_cross_entropy is deprecated. Please use tf.compat.v1.losses.sparse_softmax_cross_entropy instead.\n",
      "\n"
     ]
    }
   ],
   "source": [
    "import keras\n",
    "from keras.callbacks import ReduceLROnPlateau\n",
    "from keras.models import Sequential\n",
    "from keras.layers import Conv1D, MaxPooling1D, LSTM, Dense, Dropout, Flatten, Activation, BatchNormalization, Conv2D, MaxPooling2D, Reshape\n",
    "from keras.callbacks import ModelCheckpoint\n",
    "\n",
    "from keras.callbacks import ReduceLROnPlateau\n",
    "from keras.initializers import glorot_uniform"
   ]
  },
  {
   "cell_type": "code",
   "execution_count": 3,
   "id": "3a650d37-b9a9-4515-8c72-09d353cb7813",
   "metadata": {},
   "outputs": [
    {
     "name": "stderr",
     "output_type": "stream",
     "text": [
      "[nltk_data] Downloading package punkt to\n",
      "[nltk_data]     C:\\Users\\user\\AppData\\Roaming\\nltk_data...\n",
      "[nltk_data]   Package punkt is already up-to-date!\n",
      "[nltk_data] Downloading package averaged_perceptron_tagger to\n",
      "[nltk_data]     C:\\Users\\user\\AppData\\Roaming\\nltk_data...\n",
      "[nltk_data]   Package averaged_perceptron_tagger is already up-to-\n",
      "[nltk_data]       date!\n",
      "[nltk_data] Downloading package wordnet to\n",
      "[nltk_data]     C:\\Users\\user\\AppData\\Roaming\\nltk_data...\n",
      "[nltk_data]   Package wordnet is already up-to-date!\n",
      "[nltk_data] Downloading package stopwords to\n",
      "[nltk_data]     C:\\Users\\user\\AppData\\Roaming\\nltk_data...\n",
      "[nltk_data]   Package stopwords is already up-to-date!\n"
     ]
    }
   ],
   "source": [
    "import nltk\n",
    "import re\n",
    "nltk.download('punkt')\n",
    "nltk.download('averaged_perceptron_tagger')\n",
    "nltk.download('wordnet')\n",
    "nltk.download('stopwords')\n",
    "\n",
    "from nltk.corpus import stopwords\n",
    "from nltk.stem import WordNetLemmatizer\n",
    "from nltk.tokenize import word_tokenize\n",
    "from nltk.stem.snowball import SnowballStemmer"
   ]
  },
  {
   "cell_type": "markdown",
   "id": "d8e8c305-3c83-4c95-8e8e-c46f04f9c979",
   "metadata": {},
   "source": [
    "# data prep"
   ]
  },
  {
   "cell_type": "code",
   "execution_count": 4,
   "id": "4d306443-bd63-4ae0-b159-693a658dfadb",
   "metadata": {},
   "outputs": [],
   "source": [
    "crowd_train = open(r'D:\\data\\serialized\\crowd_train.ser', 'rb')\n",
    "crowd_train = pkl.load(crowd_train)\n",
    "\n",
    "crowd_test = open(r'D:\\data\\serialized\\crowd_test.ser', 'rb')\n",
    "crowd_test = pkl.load(crowd_test)\n",
    "\n",
    "podcast_train = open(r'D:\\data\\serialized\\podcast_train.ser', 'rb')\n",
    "podcast_train = pkl.load(podcast_train)\n",
    "\n",
    "podcats_test = open(r'D:\\data\\serialized\\podcast_test.ser', 'rb')\n",
    "podcats_test = pkl.load(podcats_test)"
   ]
  },
  {
   "cell_type": "markdown",
   "id": "ba9c139d-3121-4243-97e3-336c47dc4ca6",
   "metadata": {},
   "source": [
    "## crowd_train"
   ]
  },
  {
   "cell_type": "code",
   "execution_count": 5,
   "id": "8c6c2dc5-cbc1-46e5-bc20-e6433eb7c861",
   "metadata": {},
   "outputs": [
    {
     "data": {
      "text/html": [
       "<div>\n",
       "<style scoped>\n",
       "    .dataframe tbody tr th:only-of-type {\n",
       "        vertical-align: middle;\n",
       "    }\n",
       "\n",
       "    .dataframe tbody tr th {\n",
       "        vertical-align: top;\n",
       "    }\n",
       "\n",
       "    .dataframe thead th {\n",
       "        text-align: right;\n",
       "    }\n",
       "</style>\n",
       "<table border=\"1\" class=\"dataframe\">\n",
       "  <thead>\n",
       "    <tr style=\"text-align: right;\">\n",
       "      <th></th>\n",
       "      <th>audio_path</th>\n",
       "      <th>duration</th>\n",
       "      <th>annotator_emo</th>\n",
       "      <th>speaker_text</th>\n",
       "      <th>mfcc</th>\n",
       "    </tr>\n",
       "  </thead>\n",
       "  <tbody>\n",
       "    <tr>\n",
       "      <th>0</th>\n",
       "      <td>D:\\data\\dusha\\crowd\\crowd_train\\wavs\\475e76f77...</td>\n",
       "      <td>2.453</td>\n",
       "      <td>angry</td>\n",
       "      <td>не надо не надо не надо не надо</td>\n",
       "      <td>[[-249.52695, -185.88918, -257.38525, -660.106...</td>\n",
       "    </tr>\n",
       "  </tbody>\n",
       "</table>\n",
       "</div>"
      ],
      "text/plain": [
       "                                          audio_path  duration annotator_emo  \\\n",
       "0  D:\\data\\dusha\\crowd\\crowd_train\\wavs\\475e76f77...     2.453         angry   \n",
       "\n",
       "                      speaker_text  \\\n",
       "0  не надо не надо не надо не надо   \n",
       "\n",
       "                                                mfcc  \n",
       "0  [[-249.52695, -185.88918, -257.38525, -660.106...  "
      ]
     },
     "execution_count": 5,
     "metadata": {},
     "output_type": "execute_result"
    }
   ],
   "source": [
    "crowd_train.head(1)"
   ]
  },
  {
   "cell_type": "code",
   "execution_count": 6,
   "id": "309abe93-1003-4530-ab20-a97773fea505",
   "metadata": {},
   "outputs": [
    {
     "data": {
      "text/plain": [
       "<Axes: >"
      ]
     },
     "execution_count": 6,
     "metadata": {},
     "output_type": "execute_result"
    },
    {
     "data": {
      "image/png": "[encoded data removed]",
      "text/plain": [
       "<Figure size 640x480 with 1 Axes>"
      ]
     },
     "metadata": {},
     "output_type": "display_data"
    }
   ],
   "source": [
    "sns.heatmap(crowd_train.isnull(), yticklabels=False, cbar=False, cmap='viridis')"
   ]
  },
  {
   "cell_type": "code",
   "execution_count": 7,
   "id": "86c09416-4cf0-46de-a792-6b983f0092ab",
   "metadata": {},
   "outputs": [],
   "source": [
    "crowd_train = crowd_train[crowd_train['mfcc'].notna()]"
   ]
  },
  {
   "cell_type": "code",
   "execution_count": 8,
   "id": "2956e569-1a9f-4c6a-b99d-9ecd80b60dba",
   "metadata": {},
   "outputs": [
    {
     "data": {
      "text/plain": [
       "<Axes: >"
      ]
     },
     "execution_count": 8,
     "metadata": {},
     "output_type": "execute_result"
    },
    {
     "data": {
      "image/png": "[encoded data removed]",
      "text/plain": [
       "<Figure size 640x480 with 1 Axes>"
      ]
     },
     "metadata": {},
     "output_type": "display_data"
    }
   ],
   "source": [
    "sns.heatmap(crowd_train.isnull(), yticklabels=False, cbar=False, cmap='viridis')"
   ]
  },
  {
   "cell_type": "code",
   "execution_count": 9,
   "id": "3bb0f872-b6ba-4bd5-8835-09513d459d06",
   "metadata": {},
   "outputs": [
    {
     "name": "stdout",
     "output_type": "stream",
     "text": [
      "len of crowd_train becomes 605943\n"
     ]
    }
   ],
   "source": [
    "print(f'len of crowd_train becomes {len(crowd_train)}')"
   ]
  },
  {
   "cell_type": "markdown",
   "id": "c55f597e-c009-4054-8695-5155cf5ffd96",
   "metadata": {},
   "source": [
    "## crowd_test"
   ]
  },
  {
   "cell_type": "code",
   "execution_count": 10,
   "id": "74da5713-fd6d-471b-9653-c106eefd6535",
   "metadata": {},
   "outputs": [
    {
     "data": {
      "text/html": [
       "<div>\n",
       "<style scoped>\n",
       "    .dataframe tbody tr th:only-of-type {\n",
       "        vertical-align: middle;\n",
       "    }\n",
       "\n",
       "    .dataframe tbody tr th {\n",
       "        vertical-align: top;\n",
       "    }\n",
       "\n",
       "    .dataframe thead th {\n",
       "        text-align: right;\n",
       "    }\n",
       "</style>\n",
       "<table border=\"1\" class=\"dataframe\">\n",
       "  <thead>\n",
       "    <tr style=\"text-align: right;\">\n",
       "      <th></th>\n",
       "      <th>audio_path</th>\n",
       "      <th>duration</th>\n",
       "      <th>annotator_emo</th>\n",
       "      <th>speaker_text</th>\n",
       "      <th>mfcc</th>\n",
       "    </tr>\n",
       "  </thead>\n",
       "  <tbody>\n",
       "    <tr>\n",
       "      <th>1</th>\n",
       "      <td>D:\\data\\dusha\\crowd\\crowd_test\\wavs\\0166f65a30...</td>\n",
       "      <td>3.7</td>\n",
       "      <td>sad</td>\n",
       "      <td>каким стал сбер</td>\n",
       "      <td>[[-949.42395, -695.3361, -579.75934, -530.3081...</td>\n",
       "    </tr>\n",
       "  </tbody>\n",
       "</table>\n",
       "</div>"
      ],
      "text/plain": [
       "                                          audio_path  duration annotator_emo  \\\n",
       "1  D:\\data\\dusha\\crowd\\crowd_test\\wavs\\0166f65a30...       3.7           sad   \n",
       "\n",
       "      speaker_text                                               mfcc  \n",
       "1  каким стал сбер  [[-949.42395, -695.3361, -579.75934, -530.3081...  "
      ]
     },
     "execution_count": 10,
     "metadata": {},
     "output_type": "execute_result"
    }
   ],
   "source": [
    "crowd_test.head(1)"
   ]
  },
  {
   "cell_type": "code",
   "execution_count": 11,
   "id": "b852e67f-9280-4c0a-b11c-edaae66085e1",
   "metadata": {},
   "outputs": [
    {
     "data": {
      "text/plain": [
       "<Axes: >"
      ]
     },
     "execution_count": 11,
     "metadata": {},
     "output_type": "execute_result"
    },
    {
     "data": {
      "image/png": "[encoded data removed]",
      "text/plain": [
       "<Figure size 640x480 with 1 Axes>"
      ]
     },
     "metadata": {},
     "output_type": "display_data"
    }
   ],
   "source": [
    "sns.heatmap(crowd_test.isnull(), yticklabels=False, cbar=False, cmap='viridis')"
   ]
  },
  {
   "cell_type": "code",
   "execution_count": 12,
   "id": "2db918ea-8aff-45f0-8ace-8ed025bbda7c",
   "metadata": {},
   "outputs": [],
   "source": [
    "crowd_test = crowd_test[crowd_test['mfcc'].notna()]"
   ]
  },
  {
   "cell_type": "code",
   "execution_count": 13,
   "id": "182f2be9-2490-4c8e-a800-2778d68f4b11",
   "metadata": {},
   "outputs": [
    {
     "data": {
      "text/plain": [
       "<Axes: >"
      ]
     },
     "execution_count": 13,
     "metadata": {},
     "output_type": "execute_result"
    },
    {
     "data": {
      "image/png": "[encoded data removed]",
      "text/plain": [
       "<Figure size 640x480 with 1 Axes>"
      ]
     },
     "metadata": {},
     "output_type": "display_data"
    }
   ],
   "source": [
    "sns.heatmap(crowd_test.isnull(), yticklabels=False, cbar=False, cmap='viridis')"
   ]
  },
  {
   "cell_type": "code",
   "execution_count": 14,
   "id": "43d80bd5-6f96-441b-a440-16e537320665",
   "metadata": {},
   "outputs": [
    {
     "name": "stdout",
     "output_type": "stream",
     "text": [
      "len of crowd_test becomes 49133\n"
     ]
    }
   ],
   "source": [
    "print(f'len of crowd_test becomes {len(crowd_test)}')"
   ]
  },
  {
   "cell_type": "markdown",
   "id": "71ac2db2-f5c4-4be6-9bbe-952796d4432c",
   "metadata": {},
   "source": [
    "## podcast_train"
   ]
  },
  {
   "cell_type": "code",
   "execution_count": 15,
   "id": "a24bb15e-1be3-4a41-aa47-cf5fd98cb2e9",
   "metadata": {},
   "outputs": [
    {
     "data": {
      "text/html": [
       "<div>\n",
       "<style scoped>\n",
       "    .dataframe tbody tr th:only-of-type {\n",
       "        vertical-align: middle;\n",
       "    }\n",
       "\n",
       "    .dataframe tbody tr th {\n",
       "        vertical-align: top;\n",
       "    }\n",
       "\n",
       "    .dataframe thead th {\n",
       "        text-align: right;\n",
       "    }\n",
       "</style>\n",
       "<table border=\"1\" class=\"dataframe\">\n",
       "  <thead>\n",
       "    <tr style=\"text-align: right;\">\n",
       "      <th></th>\n",
       "      <th>audio_path</th>\n",
       "      <th>duration</th>\n",
       "      <th>annotator_emo</th>\n",
       "      <th>speaker_text</th>\n",
       "      <th>mfcc</th>\n",
       "    </tr>\n",
       "  </thead>\n",
       "  <tbody>\n",
       "    <tr>\n",
       "      <th>0</th>\n",
       "      <td>D:\\data\\dusha\\podcast\\podcast_train\\wavs\\857b7...</td>\n",
       "      <td>4.4</td>\n",
       "      <td>neutral</td>\n",
       "      <td>NaN</td>\n",
       "      <td>None</td>\n",
       "    </tr>\n",
       "  </tbody>\n",
       "</table>\n",
       "</div>"
      ],
      "text/plain": [
       "                                          audio_path  duration annotator_emo  \\\n",
       "0  D:\\data\\dusha\\podcast\\podcast_train\\wavs\\857b7...       4.4       neutral   \n",
       "\n",
       "   speaker_text  mfcc  \n",
       "0           NaN  None  "
      ]
     },
     "execution_count": 15,
     "metadata": {},
     "output_type": "execute_result"
    }
   ],
   "source": [
    "podcast_train.head(1)"
   ]
  },
  {
   "cell_type": "code",
   "execution_count": 16,
   "id": "7e98dcfc-ee0e-4d58-8dfe-206cf5a1af4f",
   "metadata": {},
   "outputs": [
    {
     "data": {
      "text/plain": [
       "<Axes: >"
      ]
     },
     "execution_count": 16,
     "metadata": {},
     "output_type": "execute_result"
    },
    {
     "data": {
      "image/png": "[encoded data removed]",
      "text/plain": [
       "<Figure size 640x480 with 1 Axes>"
      ]
     },
     "metadata": {},
     "output_type": "display_data"
    }
   ],
   "source": [
    "sns.heatmap(podcast_train.isnull(), yticklabels=False, cbar=False, cmap='viridis')"
   ]
  },
  {
   "cell_type": "code",
   "execution_count": 17,
   "id": "d1f60f89-12ce-4e2d-980a-5cd350bc14c5",
   "metadata": {},
   "outputs": [],
   "source": [
    "podcast_train = podcast_train[podcast_train['mfcc'].notna()]"
   ]
  },
  {
   "cell_type": "code",
   "execution_count": 18,
   "id": "76f7f318-81ab-43bc-b80f-f16bd6af2a66",
   "metadata": {},
   "outputs": [
    {
     "data": {
      "text/plain": [
       "<Axes: >"
      ]
     },
     "execution_count": 18,
     "metadata": {},
     "output_type": "execute_result"
    },
    {
     "data": {
      "image/png": "[encoded data removed]",
      "text/plain": [
       "<Figure size 640x480 with 1 Axes>"
      ]
     },
     "metadata": {},
     "output_type": "display_data"
    }
   ],
   "source": [
    "sns.heatmap(podcast_train.isnull(), yticklabels=False, cbar=False, cmap='viridis')"
   ]
  },
  {
   "cell_type": "code",
   "execution_count": 19,
   "id": "b4341bba-ede4-42db-adac-859bb60e3228",
   "metadata": {},
   "outputs": [
    {
     "name": "stdout",
     "output_type": "stream",
     "text": [
      "len of podcast_train becomes 12262\n"
     ]
    }
   ],
   "source": [
    "print(f'len of podcast_train becomes {len(podcast_train)}')"
   ]
  },
  {
   "cell_type": "markdown",
   "id": "2b249c46-d87d-4550-a0b6-13508cf07236",
   "metadata": {},
   "source": [
    "## podcats_test"
   ]
  },
  {
   "cell_type": "code",
   "execution_count": 20,
   "id": "bf0ecefb-a3d2-4f33-9045-2156d5bd49ed",
   "metadata": {},
   "outputs": [
    {
     "data": {
      "text/html": [
       "<div>\n",
       "<style scoped>\n",
       "    .dataframe tbody tr th:only-of-type {\n",
       "        vertical-align: middle;\n",
       "    }\n",
       "\n",
       "    .dataframe tbody tr th {\n",
       "        vertical-align: top;\n",
       "    }\n",
       "\n",
       "    .dataframe thead th {\n",
       "        text-align: right;\n",
       "    }\n",
       "</style>\n",
       "<table border=\"1\" class=\"dataframe\">\n",
       "  <thead>\n",
       "    <tr style=\"text-align: right;\">\n",
       "      <th></th>\n",
       "      <th>audio_path</th>\n",
       "      <th>duration</th>\n",
       "      <th>annotator_emo</th>\n",
       "      <th>speaker_text</th>\n",
       "      <th>mfcc</th>\n",
       "    </tr>\n",
       "  </thead>\n",
       "  <tbody>\n",
       "    <tr>\n",
       "      <th>0</th>\n",
       "      <td>D:\\data\\dusha\\podcast\\podcast_test\\wavs\\9749f1...</td>\n",
       "      <td>3.0</td>\n",
       "      <td>neutral</td>\n",
       "      <td>NaN</td>\n",
       "      <td>None</td>\n",
       "    </tr>\n",
       "  </tbody>\n",
       "</table>\n",
       "</div>"
      ],
      "text/plain": [
       "                                          audio_path  duration annotator_emo  \\\n",
       "0  D:\\data\\dusha\\podcast\\podcast_test\\wavs\\9749f1...       3.0       neutral   \n",
       "\n",
       "   speaker_text  mfcc  \n",
       "0           NaN  None  "
      ]
     },
     "execution_count": 20,
     "metadata": {},
     "output_type": "execute_result"
    }
   ],
   "source": [
    "podcats_test.head(1)"
   ]
  },
  {
   "cell_type": "code",
   "execution_count": 21,
   "id": "d5e9857a-11d0-4977-9789-9f52c4db1dda",
   "metadata": {},
   "outputs": [
    {
     "data": {
      "text/plain": [
       "<Axes: >"
      ]
     },
     "execution_count": 21,
     "metadata": {},
     "output_type": "execute_result"
    },
    {
     "data": {
      "image/png": "[encoded data removed]",
      "text/plain": [
       "<Figure size 640x480 with 1 Axes>"
      ]
     },
     "metadata": {},
     "output_type": "display_data"
    }
   ],
   "source": [
    "sns.heatmap(podcats_test.isnull(), yticklabels=False, cbar=False, cmap='viridis')"
   ]
  },
  {
   "cell_type": "code",
   "execution_count": 22,
   "id": "2a49d166-9e43-4186-9942-0a7c9139cb66",
   "metadata": {},
   "outputs": [],
   "source": [
    "podcats_test = podcats_test[podcats_test['mfcc'].notna()]"
   ]
  },
  {
   "cell_type": "code",
   "execution_count": 23,
   "id": "1c81d41e-8cfe-4c08-8ec4-23b15f248e14",
   "metadata": {},
   "outputs": [
    {
     "name": "stdout",
     "output_type": "stream",
     "text": [
      "len of podcast_test becomes 0\n"
     ]
    }
   ],
   "source": [
    "print(f'len of podcast_test becomes {len(podcats_test)}')"
   ]
  },
  {
   "cell_type": "markdown",
   "id": "756cd877-a22d-47ed-a7e9-5b3e2fd30568",
   "metadata": {},
   "source": [
    "## datasets concat"
   ]
  },
  {
   "cell_type": "code",
   "execution_count": 24,
   "id": "ea098f29-9ad7-4693-8530-7652ce3b22d6",
   "metadata": {},
   "outputs": [],
   "source": [
    "#учитывая, что подкасты не имеют теста, то мы откажемся от их использования, также откажемся от записей, которые не содержат текста в используемых датасетах"
   ]
  },
  {
   "cell_type": "code",
   "execution_count": 25,
   "id": "28a22dc6-2dab-4397-b4c3-8c8539e0de93",
   "metadata": {},
   "outputs": [],
   "source": [
    "crowd_train = crowd_train[crowd_train['speaker_text'].notna()]\n",
    "crowd_test = crowd_test[crowd_test['speaker_text'].notna()]"
   ]
  },
  {
   "cell_type": "code",
   "execution_count": 26,
   "id": "251ad6fa-5a5d-4915-ae3a-98975ed4d28c",
   "metadata": {},
   "outputs": [
    {
     "name": "stdout",
     "output_type": "stream",
     "text": [
      "565077 48502\n"
     ]
    }
   ],
   "source": [
    "print(len(crowd_train), len(crowd_test))"
   ]
  },
  {
   "cell_type": "code",
   "execution_count": 27,
   "id": "12d5c149-f778-413d-9e4a-103eaee63fbf",
   "metadata": {},
   "outputs": [
    {
     "name": "stdout",
     "output_type": "stream",
     "text": [
      "613579\n"
     ]
    }
   ],
   "source": [
    "df = pd.concat([crowd_train, crowd_test], axis=0)\n",
    "print(len(df))"
   ]
  },
  {
   "cell_type": "code",
   "execution_count": 28,
   "id": "1b6519f8-b1b9-4339-aeba-ca91f59268c9",
   "metadata": {},
   "outputs": [],
   "source": [
    "df = df.iloc[0:2000]"
   ]
  },
  {
   "cell_type": "code",
   "execution_count": 29,
   "id": "7ab0a968-48c7-492a-b748-b45144f881b6",
   "metadata": {},
   "outputs": [],
   "source": [
    "def clean_text(text):\n",
    "    stemmer = SnowballStemmer('russian')\n",
    "    lemmatizer = WordNetLemmatizer()\n",
    "    text = re.sub(r'[^\\w\\s]', '', text)\n",
    "    text = re.sub(r'\\d+', '', text)\n",
    "    text = text.lower()\n",
    "    text = word_tokenize(text)\n",
    "    text = [lemmatizer.lemmatize(word) for word in text]\n",
    "    text = ' '.join(text)\n",
    "    text = word_tokenize(text)\n",
    "    text = [stemmer.stem(word) for word in text]\n",
    "    return text"
   ]
  },
  {
   "cell_type": "code",
   "execution_count": 30,
   "id": "5c3ee974-4a48-46b0-9e40-31ba72f6f2ca",
   "metadata": {},
   "outputs": [],
   "source": [
    "class Vocab:\n",
    "    def __init__(self, data:list, spec_symb=True): # data - list of tokens\n",
    "        self.create_tokens_set(data)\n",
    "        self.spec_list = ['<PAD>']\n",
    "\n",
    "        if spec_symb:\n",
    "            self.idx_to_token = {i+1: v for i,v in enumerate(self.tokens) if v not in spec_list}\n",
    "            self.token_to_idx = {v: i+1 for i,v in enumerate(self.tokens) if v not in spec_list}\n",
    "            self.idx_to_token[0] = '<PAD>'\n",
    "            self.token_to_idx['<PAD>'] = 0\n",
    "        else:\n",
    "            self.idx_to_token = {i: v for i,v in enumerate(self.tokens)}\n",
    "            self.token_to_idx = {v: i for i,v in enumerate(self.tokens)}\n",
    "            \n",
    "\n",
    "    def create_tokens_set(self, data):\n",
    "        self.tokens = list(set(data))\n",
    "\n",
    "    def __len__(self):\n",
    "        return len(self.token_to_idx)"
   ]
  },
  {
   "cell_type": "code",
   "execution_count": 31,
   "id": "cdf72db0-67ab-481d-87b2-2521b3b7177e",
   "metadata": {},
   "outputs": [],
   "source": [
    "def pad_text(target, max_len):\n",
    "    diff = max_len - len(target)\n",
    "    for i in range(diff):\n",
    "        target.append('<PAD>')\n",
    "    return target"
   ]
  },
  {
   "cell_type": "code",
   "execution_count": 32,
   "id": "a92bffb3-9d58-4c19-a762-213593b85ec6",
   "metadata": {},
   "outputs": [],
   "source": [
    "def label_emo(text):\n",
    "    dic = {\n",
    "        'angry': 0.0,\n",
    "        'neutral': 1.0,\n",
    "        'positive': 2.0,\n",
    "        'sad': 3.0\n",
    "    }\n",
    "    return dic[text]"
   ]
  },
  {
   "cell_type": "code",
   "execution_count": 33,
   "id": "df017945-ec40-4ee6-9c6e-596633416fb4",
   "metadata": {},
   "outputs": [],
   "source": [
    "df['new_text'] = df['speaker_text'].apply(clean_text)"
   ]
  },
  {
   "cell_type": "code",
   "execution_count": 34,
   "id": "013ebf37-2464-4feb-a215-721de8684abb",
   "metadata": {},
   "outputs": [],
   "source": [
    "max_len = len(max(df['new_text'], key=len))\n",
    "df['new_text'] = df['new_text'].apply(pad_text, max_len=max_len)"
   ]
  },
  {
   "cell_type": "code",
   "execution_count": 35,
   "id": "67778efe-020b-423b-b2f7-3ad5d501e87a",
   "metadata": {},
   "outputs": [],
   "source": [
    "df['label'] = df['annotator_emo'].apply(label_emo)"
   ]
  },
  {
   "cell_type": "code",
   "execution_count": 36,
   "id": "7dc1fd05-688d-4a36-92ed-8d825868401a",
   "metadata": {},
   "outputs": [
    {
     "data": {
      "text/html": [
       "<div>\n",
       "<style scoped>\n",
       "    .dataframe tbody tr th:only-of-type {\n",
       "        vertical-align: middle;\n",
       "    }\n",
       "\n",
       "    .dataframe tbody tr th {\n",
       "        vertical-align: top;\n",
       "    }\n",
       "\n",
       "    .dataframe thead th {\n",
       "        text-align: right;\n",
       "    }\n",
       "</style>\n",
       "<table border=\"1\" class=\"dataframe\">\n",
       "  <thead>\n",
       "    <tr style=\"text-align: right;\">\n",
       "      <th></th>\n",
       "      <th>audio_path</th>\n",
       "      <th>duration</th>\n",
       "      <th>annotator_emo</th>\n",
       "      <th>speaker_text</th>\n",
       "      <th>mfcc</th>\n",
       "      <th>new_text</th>\n",
       "      <th>label</th>\n",
       "    </tr>\n",
       "  </thead>\n",
       "  <tbody>\n",
       "    <tr>\n",
       "      <th>0</th>\n",
       "      <td>D:\\data\\dusha\\crowd\\crowd_train\\wavs\\475e76f77...</td>\n",
       "      <td>2.453000</td>\n",
       "      <td>angry</td>\n",
       "      <td>не надо не надо не надо не надо</td>\n",
       "      <td>[[-249.52695, -185.88918, -257.38525, -660.106...</td>\n",
       "      <td>[не, над, не, над, не, над, не, над, &lt;PAD&gt;, &lt;P...</td>\n",
       "      <td>0.0</td>\n",
       "    </tr>\n",
       "    <tr>\n",
       "      <th>1</th>\n",
       "      <td>D:\\data\\dusha\\crowd\\crowd_train\\wavs\\2f9438ef6...</td>\n",
       "      <td>4.640000</td>\n",
       "      <td>neutral</td>\n",
       "      <td>фозил кори mp три</td>\n",
       "      <td>[[-700.4308, -689.8955, -690.8021, -698.16614,...</td>\n",
       "      <td>[фоз, кор, mp, три, &lt;PAD&gt;, &lt;PAD&gt;, &lt;PAD&gt;, &lt;PAD&gt;...</td>\n",
       "      <td>1.0</td>\n",
       "    </tr>\n",
       "    <tr>\n",
       "      <th>3</th>\n",
       "      <td>D:\\data\\dusha\\crowd\\crowd_train\\wavs\\fb0ae7858...</td>\n",
       "      <td>3.900562</td>\n",
       "      <td>neutral</td>\n",
       "      <td>сколько стоит на керамбит</td>\n",
       "      <td>[[-540.33386, -352.6702, -221.81491, -179.7287...</td>\n",
       "      <td>[скольк, сто, на, керамб, &lt;PAD&gt;, &lt;PAD&gt;, &lt;PAD&gt;,...</td>\n",
       "      <td>1.0</td>\n",
       "    </tr>\n",
       "    <tr>\n",
       "      <th>4</th>\n",
       "      <td>D:\\data\\dusha\\crowd\\crowd_train\\wavs\\196dcf9e1...</td>\n",
       "      <td>4.780000</td>\n",
       "      <td>neutral</td>\n",
       "      <td>афина когда закончится эта телепередача</td>\n",
       "      <td>[[-946.62726, -940.5059, -940.4738, -941.41, -...</td>\n",
       "      <td>[афин, когд, законч, эт, телепередач, &lt;PAD&gt;, &lt;...</td>\n",
       "      <td>1.0</td>\n",
       "    </tr>\n",
       "    <tr>\n",
       "      <th>5</th>\n",
       "      <td>D:\\data\\dusha\\crowd\\crowd_train\\wavs\\41d7f48ca...</td>\n",
       "      <td>4.740000</td>\n",
       "      <td>neutral</td>\n",
       "      <td>где проживают дети путина тихонова и воронцова</td>\n",
       "      <td>[[-824.98334, -796.8299, -797.19135, -824.4776...</td>\n",
       "      <td>[где, прожива, дет, путин, тихонов, и, воронцо...</td>\n",
       "      <td>1.0</td>\n",
       "    </tr>\n",
       "    <tr>\n",
       "      <th>...</th>\n",
       "      <td>...</td>\n",
       "      <td>...</td>\n",
       "      <td>...</td>\n",
       "      <td>...</td>\n",
       "      <td>...</td>\n",
       "      <td>...</td>\n",
       "      <td>...</td>\n",
       "    </tr>\n",
       "    <tr>\n",
       "      <th>3689</th>\n",
       "      <td>D:\\data\\dusha\\crowd\\crowd_train\\wavs\\ba2296f83...</td>\n",
       "      <td>4.660000</td>\n",
       "      <td>neutral</td>\n",
       "      <td>ворчат войско детсадом</td>\n",
       "      <td>[[-835.06903, -738.9753, -567.72516, -470.4147...</td>\n",
       "      <td>[ворчат, войск, детсад, &lt;PAD&gt;, &lt;PAD&gt;, &lt;PAD&gt;, &lt;...</td>\n",
       "      <td>1.0</td>\n",
       "    </tr>\n",
       "    <tr>\n",
       "      <th>3690</th>\n",
       "      <td>D:\\data\\dusha\\crowd\\crowd_train\\wavs\\a23311cf2...</td>\n",
       "      <td>3.980000</td>\n",
       "      <td>angry</td>\n",
       "      <td>бестолочь ты тупоголовая</td>\n",
       "      <td>[[-502.48532, -389.21356, -395.26422, -508.955...</td>\n",
       "      <td>[бестолоч, ты, тупоголов, &lt;PAD&gt;, &lt;PAD&gt;, &lt;PAD&gt;,...</td>\n",
       "      <td>0.0</td>\n",
       "    </tr>\n",
       "    <tr>\n",
       "      <th>3691</th>\n",
       "      <td>D:\\data\\dusha\\crowd\\crowd_train\\wavs\\2f291ac58...</td>\n",
       "      <td>3.600000</td>\n",
       "      <td>neutral</td>\n",
       "      <td>закажи цветы</td>\n",
       "      <td>[[-834.9941, -839.6953, -844.76276, -841.31555...</td>\n",
       "      <td>[закаж, цвет, &lt;PAD&gt;, &lt;PAD&gt;, &lt;PAD&gt;, &lt;PAD&gt;, &lt;PAD...</td>\n",
       "      <td>1.0</td>\n",
       "    </tr>\n",
       "    <tr>\n",
       "      <th>3699</th>\n",
       "      <td>D:\\data\\dusha\\crowd\\crowd_train\\wavs\\e2e276e04...</td>\n",
       "      <td>4.320000</td>\n",
       "      <td>neutral</td>\n",
       "      <td>самоцветы</td>\n",
       "      <td>[[-641.22174, -609.0944, -565.32983, -369.6912...</td>\n",
       "      <td>[самоцвет, &lt;PAD&gt;, &lt;PAD&gt;, &lt;PAD&gt;, &lt;PAD&gt;, &lt;PAD&gt;, ...</td>\n",
       "      <td>1.0</td>\n",
       "    </tr>\n",
       "    <tr>\n",
       "      <th>3700</th>\n",
       "      <td>D:\\data\\dusha\\crowd\\crowd_train\\wavs\\8dc7b80d8...</td>\n",
       "      <td>3.830875</td>\n",
       "      <td>angry</td>\n",
       "      <td>а что блядь могло было прийти в голову</td>\n",
       "      <td>[[-673.4884, -657.88104, -633.7132, -617.14856...</td>\n",
       "      <td>[а, что, бляд, могл, был, прийт, в, голов, &lt;PA...</td>\n",
       "      <td>0.0</td>\n",
       "    </tr>\n",
       "  </tbody>\n",
       "</table>\n",
       "<p>2000 rows × 7 columns</p>\n",
       "</div>"
      ],
      "text/plain": [
       "                                             audio_path  duration  \\\n",
       "0     D:\\data\\dusha\\crowd\\crowd_train\\wavs\\475e76f77...  2.453000   \n",
       "1     D:\\data\\dusha\\crowd\\crowd_train\\wavs\\2f9438ef6...  4.640000   \n",
       "3     D:\\data\\dusha\\crowd\\crowd_train\\wavs\\fb0ae7858...  3.900562   \n",
       "4     D:\\data\\dusha\\crowd\\crowd_train\\wavs\\196dcf9e1...  4.780000   \n",
       "5     D:\\data\\dusha\\crowd\\crowd_train\\wavs\\41d7f48ca...  4.740000   \n",
       "...                                                 ...       ...   \n",
       "3689  D:\\data\\dusha\\crowd\\crowd_train\\wavs\\ba2296f83...  4.660000   \n",
       "3690  D:\\data\\dusha\\crowd\\crowd_train\\wavs\\a23311cf2...  3.980000   \n",
       "3691  D:\\data\\dusha\\crowd\\crowd_train\\wavs\\2f291ac58...  3.600000   \n",
       "3699  D:\\data\\dusha\\crowd\\crowd_train\\wavs\\e2e276e04...  4.320000   \n",
       "3700  D:\\data\\dusha\\crowd\\crowd_train\\wavs\\8dc7b80d8...  3.830875   \n",
       "\n",
       "     annotator_emo                                    speaker_text  \\\n",
       "0            angry                 не надо не надо не надо не надо   \n",
       "1          neutral                               фозил кори mp три   \n",
       "3          neutral                       сколько стоит на керамбит   \n",
       "4          neutral         афина когда закончится эта телепередача   \n",
       "5          neutral  где проживают дети путина тихонова и воронцова   \n",
       "...            ...                                             ...   \n",
       "3689       neutral                          ворчат войско детсадом   \n",
       "3690         angry                        бестолочь ты тупоголовая   \n",
       "3691       neutral                                    закажи цветы   \n",
       "3699       neutral                                       самоцветы   \n",
       "3700         angry          а что блядь могло было прийти в голову   \n",
       "\n",
       "                                                   mfcc  \\\n",
       "0     [[-249.52695, -185.88918, -257.38525, -660.106...   \n",
       "1     [[-700.4308, -689.8955, -690.8021, -698.16614,...   \n",
       "3     [[-540.33386, -352.6702, -221.81491, -179.7287...   \n",
       "4     [[-946.62726, -940.5059, -940.4738, -941.41, -...   \n",
       "5     [[-824.98334, -796.8299, -797.19135, -824.4776...   \n",
       "...                                                 ...   \n",
       "3689  [[-835.06903, -738.9753, -567.72516, -470.4147...   \n",
       "3690  [[-502.48532, -389.21356, -395.26422, -508.955...   \n",
       "3691  [[-834.9941, -839.6953, -844.76276, -841.31555...   \n",
       "3699  [[-641.22174, -609.0944, -565.32983, -369.6912...   \n",
       "3700  [[-673.4884, -657.88104, -633.7132, -617.14856...   \n",
       "\n",
       "                                               new_text  label  \n",
       "0     [не, над, не, над, не, над, не, над, <PAD>, <P...    0.0  \n",
       "1     [фоз, кор, mp, три, <PAD>, <PAD>, <PAD>, <PAD>...    1.0  \n",
       "3     [скольк, сто, на, керамб, <PAD>, <PAD>, <PAD>,...    1.0  \n",
       "4     [афин, когд, законч, эт, телепередач, <PAD>, <...    1.0  \n",
       "5     [где, прожива, дет, путин, тихонов, и, воронцо...    1.0  \n",
       "...                                                 ...    ...  \n",
       "3689  [ворчат, войск, детсад, <PAD>, <PAD>, <PAD>, <...    1.0  \n",
       "3690  [бестолоч, ты, тупоголов, <PAD>, <PAD>, <PAD>,...    0.0  \n",
       "3691  [закаж, цвет, <PAD>, <PAD>, <PAD>, <PAD>, <PAD...    1.0  \n",
       "3699  [самоцвет, <PAD>, <PAD>, <PAD>, <PAD>, <PAD>, ...    1.0  \n",
       "3700  [а, что, бляд, могл, был, прийт, в, голов, <PA...    0.0  \n",
       "\n",
       "[2000 rows x 7 columns]"
      ]
     },
     "execution_count": 36,
     "metadata": {},
     "output_type": "execute_result"
    }
   ],
   "source": [
    "df"
   ]
  },
  {
   "cell_type": "markdown",
   "id": "8173ab76-bcd2-43b8-9ffd-8982f66c6328",
   "metadata": {},
   "source": [
    "# classification"
   ]
  },
  {
   "cell_type": "code",
   "execution_count": null,
   "id": "3fe52bda-542a-457a-b9f0-1ec1b98f5e7a",
   "metadata": {},
   "outputs": [],
   "source": [
    "def create_emb(input_dim, output_dim):\n",
    "    model = "
   ]
  }
 ],
 "metadata": {
  "kernelspec": {
   "display_name": "Python 3 (ipykernel)",
   "language": "python",
   "name": "python3"
  },
  "language_info": {
   "codemirror_mode": {
    "name": "ipython",
    "version": 3
   },
   "file_extension": ".py",
   "mimetype": "text/x-python",
   "name": "python",
   "nbconvert_exporter": "python",
   "pygments_lexer": "ipython3",
   "version": "3.11.6"
  }
 },
 "nbformat": 4,
 "nbformat_minor": 5
}
